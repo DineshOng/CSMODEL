{
 "cells": [
  {
   "cell_type": "markdown",
   "metadata": {},
   "source": [
    "# Import\n",
    "Import **numpy**, **pandas** and **matplotlib**."
   ]
  },
  {
   "cell_type": "code",
   "execution_count": 1,
   "metadata": {
    "colab": {},
    "colab_type": "code",
    "id": "3lpcFkQ9nF43"
   },
   "outputs": [],
   "source": [
    "import numpy as np\n",
    "import pandas as pd\n",
    "import math\n",
    "import matplotlib.pyplot as plt\n",
    "from scipy.stats import norm\n",
    "from scipy.stats import ttest_ind\n",
    "from scipy.stats import chi2_contingency"
   ]
  },
  {
   "cell_type": "markdown",
   "metadata": {},
   "source": [
    "# The Dataset"
   ]
  },
  {
   "cell_type": "markdown",
   "metadata": {},
   "source": [
    "The dataset was initially provided by Ms. Ethel Ong for our Advanced Database (ADVANDB) class."
   ]
  },
  {
   "cell_type": "markdown",
   "metadata": {},
   "source": [
    "Both of the Marinduque and Palawan dataset was collected through a mobile application, where the head of a household would fill-up a form in an app. However, other parts of Palawan used a physical form (DILG-CBMS, 2016). Those who used a physical form in Palawan are not included in the dataset."
   ]
  },
  {
   "cell_type": "markdown",
   "metadata": {},
   "source": [
    "There are about **83** variables in the dataset, but we are only going to use only **7** variables in this study. The following are the descriptions of the variables that we are going to use:"
   ]
  },
  {
   "cell_type": "markdown",
   "metadata": {},
   "source": [
    "- **`sex`**: Sex/Gender. <br>\n",
    "&emsp; 1 - Male <br>\n",
    "&emsp; 2 - Female <br>\n",
    "- **`age_yr`**: Age.\n",
    "- **`ynotsch`**: Reason not in school. <br>\n",
    "&emsp; 1 - Schools are very far <br>\n",
    "&emsp; 2 - No school within the barangay <br>\n",
    "&emsp; 3 - No regular transportation <br>\n",
    "&emsp; 4 - High cost of education <br>\n",
    "&emsp; 5 - Illness/Disability <br>\n",
    "&emsp; 6 - Housekeeping/taking care of siblings <br>\n",
    "&emsp; 7 - Marriage <br>\n",
    "&emsp; 8 - Employment/looking for work <br>\n",
    "&emsp; 9 - Lack of personal interest <br>\n",
    "&emsp; 10 - Cannot cope with school work <br>\n",
    "&emsp; 11 - Finished schooling <br>\n",
    "&emsp; 12 - Problem with school record <br>\n",
    "&emsp; 13 - Problem with birth certificate <br>\n",
    "&emsp; 14 - Too young to go to school <br>\n",
    "&emsp; 15 - Others\n",
    "- **`educal`**: Educational Attainment. <br>\n",
    "&emsp; 0 - No Grade <br>\n",
    "&emsp; 1 - Day Care <br>\n",
    "&emsp; 2 - Nurser/Kindergarten/Preparatory <br>\n",
    "&emsp; 11 - Grade 1 <br>\n",
    "&emsp; 12 - Grade 2 <br>\n",
    "&emsp; 13 - Grade 3 <br>\n",
    "&emsp; 14 - Grade 4 <br>\n",
    "&emsp; 15 - Grade 5 <br>\n",
    "&emsp; 16 - Grade 6 <br>\n",
    "&emsp; 17 - Grade 7 <br>\n",
    "&emsp; 18 - Grade 8 <br>\n",
    "&emsp; 19 - Grade 9/3rd Year HS <br>\n",
    "&emsp; 20 - Grade 10/4th Year HS <br>\n",
    "&emsp; 21 - Grade 11 <br>\n",
    "&emsp; 22 - Grade 12 <br>\n",
    "&emsp; 23 - 1st year PS PS/N-T/TV <br>\n",
    "&emsp; 24 - 2nd year PS PS/N-T/TV <br>\n",
    "&emsp; 25 - 3rd year PS PS/N-T/TV <br>\n",
    "&emsp; 31 - 1st year College <br>\n",
    "&emsp; 32 - 2nd year College <br>\n",
    "&emsp; 33 - 3rd year College <br>\n",
    "&emsp; 34 - 4th year College or higher <br>\n",
    "&emsp; 41 - Post grad with units <br>\n",
    "&emsp; 51 - ALS Elementary <br>\n",
    "&emsp; 52 - ALS Secondary <br>\n",
    "&emsp; 53 - SPED Elementary <br>\n",
    "&emsp; 54 - SPED Secondary <br>\n",
    "&emsp; 100 - Grade school graduate <br>\n",
    "&emsp; 200 - High school graduate <br>\n",
    "&emsp; 210 - Post secondary graduate <br>\n",
    "&emsp; 300 - College graduate <br>\n",
    "&emsp; 400 - Master's/PhD graduate <br>\n",
    "- **`wagcshm`**: Total Salary in the last 12 months.\n",
    "- **`pwd_type`**: Disability type. <br>\n",
    "&emsp; 1 - Total blindness <br>\n",
    "&emsp; 2 - Partial blindness <br>\n",
    "&emsp; 3 - Low vision <br>\n",
    "&emsp; 4 - Totally deaf <br>\n",
    "&emsp; 5 - Partially deaf <br>\n",
    "&emsp; 6 - Oral defect <br>\n",
    "&emsp; 7 - One hand <br>\n",
    "&emsp; 8 - No hands <br>\n",
    "&emsp; 9 - One leg <br>\n",
    "&emsp; 10 - No legs <br>\n",
    "&emsp; 11 - Mild Cerebral palsy <br>\n",
    "&emsp; 12 - Severe Cerebral palsy <br>\n",
    "&emsp; 13 - Retarded <br>\n",
    "&emsp; 14 - Mentally ill <br>\n",
    "&emsp; 15 - Mentally retardation <br>\n",
    "&emsp; 16 - Multiple impairment <br>\n",
    "&emsp; 17 - Others <br>\n",
    "- **`voted_last_election`**: Voted last election. <br>\n",
    "&emsp; 1 - Yes <br>\n",
    "&emsp; 2 - No <br>\n",
    "&emsp; 3 - Don't know<br>"
   ]
  },
  {
   "cell_type": "markdown",
   "metadata": {},
   "source": [
    "## **Other Variables**"
   ]
  },
  {
   "cell_type": "markdown",
   "metadata": {},
   "source": [
    "Other variables and its description can be access through this PDF/link **https://tinyurl.com/cbms-data-dictionary** pp. 27-35."
   ]
  },
  {
   "cell_type": "markdown",
   "metadata": {},
   "source": [
    "# Reading the Dataset"
   ]
  },
  {
   "cell_type": "markdown",
   "metadata": {},
   "source": [
    "## Reading the `Marinduque` dataset."
   ]
  },
  {
   "cell_type": "code",
   "execution_count": 2,
   "metadata": {
    "colab": {
     "base_uri": "https://localhost:8080/",
     "height": 68
    },
    "colab_type": "code",
    "id": "c29k9WbLnnzS",
    "outputId": "7bbdb297-a3cb-42f6-8767-f074def4eb21"
   },
   "outputs": [],
   "source": [
    "marinduque_mem_df = pd.read_csv(\"hpq_mem_marinduque.csv\", dtype='unicode')"
   ]
  },
  {
   "cell_type": "code",
   "execution_count": 3,
   "metadata": {
    "colab": {
     "base_uri": "https://localhost:8080/",
     "height": 253
    },
    "colab_type": "code",
    "id": "xkG08vg0noRA",
    "outputId": "05e48d84-473a-400a-d6d5-139c8175d295"
   },
   "outputs": [],
   "source": [
    "marinduque_df = marinduque_mem_df[[\"sex\", \"age_yr\", \"ynotsch\", \"educal\", \"wagcshm\", \"pwd_type\", \"voted_last_election\"]].copy()"
   ]
  },
  {
   "cell_type": "markdown",
   "metadata": {},
   "source": [
    "Create a new column called **province** and set it as **Marinduque**. We added this column to distinguish the dataset between the two provinces."
   ]
  },
  {
   "cell_type": "code",
   "execution_count": 4,
   "metadata": {},
   "outputs": [
    {
     "data": {
      "text/html": [
       "<div>\n",
       "<style scoped>\n",
       "    .dataframe tbody tr th:only-of-type {\n",
       "        vertical-align: middle;\n",
       "    }\n",
       "\n",
       "    .dataframe tbody tr th {\n",
       "        vertical-align: top;\n",
       "    }\n",
       "\n",
       "    .dataframe thead th {\n",
       "        text-align: right;\n",
       "    }\n",
       "</style>\n",
       "<table border=\"1\" class=\"dataframe\">\n",
       "  <thead>\n",
       "    <tr style=\"text-align: right;\">\n",
       "      <th></th>\n",
       "      <th>sex</th>\n",
       "      <th>age_yr</th>\n",
       "      <th>ynotsch</th>\n",
       "      <th>educal</th>\n",
       "      <th>wagcshm</th>\n",
       "      <th>pwd_type</th>\n",
       "      <th>voted_last_election</th>\n",
       "      <th>province</th>\n",
       "    </tr>\n",
       "  </thead>\n",
       "  <tbody>\n",
       "    <tr>\n",
       "      <th>0</th>\n",
       "      <td>1</td>\n",
       "      <td>53</td>\n",
       "      <td>NaN</td>\n",
       "      <td>16</td>\n",
       "      <td>6000</td>\n",
       "      <td>NaN</td>\n",
       "      <td>1</td>\n",
       "      <td>Marinduque</td>\n",
       "    </tr>\n",
       "    <tr>\n",
       "      <th>1</th>\n",
       "      <td>2</td>\n",
       "      <td>52</td>\n",
       "      <td>NaN</td>\n",
       "      <td>16</td>\n",
       "      <td>1000</td>\n",
       "      <td>NaN</td>\n",
       "      <td>1</td>\n",
       "      <td>Marinduque</td>\n",
       "    </tr>\n",
       "    <tr>\n",
       "      <th>2</th>\n",
       "      <td>2</td>\n",
       "      <td>23</td>\n",
       "      <td>11</td>\n",
       "      <td>32</td>\n",
       "      <td>48000</td>\n",
       "      <td>NaN</td>\n",
       "      <td>2</td>\n",
       "      <td>Marinduque</td>\n",
       "    </tr>\n",
       "    <tr>\n",
       "      <th>3</th>\n",
       "      <td>1</td>\n",
       "      <td>14</td>\n",
       "      <td>NaN</td>\n",
       "      <td>17</td>\n",
       "      <td>0</td>\n",
       "      <td>NaN</td>\n",
       "      <td>NaN</td>\n",
       "      <td>Marinduque</td>\n",
       "    </tr>\n",
       "    <tr>\n",
       "      <th>4</th>\n",
       "      <td>1</td>\n",
       "      <td>12</td>\n",
       "      <td>NaN</td>\n",
       "      <td>15</td>\n",
       "      <td>0</td>\n",
       "      <td>NaN</td>\n",
       "      <td>NaN</td>\n",
       "      <td>Marinduque</td>\n",
       "    </tr>\n",
       "    <tr>\n",
       "      <th>...</th>\n",
       "      <td>...</td>\n",
       "      <td>...</td>\n",
       "      <td>...</td>\n",
       "      <td>...</td>\n",
       "      <td>...</td>\n",
       "      <td>...</td>\n",
       "      <td>...</td>\n",
       "      <td>...</td>\n",
       "    </tr>\n",
       "    <tr>\n",
       "      <th>204776</th>\n",
       "      <td>1</td>\n",
       "      <td>20</td>\n",
       "      <td>NaN</td>\n",
       "      <td>32</td>\n",
       "      <td>0</td>\n",
       "      <td>NaN</td>\n",
       "      <td>NaN</td>\n",
       "      <td>Marinduque</td>\n",
       "    </tr>\n",
       "    <tr>\n",
       "      <th>204777</th>\n",
       "      <td>1</td>\n",
       "      <td>18</td>\n",
       "      <td>NaN</td>\n",
       "      <td>20</td>\n",
       "      <td>0</td>\n",
       "      <td>NaN</td>\n",
       "      <td>NaN</td>\n",
       "      <td>Marinduque</td>\n",
       "    </tr>\n",
       "    <tr>\n",
       "      <th>204778</th>\n",
       "      <td>1</td>\n",
       "      <td>15</td>\n",
       "      <td>NaN</td>\n",
       "      <td>19</td>\n",
       "      <td>0</td>\n",
       "      <td>NaN</td>\n",
       "      <td>NaN</td>\n",
       "      <td>Marinduque</td>\n",
       "    </tr>\n",
       "    <tr>\n",
       "      <th>204779</th>\n",
       "      <td>1</td>\n",
       "      <td>13</td>\n",
       "      <td>NaN</td>\n",
       "      <td>17</td>\n",
       "      <td>0</td>\n",
       "      <td>NaN</td>\n",
       "      <td>NaN</td>\n",
       "      <td>Marinduque</td>\n",
       "    </tr>\n",
       "    <tr>\n",
       "      <th>204780</th>\n",
       "      <td>1</td>\n",
       "      <td>8</td>\n",
       "      <td>NaN</td>\n",
       "      <td>12</td>\n",
       "      <td>0</td>\n",
       "      <td>NaN</td>\n",
       "      <td>NaN</td>\n",
       "      <td>Marinduque</td>\n",
       "    </tr>\n",
       "  </tbody>\n",
       "</table>\n",
       "<p>204781 rows × 8 columns</p>\n",
       "</div>"
      ],
      "text/plain": [
       "       sex age_yr ynotsch educal wagcshm pwd_type voted_last_election  \\\n",
       "0        1     53     NaN     16    6000      NaN                   1   \n",
       "1        2     52     NaN     16    1000      NaN                   1   \n",
       "2        2     23      11     32   48000      NaN                   2   \n",
       "3        1     14     NaN     17       0      NaN                 NaN   \n",
       "4        1     12     NaN     15       0      NaN                 NaN   \n",
       "...     ..    ...     ...    ...     ...      ...                 ...   \n",
       "204776   1     20     NaN     32       0      NaN                 NaN   \n",
       "204777   1     18     NaN     20       0      NaN                 NaN   \n",
       "204778   1     15     NaN     19       0      NaN                 NaN   \n",
       "204779   1     13     NaN     17       0      NaN                 NaN   \n",
       "204780   1      8     NaN     12       0      NaN                 NaN   \n",
       "\n",
       "          province  \n",
       "0       Marinduque  \n",
       "1       Marinduque  \n",
       "2       Marinduque  \n",
       "3       Marinduque  \n",
       "4       Marinduque  \n",
       "...            ...  \n",
       "204776  Marinduque  \n",
       "204777  Marinduque  \n",
       "204778  Marinduque  \n",
       "204779  Marinduque  \n",
       "204780  Marinduque  \n",
       "\n",
       "[204781 rows x 8 columns]"
      ]
     },
     "execution_count": 4,
     "metadata": {},
     "output_type": "execute_result"
    }
   ],
   "source": [
    "marinduque_df[\"province\"] = \"Marinduque\"\n",
    "marinduque_df"
   ]
  },
  {
   "cell_type": "markdown",
   "metadata": {},
   "source": [
    "There are **204,781** observations in the **Marinduque** member record dataset."
   ]
  },
  {
   "cell_type": "markdown",
   "metadata": {},
   "source": [
    "## Reading the `Palawan` dataset"
   ]
  },
  {
   "cell_type": "code",
   "execution_count": 5,
   "metadata": {
    "colab": {
     "base_uri": "https://localhost:8080/",
     "height": 68
    },
    "colab_type": "code",
    "id": "gJHEDeTToTLO",
    "outputId": "ca7a49f9-abbb-496b-c9e2-3037247d71c4"
   },
   "outputs": [],
   "source": [
    "palawan_mem_df = pd.read_csv(\"hpq_mem_palawan.csv\", dtype='unicode')"
   ]
  },
  {
   "cell_type": "code",
   "execution_count": 6,
   "metadata": {
    "colab": {
     "base_uri": "https://localhost:8080/",
     "height": 253
    },
    "colab_type": "code",
    "id": "cGgR4_M8ny0t",
    "outputId": "0c1b2079-f49f-455f-92ba-30caa72a75c0"
   },
   "outputs": [],
   "source": [
    "palawan_df = palawan_mem_df[[\"sex\", \"age_yr\", \"ynotsch\", \"educal\", \"wagcshm\", \"pwd_type\", \"voted_last_election\"]].copy()"
   ]
  },
  {
   "cell_type": "markdown",
   "metadata": {},
   "source": [
    "Again, create a new column called **province** and set it as **Palawan**."
   ]
  },
  {
   "cell_type": "code",
   "execution_count": 7,
   "metadata": {},
   "outputs": [
    {
     "data": {
      "text/html": [
       "<div>\n",
       "<style scoped>\n",
       "    .dataframe tbody tr th:only-of-type {\n",
       "        vertical-align: middle;\n",
       "    }\n",
       "\n",
       "    .dataframe tbody tr th {\n",
       "        vertical-align: top;\n",
       "    }\n",
       "\n",
       "    .dataframe thead th {\n",
       "        text-align: right;\n",
       "    }\n",
       "</style>\n",
       "<table border=\"1\" class=\"dataframe\">\n",
       "  <thead>\n",
       "    <tr style=\"text-align: right;\">\n",
       "      <th></th>\n",
       "      <th>sex</th>\n",
       "      <th>age_yr</th>\n",
       "      <th>ynotsch</th>\n",
       "      <th>educal</th>\n",
       "      <th>wagcshm</th>\n",
       "      <th>pwd_type</th>\n",
       "      <th>voted_last_election</th>\n",
       "      <th>province</th>\n",
       "    </tr>\n",
       "  </thead>\n",
       "  <tbody>\n",
       "    <tr>\n",
       "      <th>0</th>\n",
       "      <td>1</td>\n",
       "      <td>57</td>\n",
       "      <td>15</td>\n",
       "      <td>14</td>\n",
       "      <td>0</td>\n",
       "      <td>NaN</td>\n",
       "      <td>1</td>\n",
       "      <td>Palawan</td>\n",
       "    </tr>\n",
       "    <tr>\n",
       "      <th>1</th>\n",
       "      <td>2</td>\n",
       "      <td>46</td>\n",
       "      <td>15</td>\n",
       "      <td>16</td>\n",
       "      <td>0</td>\n",
       "      <td>NaN</td>\n",
       "      <td>1</td>\n",
       "      <td>Palawan</td>\n",
       "    </tr>\n",
       "    <tr>\n",
       "      <th>2</th>\n",
       "      <td>2</td>\n",
       "      <td>21</td>\n",
       "      <td>NaN</td>\n",
       "      <td>19</td>\n",
       "      <td>0</td>\n",
       "      <td>NaN</td>\n",
       "      <td>1</td>\n",
       "      <td>Palawan</td>\n",
       "    </tr>\n",
       "    <tr>\n",
       "      <th>3</th>\n",
       "      <td>1</td>\n",
       "      <td>16</td>\n",
       "      <td>1</td>\n",
       "      <td>16</td>\n",
       "      <td>0</td>\n",
       "      <td>NaN</td>\n",
       "      <td>2</td>\n",
       "      <td>Palawan</td>\n",
       "    </tr>\n",
       "    <tr>\n",
       "      <th>4</th>\n",
       "      <td>1</td>\n",
       "      <td>11</td>\n",
       "      <td>NaN</td>\n",
       "      <td>15</td>\n",
       "      <td>0</td>\n",
       "      <td>NaN</td>\n",
       "      <td>NaN</td>\n",
       "      <td>Palawan</td>\n",
       "    </tr>\n",
       "    <tr>\n",
       "      <th>...</th>\n",
       "      <td>...</td>\n",
       "      <td>...</td>\n",
       "      <td>...</td>\n",
       "      <td>...</td>\n",
       "      <td>...</td>\n",
       "      <td>...</td>\n",
       "      <td>...</td>\n",
       "      <td>...</td>\n",
       "    </tr>\n",
       "    <tr>\n",
       "      <th>459097</th>\n",
       "      <td>1</td>\n",
       "      <td>29</td>\n",
       "      <td>8</td>\n",
       "      <td>200</td>\n",
       "      <td>0</td>\n",
       "      <td>NaN</td>\n",
       "      <td>1</td>\n",
       "      <td>Palawan</td>\n",
       "    </tr>\n",
       "    <tr>\n",
       "      <th>459098</th>\n",
       "      <td>2</td>\n",
       "      <td>26</td>\n",
       "      <td>4</td>\n",
       "      <td>200</td>\n",
       "      <td>0</td>\n",
       "      <td>NaN</td>\n",
       "      <td>2</td>\n",
       "      <td>Palawan</td>\n",
       "    </tr>\n",
       "    <tr>\n",
       "      <th>459099</th>\n",
       "      <td>2</td>\n",
       "      <td>17</td>\n",
       "      <td>NaN</td>\n",
       "      <td>19</td>\n",
       "      <td>0</td>\n",
       "      <td>NaN</td>\n",
       "      <td>1</td>\n",
       "      <td>Palawan</td>\n",
       "    </tr>\n",
       "    <tr>\n",
       "      <th>459100</th>\n",
       "      <td>2</td>\n",
       "      <td>21</td>\n",
       "      <td>6</td>\n",
       "      <td>210</td>\n",
       "      <td>0</td>\n",
       "      <td>NaN</td>\n",
       "      <td>1</td>\n",
       "      <td>Palawan</td>\n",
       "    </tr>\n",
       "    <tr>\n",
       "      <th>459101</th>\n",
       "      <td>2</td>\n",
       "      <td>1</td>\n",
       "      <td>NaN</td>\n",
       "      <td>NaN</td>\n",
       "      <td>0</td>\n",
       "      <td>NaN</td>\n",
       "      <td>NaN</td>\n",
       "      <td>Palawan</td>\n",
       "    </tr>\n",
       "  </tbody>\n",
       "</table>\n",
       "<p>459102 rows × 8 columns</p>\n",
       "</div>"
      ],
      "text/plain": [
       "       sex age_yr ynotsch educal wagcshm pwd_type voted_last_election province\n",
       "0        1     57      15     14       0      NaN                   1  Palawan\n",
       "1        2     46      15     16       0      NaN                   1  Palawan\n",
       "2        2     21     NaN     19       0      NaN                   1  Palawan\n",
       "3        1     16       1     16       0      NaN                   2  Palawan\n",
       "4        1     11     NaN     15       0      NaN                 NaN  Palawan\n",
       "...     ..    ...     ...    ...     ...      ...                 ...      ...\n",
       "459097   1     29       8    200       0      NaN                   1  Palawan\n",
       "459098   2     26       4    200       0      NaN                   2  Palawan\n",
       "459099   2     17     NaN     19       0      NaN                   1  Palawan\n",
       "459100   2     21       6    210       0      NaN                   1  Palawan\n",
       "459101   2      1     NaN    NaN       0      NaN                 NaN  Palawan\n",
       "\n",
       "[459102 rows x 8 columns]"
      ]
     },
     "execution_count": 7,
     "metadata": {},
     "output_type": "execute_result"
    }
   ],
   "source": [
    "palawan_df[\"province\"] = \"Palawan\"\n",
    "palawan_df"
   ]
  },
  {
   "cell_type": "markdown",
   "metadata": {},
   "source": [
    "There are **459,102** observations in the **Palawan** member record dataset."
   ]
  },
  {
   "cell_type": "markdown",
   "metadata": {},
   "source": [
    "## Merging the Two Dataset"
   ]
  },
  {
   "cell_type": "code",
   "execution_count": 8,
   "metadata": {
    "colab": {
     "base_uri": "https://localhost:8080/",
     "height": 439
    },
    "colab_type": "code",
    "id": "HcWZJ2oTpqAM",
    "outputId": "24234bbd-5bc5-40dc-a63c-193408d2f0b9"
   },
   "outputs": [
    {
     "data": {
      "text/html": [
       "<div>\n",
       "<style scoped>\n",
       "    .dataframe tbody tr th:only-of-type {\n",
       "        vertical-align: middle;\n",
       "    }\n",
       "\n",
       "    .dataframe tbody tr th {\n",
       "        vertical-align: top;\n",
       "    }\n",
       "\n",
       "    .dataframe thead th {\n",
       "        text-align: right;\n",
       "    }\n",
       "</style>\n",
       "<table border=\"1\" class=\"dataframe\">\n",
       "  <thead>\n",
       "    <tr style=\"text-align: right;\">\n",
       "      <th></th>\n",
       "      <th>sex</th>\n",
       "      <th>age_yr</th>\n",
       "      <th>ynotsch</th>\n",
       "      <th>educal</th>\n",
       "      <th>wagcshm</th>\n",
       "      <th>pwd_type</th>\n",
       "      <th>voted_last_election</th>\n",
       "      <th>province</th>\n",
       "    </tr>\n",
       "  </thead>\n",
       "  <tbody>\n",
       "    <tr>\n",
       "      <th>0</th>\n",
       "      <td>1</td>\n",
       "      <td>57</td>\n",
       "      <td>15</td>\n",
       "      <td>14</td>\n",
       "      <td>0</td>\n",
       "      <td>NaN</td>\n",
       "      <td>1</td>\n",
       "      <td>Palawan</td>\n",
       "    </tr>\n",
       "    <tr>\n",
       "      <th>1</th>\n",
       "      <td>2</td>\n",
       "      <td>46</td>\n",
       "      <td>15</td>\n",
       "      <td>16</td>\n",
       "      <td>0</td>\n",
       "      <td>NaN</td>\n",
       "      <td>1</td>\n",
       "      <td>Palawan</td>\n",
       "    </tr>\n",
       "    <tr>\n",
       "      <th>2</th>\n",
       "      <td>2</td>\n",
       "      <td>21</td>\n",
       "      <td>NaN</td>\n",
       "      <td>19</td>\n",
       "      <td>0</td>\n",
       "      <td>NaN</td>\n",
       "      <td>1</td>\n",
       "      <td>Palawan</td>\n",
       "    </tr>\n",
       "    <tr>\n",
       "      <th>3</th>\n",
       "      <td>1</td>\n",
       "      <td>16</td>\n",
       "      <td>1</td>\n",
       "      <td>16</td>\n",
       "      <td>0</td>\n",
       "      <td>NaN</td>\n",
       "      <td>2</td>\n",
       "      <td>Palawan</td>\n",
       "    </tr>\n",
       "    <tr>\n",
       "      <th>4</th>\n",
       "      <td>1</td>\n",
       "      <td>11</td>\n",
       "      <td>NaN</td>\n",
       "      <td>15</td>\n",
       "      <td>0</td>\n",
       "      <td>NaN</td>\n",
       "      <td>NaN</td>\n",
       "      <td>Palawan</td>\n",
       "    </tr>\n",
       "    <tr>\n",
       "      <th>...</th>\n",
       "      <td>...</td>\n",
       "      <td>...</td>\n",
       "      <td>...</td>\n",
       "      <td>...</td>\n",
       "      <td>...</td>\n",
       "      <td>...</td>\n",
       "      <td>...</td>\n",
       "      <td>...</td>\n",
       "    </tr>\n",
       "    <tr>\n",
       "      <th>663878</th>\n",
       "      <td>1</td>\n",
       "      <td>20</td>\n",
       "      <td>NaN</td>\n",
       "      <td>32</td>\n",
       "      <td>0</td>\n",
       "      <td>NaN</td>\n",
       "      <td>NaN</td>\n",
       "      <td>Marinduque</td>\n",
       "    </tr>\n",
       "    <tr>\n",
       "      <th>663879</th>\n",
       "      <td>1</td>\n",
       "      <td>18</td>\n",
       "      <td>NaN</td>\n",
       "      <td>20</td>\n",
       "      <td>0</td>\n",
       "      <td>NaN</td>\n",
       "      <td>NaN</td>\n",
       "      <td>Marinduque</td>\n",
       "    </tr>\n",
       "    <tr>\n",
       "      <th>663880</th>\n",
       "      <td>1</td>\n",
       "      <td>15</td>\n",
       "      <td>NaN</td>\n",
       "      <td>19</td>\n",
       "      <td>0</td>\n",
       "      <td>NaN</td>\n",
       "      <td>NaN</td>\n",
       "      <td>Marinduque</td>\n",
       "    </tr>\n",
       "    <tr>\n",
       "      <th>663881</th>\n",
       "      <td>1</td>\n",
       "      <td>13</td>\n",
       "      <td>NaN</td>\n",
       "      <td>17</td>\n",
       "      <td>0</td>\n",
       "      <td>NaN</td>\n",
       "      <td>NaN</td>\n",
       "      <td>Marinduque</td>\n",
       "    </tr>\n",
       "    <tr>\n",
       "      <th>663882</th>\n",
       "      <td>1</td>\n",
       "      <td>8</td>\n",
       "      <td>NaN</td>\n",
       "      <td>12</td>\n",
       "      <td>0</td>\n",
       "      <td>NaN</td>\n",
       "      <td>NaN</td>\n",
       "      <td>Marinduque</td>\n",
       "    </tr>\n",
       "  </tbody>\n",
       "</table>\n",
       "<p>663883 rows × 8 columns</p>\n",
       "</div>"
      ],
      "text/plain": [
       "       sex age_yr ynotsch educal wagcshm pwd_type voted_last_election  \\\n",
       "0        1     57      15     14       0      NaN                   1   \n",
       "1        2     46      15     16       0      NaN                   1   \n",
       "2        2     21     NaN     19       0      NaN                   1   \n",
       "3        1     16       1     16       0      NaN                   2   \n",
       "4        1     11     NaN     15       0      NaN                 NaN   \n",
       "...     ..    ...     ...    ...     ...      ...                 ...   \n",
       "663878   1     20     NaN     32       0      NaN                 NaN   \n",
       "663879   1     18     NaN     20       0      NaN                 NaN   \n",
       "663880   1     15     NaN     19       0      NaN                 NaN   \n",
       "663881   1     13     NaN     17       0      NaN                 NaN   \n",
       "663882   1      8     NaN     12       0      NaN                 NaN   \n",
       "\n",
       "          province  \n",
       "0          Palawan  \n",
       "1          Palawan  \n",
       "2          Palawan  \n",
       "3          Palawan  \n",
       "4          Palawan  \n",
       "...            ...  \n",
       "663878  Marinduque  \n",
       "663879  Marinduque  \n",
       "663880  Marinduque  \n",
       "663881  Marinduque  \n",
       "663882  Marinduque  \n",
       "\n",
       "[663883 rows x 8 columns]"
      ]
     },
     "execution_count": 8,
     "metadata": {},
     "output_type": "execute_result"
    }
   ],
   "source": [
    "all_df = palawan_df.append(marinduque_df, ignore_index=True)\n",
    "all_df"
   ]
  },
  {
   "cell_type": "markdown",
   "metadata": {},
   "source": [
    "Merging the 2 dataset gives us **663,883** observations."
   ]
  },
  {
   "cell_type": "markdown",
   "metadata": {},
   "source": [
    "# Cleaning the Dataset"
   ]
  },
  {
   "cell_type": "markdown",
   "metadata": {},
   "source": [
    "## `sex` variable - Sex/Gender"
   ]
  },
  {
   "cell_type": "markdown",
   "metadata": {},
   "source": [
    "We check if the values for the variable **sex** is either **1** or **2**."
   ]
  },
  {
   "cell_type": "code",
   "execution_count": 9,
   "metadata": {},
   "outputs": [
    {
     "data": {
      "text/plain": [
       "array(['1', '2', '7/23/2003'], dtype=object)"
      ]
     },
     "execution_count": 9,
     "metadata": {},
     "output_type": "execute_result"
    }
   ],
   "source": [
    "all_df[\"sex\"].unique()"
   ]
  },
  {
   "cell_type": "markdown",
   "metadata": {},
   "source": [
    "We now map **1** to **Male** and **2** to **Female**."
   ]
  },
  {
   "cell_type": "code",
   "execution_count": 10,
   "metadata": {},
   "outputs": [],
   "source": [
    "all_df['sex'] = all_df['sex'].map({'1': 'Male', '2': 'Female'})"
   ]
  },
  {
   "cell_type": "markdown",
   "metadata": {},
   "source": [
    "We check again if the mapping was executed successfully."
   ]
  },
  {
   "cell_type": "code",
   "execution_count": 11,
   "metadata": {},
   "outputs": [
    {
     "data": {
      "text/plain": [
       "array(['Male', 'Female', nan], dtype=object)"
      ]
     },
     "execution_count": 11,
     "metadata": {},
     "output_type": "execute_result"
    }
   ],
   "source": [
    "all_df[\"sex\"].unique()"
   ]
  },
  {
   "cell_type": "markdown",
   "metadata": {},
   "source": [
    "We now drop the observations with **null** values in the **sex** variable."
   ]
  },
  {
   "cell_type": "code",
   "execution_count": 12,
   "metadata": {},
   "outputs": [],
   "source": [
    "all_df = all_df.dropna(subset=['sex'])"
   ]
  },
  {
   "cell_type": "markdown",
   "metadata": {},
   "source": [
    "We check if null values were successfully dropped."
   ]
  },
  {
   "cell_type": "code",
   "execution_count": 13,
   "metadata": {},
   "outputs": [
    {
     "data": {
      "text/plain": [
       "array(['Male', 'Female'], dtype=object)"
      ]
     },
     "execution_count": 13,
     "metadata": {},
     "output_type": "execute_result"
    }
   ],
   "source": [
    "all_df[\"sex\"].unique()"
   ]
  },
  {
   "cell_type": "markdown",
   "metadata": {},
   "source": [
    "## `age_yr` variable - Age"
   ]
  },
  {
   "cell_type": "markdown",
   "metadata": {},
   "source": [
    "We check if there are any **null** values in the variable **age**."
   ]
  },
  {
   "cell_type": "code",
   "execution_count": 14,
   "metadata": {},
   "outputs": [
    {
     "data": {
      "text/plain": [
       "False"
      ]
     },
     "execution_count": 14,
     "metadata": {},
     "output_type": "execute_result"
    }
   ],
   "source": [
    "all_df[\"age_yr\"].isnull().any()"
   ]
  },
  {
   "cell_type": "markdown",
   "metadata": {},
   "source": [
    "There are'nt any null values in the variable **age**. Now, we check what is/are data type/s of the variable **age**."
   ]
  },
  {
   "cell_type": "code",
   "execution_count": 15,
   "metadata": {},
   "outputs": [
    {
     "data": {
      "text/plain": [
       "<class 'str'>    663882\n",
       "Name: age_yr, dtype: int64"
      ]
     },
     "execution_count": 15,
     "metadata": {},
     "output_type": "execute_result"
    }
   ],
   "source": [
    "all_df['age_yr'].apply(type).value_counts()"
   ]
  },
  {
   "cell_type": "markdown",
   "metadata": {},
   "source": [
    "Based on the result, the variable **age** is in **string** format. We now change the data type of variable **age** from **string** to **integer**."
   ]
  },
  {
   "cell_type": "code",
   "execution_count": 16,
   "metadata": {},
   "outputs": [
    {
     "name": "stderr",
     "output_type": "stream",
     "text": [
      "<ipython-input-16-7bb2fee67357>:1: SettingWithCopyWarning: \n",
      "A value is trying to be set on a copy of a slice from a DataFrame.\n",
      "Try using .loc[row_indexer,col_indexer] = value instead\n",
      "\n",
      "See the caveats in the documentation: https://pandas.pydata.org/pandas-docs/stable/user_guide/indexing.html#returning-a-view-versus-a-copy\n",
      "  all_df['age_yr'] = all_df['age_yr'].astype(int)\n"
     ]
    }
   ],
   "source": [
    "all_df['age_yr'] = all_df['age_yr'].astype(int)"
   ]
  },
  {
   "cell_type": "markdown",
   "metadata": {},
   "source": [
    "We will now use **box plot** to see if there are any **outliers** in the variable **age**."
   ]
  },
  {
   "cell_type": "code",
   "execution_count": 17,
   "metadata": {},
   "outputs": [
    {
     "data": {
      "text/plain": [
       "Text(0.5, 1.0, 'Age boxplot')"
      ]
     },
     "execution_count": 17,
     "metadata": {},
     "output_type": "execute_result"
    },
    {
     "data": {
      "image/png": "[encoded data removed]",
      "text/plain": [
       "<Figure size 432x288 with 1 Axes>"
      ]
     },
     "metadata": {
      "needs_background": "light"
     },
     "output_type": "display_data"
    }
   ],
   "source": [
    "all_df.boxplot(column=\"age_yr\")\n",
    "plt.title(\"Age boxplot\")"
   ]
  },
  {
   "cell_type": "markdown",
   "metadata": {},
   "source": [
    "We can see in the box plot that there are several **outliers** in the variable **age**. We will now see what are these values."
   ]
  },
  {
   "cell_type": "code",
   "execution_count": 18,
   "metadata": {},
   "outputs": [
    {
     "data": {
      "text/plain": [
       "379071    125\n",
       "330357    126\n",
       "350052    129\n",
       "243909    130\n",
       "190761    136\n",
       "511586    146\n",
       "388241    148\n",
       "378995    238\n",
       "322254    319\n",
       "117623    321\n",
       "383780    325\n",
       "361957    346\n",
       "233445    346\n",
       "466060    354\n",
       "380757    355\n",
       "382341    355\n",
       "182077    361\n",
       "469267    369\n",
       "416659    369\n",
       "226332    381\n",
       "172461    925\n",
       "414833    927\n",
       "377107    953\n",
       "256153    957\n",
       "479404    961\n",
       "Name: age_yr, dtype: int32"
      ]
     },
     "execution_count": 18,
     "metadata": {},
     "output_type": "execute_result"
    }
   ],
   "source": [
    "all_df.sort_values('age_yr')['age_yr'].tail(25)"
   ]
  },
  {
   "cell_type": "markdown",
   "metadata": {},
   "source": [
    "We now **drop** these observations whose **age** are **greater than 120**."
   ]
  },
  {
   "cell_type": "code",
   "execution_count": 19,
   "metadata": {},
   "outputs": [],
   "source": [
    "all_df = all_df.drop(all_df[all_df['age_yr'] > 120].index)"
   ]
  },
  {
   "cell_type": "markdown",
   "metadata": {},
   "source": [
    "Let us see now what is the **max** value of **age** in the dataset."
   ]
  },
  {
   "cell_type": "code",
   "execution_count": 20,
   "metadata": {},
   "outputs": [
    {
     "data": {
      "text/plain": [
       "119"
      ]
     },
     "execution_count": 20,
     "metadata": {},
     "output_type": "execute_result"
    }
   ],
   "source": [
    "all_df['age_yr'].max()"
   ]
  },
  {
   "cell_type": "markdown",
   "metadata": {},
   "source": [
    "**119** is now the max age in our dataset. We now run the **box plot** again."
   ]
  },
  {
   "cell_type": "code",
   "execution_count": 21,
   "metadata": {},
   "outputs": [
    {
     "data": {
      "text/plain": [
       "Text(0.5, 1.0, 'Age boxplot')"
      ]
     },
     "execution_count": 21,
     "metadata": {},
     "output_type": "execute_result"
    },
    {
     "data": {
      "image/png": "[encoded data removed]",
      "text/plain": [
       "<Figure size 432x288 with 1 Axes>"
      ]
     },
     "metadata": {
      "needs_background": "light"
     },
     "output_type": "display_data"
    }
   ],
   "source": [
    "all_df.boxplot(column=\"age_yr\")\n",
    "plt.title(\"Age boxplot\")"
   ]
  },
  {
   "cell_type": "markdown",
   "metadata": {},
   "source": [
    "Based on the box plot, we can see that the **extreme outliers** are now **gone**. In the box plot, we can also see that the **median** is around **21** years old."
   ]
  },
  {
   "cell_type": "markdown",
   "metadata": {},
   "source": [
    "We now apply binning in the variable **age** and create a column called **age_group**."
   ]
  },
  {
   "cell_type": "code",
   "execution_count": 22,
   "metadata": {},
   "outputs": [
    {
     "data": {
      "text/html": [
       "<div>\n",
       "<style scoped>\n",
       "    .dataframe tbody tr th:only-of-type {\n",
       "        vertical-align: middle;\n",
       "    }\n",
       "\n",
       "    .dataframe tbody tr th {\n",
       "        vertical-align: top;\n",
       "    }\n",
       "\n",
       "    .dataframe thead th {\n",
       "        text-align: right;\n",
       "    }\n",
       "</style>\n",
       "<table border=\"1\" class=\"dataframe\">\n",
       "  <thead>\n",
       "    <tr style=\"text-align: right;\">\n",
       "      <th></th>\n",
       "      <th>sex</th>\n",
       "      <th>age_yr</th>\n",
       "      <th>ynotsch</th>\n",
       "      <th>educal</th>\n",
       "      <th>wagcshm</th>\n",
       "      <th>pwd_type</th>\n",
       "      <th>voted_last_election</th>\n",
       "      <th>province</th>\n",
       "      <th>age_group</th>\n",
       "    </tr>\n",
       "  </thead>\n",
       "  <tbody>\n",
       "    <tr>\n",
       "      <th>0</th>\n",
       "      <td>Male</td>\n",
       "      <td>57</td>\n",
       "      <td>15</td>\n",
       "      <td>14</td>\n",
       "      <td>0</td>\n",
       "      <td>NaN</td>\n",
       "      <td>1</td>\n",
       "      <td>Palawan</td>\n",
       "      <td>55-60</td>\n",
       "    </tr>\n",
       "    <tr>\n",
       "      <th>1</th>\n",
       "      <td>Female</td>\n",
       "      <td>46</td>\n",
       "      <td>15</td>\n",
       "      <td>16</td>\n",
       "      <td>0</td>\n",
       "      <td>NaN</td>\n",
       "      <td>1</td>\n",
       "      <td>Palawan</td>\n",
       "      <td>44-48</td>\n",
       "    </tr>\n",
       "    <tr>\n",
       "      <th>2</th>\n",
       "      <td>Female</td>\n",
       "      <td>21</td>\n",
       "      <td>NaN</td>\n",
       "      <td>19</td>\n",
       "      <td>0</td>\n",
       "      <td>NaN</td>\n",
       "      <td>1</td>\n",
       "      <td>Palawan</td>\n",
       "      <td>18-24</td>\n",
       "    </tr>\n",
       "    <tr>\n",
       "      <th>3</th>\n",
       "      <td>Male</td>\n",
       "      <td>16</td>\n",
       "      <td>1</td>\n",
       "      <td>16</td>\n",
       "      <td>0</td>\n",
       "      <td>NaN</td>\n",
       "      <td>2</td>\n",
       "      <td>Palawan</td>\n",
       "      <td>13-17</td>\n",
       "    </tr>\n",
       "    <tr>\n",
       "      <th>4</th>\n",
       "      <td>Male</td>\n",
       "      <td>11</td>\n",
       "      <td>NaN</td>\n",
       "      <td>15</td>\n",
       "      <td>0</td>\n",
       "      <td>NaN</td>\n",
       "      <td>NaN</td>\n",
       "      <td>Palawan</td>\n",
       "      <td>7-12</td>\n",
       "    </tr>\n",
       "    <tr>\n",
       "      <th>...</th>\n",
       "      <td>...</td>\n",
       "      <td>...</td>\n",
       "      <td>...</td>\n",
       "      <td>...</td>\n",
       "      <td>...</td>\n",
       "      <td>...</td>\n",
       "      <td>...</td>\n",
       "      <td>...</td>\n",
       "      <td>...</td>\n",
       "    </tr>\n",
       "    <tr>\n",
       "      <th>663878</th>\n",
       "      <td>Male</td>\n",
       "      <td>20</td>\n",
       "      <td>NaN</td>\n",
       "      <td>32</td>\n",
       "      <td>0</td>\n",
       "      <td>NaN</td>\n",
       "      <td>NaN</td>\n",
       "      <td>Marinduque</td>\n",
       "      <td>18-24</td>\n",
       "    </tr>\n",
       "    <tr>\n",
       "      <th>663879</th>\n",
       "      <td>Male</td>\n",
       "      <td>18</td>\n",
       "      <td>NaN</td>\n",
       "      <td>20</td>\n",
       "      <td>0</td>\n",
       "      <td>NaN</td>\n",
       "      <td>NaN</td>\n",
       "      <td>Marinduque</td>\n",
       "      <td>18-24</td>\n",
       "    </tr>\n",
       "    <tr>\n",
       "      <th>663880</th>\n",
       "      <td>Male</td>\n",
       "      <td>15</td>\n",
       "      <td>NaN</td>\n",
       "      <td>19</td>\n",
       "      <td>0</td>\n",
       "      <td>NaN</td>\n",
       "      <td>NaN</td>\n",
       "      <td>Marinduque</td>\n",
       "      <td>13-17</td>\n",
       "    </tr>\n",
       "    <tr>\n",
       "      <th>663881</th>\n",
       "      <td>Male</td>\n",
       "      <td>13</td>\n",
       "      <td>NaN</td>\n",
       "      <td>17</td>\n",
       "      <td>0</td>\n",
       "      <td>NaN</td>\n",
       "      <td>NaN</td>\n",
       "      <td>Marinduque</td>\n",
       "      <td>13-17</td>\n",
       "    </tr>\n",
       "    <tr>\n",
       "      <th>663882</th>\n",
       "      <td>Male</td>\n",
       "      <td>8</td>\n",
       "      <td>NaN</td>\n",
       "      <td>12</td>\n",
       "      <td>0</td>\n",
       "      <td>NaN</td>\n",
       "      <td>NaN</td>\n",
       "      <td>Marinduque</td>\n",
       "      <td>7-12</td>\n",
       "    </tr>\n",
       "  </tbody>\n",
       "</table>\n",
       "<p>663856 rows × 9 columns</p>\n",
       "</div>"
      ],
      "text/plain": [
       "           sex  age_yr ynotsch educal wagcshm pwd_type voted_last_election  \\\n",
       "0         Male      57      15     14       0      NaN                   1   \n",
       "1       Female      46      15     16       0      NaN                   1   \n",
       "2       Female      21     NaN     19       0      NaN                   1   \n",
       "3         Male      16       1     16       0      NaN                   2   \n",
       "4         Male      11     NaN     15       0      NaN                 NaN   \n",
       "...        ...     ...     ...    ...     ...      ...                 ...   \n",
       "663878    Male      20     NaN     32       0      NaN                 NaN   \n",
       "663879    Male      18     NaN     20       0      NaN                 NaN   \n",
       "663880    Male      15     NaN     19       0      NaN                 NaN   \n",
       "663881    Male      13     NaN     17       0      NaN                 NaN   \n",
       "663882    Male       8     NaN     12       0      NaN                 NaN   \n",
       "\n",
       "          province age_group  \n",
       "0          Palawan     55-60  \n",
       "1          Palawan     44-48  \n",
       "2          Palawan     18-24  \n",
       "3          Palawan     13-17  \n",
       "4          Palawan      7-12  \n",
       "...            ...       ...  \n",
       "663878  Marinduque     18-24  \n",
       "663879  Marinduque     18-24  \n",
       "663880  Marinduque     13-17  \n",
       "663881  Marinduque     13-17  \n",
       "663882  Marinduque      7-12  \n",
       "\n",
       "[663856 rows x 9 columns]"
      ]
     },
     "execution_count": 22,
     "metadata": {},
     "output_type": "execute_result"
    }
   ],
   "source": [
    "bins= [0,7,13,18,25,31,37,43,49,55,61,120]\n",
    "labels = ['0-6','7-12','13-17','18-24','25-30','31-36','37-42','44-48','49-54','55-60','60+']\n",
    "all_df['age_group'] = pd.cut(all_df['age_yr'], bins=bins, labels=labels, right=False)\n",
    "all_df"
   ]
  },
  {
   "cell_type": "markdown",
   "metadata": {},
   "source": [
    "## `ynotsch` variable - Reason for not going to school"
   ]
  },
  {
   "cell_type": "code",
   "execution_count": 23,
   "metadata": {},
   "outputs": [],
   "source": [
    "all_df[\"ynotsch_full\"] = all_df[\"ynotsch\"].map({1: 'Schools are very far',\n",
    "                                                2: 'No school within the brgy', \n",
    "                                                3: 'No regular transportation', \n",
    "                                                4: 'High cost of education', \n",
    "                                                5: 'Illness/Disability', \n",
    "                                                6: 'Housekeeping/taking care of siblings', \n",
    "                                                7: 'Marriage', \n",
    "                                                8: 'Employment/looking for work', \n",
    "                                                9: 'Lack of personal interest', \n",
    "                                                10: 'Cannot cope with school work', \n",
    "                                                11: 'Finished schooling', \n",
    "                                                12: 'Problem with school record', \n",
    "                                                13: 'Problem with birth certificate', \n",
    "                                                14: 'Too young to go to school', \n",
    "                                                15: 'Others'})"
   ]
  },
  {
   "cell_type": "markdown",
   "metadata": {},
   "source": [
    "## `educal` variable - Educational attainment"
   ]
  },
  {
   "cell_type": "markdown",
   "metadata": {},
   "source": [
    "We check if there are any **null** values in the variable **educal**."
   ]
  },
  {
   "cell_type": "code",
   "execution_count": 24,
   "metadata": {},
   "outputs": [
    {
     "data": {
      "text/plain": [
       "True"
      ]
     },
     "execution_count": 24,
     "metadata": {},
     "output_type": "execute_result"
    }
   ],
   "source": [
    "all_df[\"educal\"].isnull().any()"
   ]
  },
  {
   "cell_type": "markdown",
   "metadata": {},
   "source": [
    "We will set the **null** values to **-1**."
   ]
  },
  {
   "cell_type": "code",
   "execution_count": 25,
   "metadata": {},
   "outputs": [],
   "source": [
    "all_df.loc[all_df['educal'].isnull(),'educal'] = -1"
   ]
  },
  {
   "cell_type": "markdown",
   "metadata": {},
   "source": [
    "We will now check what is/are data type/s of the variable **educal**."
   ]
  },
  {
   "cell_type": "code",
   "execution_count": 26,
   "metadata": {},
   "outputs": [
    {
     "data": {
      "text/plain": [
       "<class 'str'>    619652\n",
       "<class 'int'>     44204\n",
       "Name: educal, dtype: int64"
      ]
     },
     "execution_count": 26,
     "metadata": {},
     "output_type": "execute_result"
    }
   ],
   "source": [
    "all_df[\"educal\"].apply(type).value_counts()"
   ]
  },
  {
   "cell_type": "markdown",
   "metadata": {},
   "source": [
    "Based on the result, the data types for educal are in **string** and **integer** format. We then convert all values to **integer**."
   ]
  },
  {
   "cell_type": "code",
   "execution_count": 27,
   "metadata": {},
   "outputs": [],
   "source": [
    "all_df['educal'] = all_df['educal'].astype(int)"
   ]
  },
  {
   "cell_type": "markdown",
   "metadata": {},
   "source": [
    "We check if all the values are converted to **integer**."
   ]
  },
  {
   "cell_type": "code",
   "execution_count": 28,
   "metadata": {},
   "outputs": [
    {
     "data": {
      "text/plain": [
       "<class 'int'>    663856\n",
       "Name: educal, dtype: int64"
      ]
     },
     "execution_count": 28,
     "metadata": {},
     "output_type": "execute_result"
    }
   ],
   "source": [
    "all_df[\"educal\"].apply(type).value_counts()"
   ]
  },
  {
   "cell_type": "markdown",
   "metadata": {},
   "source": [
    "We will now check for incorrect inputs."
   ]
  },
  {
   "cell_type": "code",
   "execution_count": 29,
   "metadata": {},
   "outputs": [
    {
     "data": {
      "text/plain": [
       "array([ 14,  16,  19,  15,   2,  13,  33,  20,   0,  32,  11,  18,  -1,\n",
       "         1,  17,  12, 300,  31,  24, 200,  34,  52, 100,  41, 210,  23,\n",
       "        51,  25, 400,  53,  21,  22,  54])"
      ]
     },
     "execution_count": 29,
     "metadata": {},
     "output_type": "execute_result"
    }
   ],
   "source": [
    "all_df[\"educal\"].unique()"
   ]
  },
  {
   "cell_type": "markdown",
   "metadata": {},
   "source": [
    "We now apply binning/grouping in the variable **educal** or educational attainment and create a column called **educal_range**."
   ]
  },
  {
   "cell_type": "markdown",
   "metadata": {},
   "source": [
    "- **`No Grade`**: No Grade.\n",
    "- **`Day Care`**: Day Care.\n",
    "- **`Pre-School`**: Pre-School.\n",
    "- **`Elementary`**: Grade 1 to Grade 6.\n",
    "- **`Elementary Graduate`**: Elementary Graduate.\n",
    "- **`High School`**: Grade 7 to Grade 12.\n",
    "- **`High School Graduate`**: High School Graduate.\n",
    "- **`Post-Secondary`**: 1st yr to 3rd yr Post-Secondary.\n",
    "- **`Post-Secondary Graduate`**: Post-Secondary Graduate.\n",
    "- **`College Undergraduate`**: College 1st yr to 4th yr or higher.\n",
    "- **`College Graduate`**: College Graduate.\n",
    "- **`Post-Grad`**: Masters/Doctorate Degree.\n",
    "- **`SPED`**: Special Education and ALS."
   ]
  },
  {
   "cell_type": "code",
   "execution_count": 30,
   "metadata": {},
   "outputs": [],
   "source": [
    "all_df[\"educal_range\"] = all_df[\"educal\"].map({0: 'No Grade', \n",
    "                                               1: 'Day Care',\n",
    "                                               2: 'Pre-School',\n",
    "                                               11: 'Elementary', 12: 'Elementary', 13: 'Elementary', 14: 'Elementary', 15: 'Elementary', 16: 'Elementary', 100: 'Elementary Graduate',\n",
    "                                               17: 'High School', 18: 'High School', 19: 'High School', 20: 'High School', 21: 'High School', 22: 'High School', 200: 'High School Graduate',\n",
    "                                               23: 'Post-Secondary', 24: 'Post-Secondary', 25: 'Post-Secondary', 210: 'Post-Secondary Graduate',\n",
    "                                               31: 'College Undergraduate', 32: 'College Undergraduate', 33: 'College Undergraduate', 34: 'College Undergraduate',\n",
    "                                               41: 'Post-Grad', 400: \"Post-Grad\",\n",
    "                                               51: 'SPED', 52: 'SPED', 53: 'SPED', 54: 'SPED',\n",
    "                                               300: 'College Graduate',\n",
    "                                               -1: \"Not Stated\"})"
   ]
  },
  {
   "cell_type": "markdown",
   "metadata": {},
   "source": [
    "## `wagcshm` variable - Total salary in the last 12 months"
   ]
  },
  {
   "cell_type": "code",
   "execution_count": 31,
   "metadata": {},
   "outputs": [
    {
     "data": {
      "text/plain": [
       "True"
      ]
     },
     "execution_count": 31,
     "metadata": {},
     "output_type": "execute_result"
    }
   ],
   "source": [
    "all_df[\"wagcshm\"].isnull().any()"
   ]
  },
  {
   "cell_type": "code",
   "execution_count": 32,
   "metadata": {},
   "outputs": [],
   "source": [
    "all_df.loc[all_df['wagcshm'].isnull(),'wagcshm'] = 0"
   ]
  },
  {
   "cell_type": "code",
   "execution_count": 33,
   "metadata": {},
   "outputs": [
    {
     "data": {
      "text/plain": [
       "<class 'str'>    663855\n",
       "<class 'int'>         1\n",
       "Name: wagcshm, dtype: int64"
      ]
     },
     "execution_count": 33,
     "metadata": {},
     "output_type": "execute_result"
    }
   ],
   "source": [
    "all_df['wagcshm'].apply(type).value_counts()"
   ]
  },
  {
   "cell_type": "markdown",
   "metadata": {},
   "source": [
    "The data types for the variable **wagcshm** are **string** and **integer**. We will convert all these values into **float** only."
   ]
  },
  {
   "cell_type": "code",
   "execution_count": 34,
   "metadata": {},
   "outputs": [
    {
     "data": {
      "text/plain": [
       "<class 'float'>    663856\n",
       "Name: wagcshm, dtype: int64"
      ]
     },
     "execution_count": 34,
     "metadata": {},
     "output_type": "execute_result"
    }
   ],
   "source": [
    "all_df['wagcshm'] = all_df['wagcshm'].astype(float)\n",
    "all_df['wagcshm'].apply(type).value_counts()"
   ]
  },
  {
   "cell_type": "code",
   "execution_count": 35,
   "metadata": {},
   "outputs": [
    {
     "data": {
      "text/plain": [
       "0.0          535443\n",
       "36000.0        7417\n",
       "24000.0        4926\n",
       "10000.0        4855\n",
       "30000.0        4639\n",
       "              ...  \n",
       "120800.0          1\n",
       "292654.0          1\n",
       "73140.0           1\n",
       "4680000.0         1\n",
       "65285.0           1\n",
       "Name: wagcshm, Length: 4584, dtype: int64"
      ]
     },
     "execution_count": 35,
     "metadata": {},
     "output_type": "execute_result"
    }
   ],
   "source": [
    "all_df['wagcshm'].value_counts()"
   ]
  },
  {
   "cell_type": "code",
   "execution_count": 36,
   "metadata": {},
   "outputs": [
    {
     "data": {
      "text/plain": [
       "80.65649779470246"
      ]
     },
     "execution_count": 36,
     "metadata": {},
     "output_type": "execute_result"
    }
   ],
   "source": [
    "len(all_df.query('wagcshm == 0')) / len(all_df) * 100"
   ]
  },
  {
   "cell_type": "markdown",
   "metadata": {},
   "source": [
    "We will now use **scatter plot** to see if there are any **outliers** in the variable **wagcshm**."
   ]
  },
  {
   "cell_type": "code",
   "execution_count": 37,
   "metadata": {},
   "outputs": [
    {
     "data": {
      "text/plain": [
       "<matplotlib.axes._subplots.AxesSubplot at 0x19d8c152b50>"
      ]
     },
     "execution_count": 37,
     "metadata": {},
     "output_type": "execute_result"
    },
    {
     "data": {
      "image/png": "[encoded data removed]",
      "text/plain": [
       "<Figure size 432x288 with 1 Axes>"
      ]
     },
     "metadata": {
      "needs_background": "light"
     },
     "output_type": "display_data"
    }
   ],
   "source": [
    "all_df.reset_index().plot.scatter(x = 'index', y = 'wagcshm')"
   ]
  },
  {
   "cell_type": "markdown",
   "metadata": {},
   "source": [
    "Based on the scatter plot, there are some extreme outliers. We will check what are these values."
   ]
  },
  {
   "cell_type": "code",
   "execution_count": 38,
   "metadata": {},
   "outputs": [
    {
     "data": {
      "text/plain": [
       "246478      4680000.0\n",
       "445878      5000000.0\n",
       "325352      5200000.0\n",
       "327273      6240000.0\n",
       "563837      6240000.0\n",
       "257538      6500000.0\n",
       "191195      6720000.0\n",
       "284412      6720000.0\n",
       "284417      6720000.0\n",
       "544307      7200000.0\n",
       "147584      7200000.0\n",
       "330554      7200000.0\n",
       "325061      8640000.0\n",
       "93613       8640000.0\n",
       "204959     10069200.0\n",
       "633620     10411788.0\n",
       "327271     12480000.0\n",
       "173061     14400000.0\n",
       "327274     14401248.0\n",
       "93612      15120000.0\n",
       "200730     22200000.0\n",
       "633662     23053296.0\n",
       "415998    106008000.0\n",
       "328283    144400000.0\n",
       "90207     413392175.0\n",
       "Name: wagcshm, dtype: float64"
      ]
     },
     "execution_count": 38,
     "metadata": {},
     "output_type": "execute_result"
    }
   ],
   "source": [
    "all_df.sort_values('wagcshm')['wagcshm'].tail(25)"
   ]
  },
  {
   "cell_type": "markdown",
   "metadata": {},
   "source": [
    "We drop the observations whose salary are greater than 100 million pesos."
   ]
  },
  {
   "cell_type": "code",
   "execution_count": 39,
   "metadata": {},
   "outputs": [],
   "source": [
    "all_df = all_df.drop(all_df[all_df['wagcshm'] > 100000000].index)"
   ]
  },
  {
   "cell_type": "code",
   "execution_count": 40,
   "metadata": {},
   "outputs": [
    {
     "data": {
      "text/plain": [
       "93613      8640000.0\n",
       "325061     8640000.0\n",
       "204959    10069200.0\n",
       "633620    10411788.0\n",
       "327271    12480000.0\n",
       "173061    14400000.0\n",
       "327274    14401248.0\n",
       "93612     15120000.0\n",
       "200730    22200000.0\n",
       "633662    23053296.0\n",
       "Name: wagcshm, dtype: float64"
      ]
     },
     "execution_count": 40,
     "metadata": {},
     "output_type": "execute_result"
    }
   ],
   "source": [
    "all_df.sort_values('wagcshm')['wagcshm'].tail(10)"
   ]
  },
  {
   "cell_type": "code",
   "execution_count": 41,
   "metadata": {},
   "outputs": [
    {
     "data": {
      "text/plain": [
       "Text(0.5, 1.0, '')"
      ]
     },
     "execution_count": 41,
     "metadata": {},
     "output_type": "execute_result"
    },
    {
     "data": {
      "image/png": "[encoded data removed]",
      "text/plain": [
       "<Figure size 432x288 with 1 Axes>"
      ]
     },
     "metadata": {
      "needs_background": "light"
     },
     "output_type": "display_data"
    }
   ],
   "source": [
    "all_df.reset_index().plot.scatter(x = 'index', y = 'wagcshm')\n",
    "plt.xlabel('Index')\n",
    "plt.ylabel('Total Salary')\n",
    "plt.title('')"
   ]
  },
  {
   "cell_type": "code",
   "execution_count": 42,
   "metadata": {},
   "outputs": [
    {
     "data": {
      "text/plain": [
       "Text(0.5, 1.0, '')"
      ]
     },
     "execution_count": 42,
     "metadata": {},
     "output_type": "execute_result"
    },
    {
     "data": {
      "image/png": "[encoded data removed]",
      "text/plain": [
       "<Figure size 576x576 with 1 Axes>"
      ]
     },
     "metadata": {
      "needs_background": "light"
     },
     "output_type": "display_data"
    }
   ],
   "source": [
    "all_df[all_df[\"age_yr\"] >= 18].groupby(\"educal_range\").agg({\"wagcshm\": [\"mean\"]}).plot(kind=\"bar\", figsize=(8, 8))\n",
    "plt.xlabel('Educational Attainment')\n",
    "plt.ylabel('Average Annual Salary')\n",
    "plt.xticks(rotation=75)\n",
    "plt.title('')"
   ]
  },
  {
   "cell_type": "markdown",
   "metadata": {},
   "source": [
    "## `pwd_type` variable - Disability type"
   ]
  },
  {
   "cell_type": "markdown",
   "metadata": {},
   "source": [
    "We check if there are any **null** values in the variable **pwd_type**."
   ]
  },
  {
   "cell_type": "code",
   "execution_count": 43,
   "metadata": {},
   "outputs": [
    {
     "data": {
      "text/plain": [
       "True"
      ]
     },
     "execution_count": 43,
     "metadata": {},
     "output_type": "execute_result"
    }
   ],
   "source": [
    "all_df[\"pwd_type\"].isnull().any()"
   ]
  },
  {
   "cell_type": "markdown",
   "metadata": {},
   "source": [
    "Based on the result, there are **null** values present in the **pwd_type** variable. We will set these **null** values to **-1**."
   ]
  },
  {
   "cell_type": "code",
   "execution_count": 44,
   "metadata": {},
   "outputs": [],
   "source": [
    "all_df.loc[all_df['pwd_type'].isnull(),'pwd_type'] = -1"
   ]
  },
  {
   "cell_type": "markdown",
   "metadata": {},
   "source": [
    "We will now check what is/are data type/s of the variable **pwd_type**."
   ]
  },
  {
   "cell_type": "code",
   "execution_count": 45,
   "metadata": {},
   "outputs": [
    {
     "data": {
      "text/plain": [
       "<class 'int'>    656929\n",
       "<class 'str'>      6924\n",
       "Name: pwd_type, dtype: int64"
      ]
     },
     "execution_count": 45,
     "metadata": {},
     "output_type": "execute_result"
    }
   ],
   "source": [
    "all_df[\"pwd_type\"].apply(type).value_counts()"
   ]
  },
  {
   "cell_type": "markdown",
   "metadata": {},
   "source": [
    "Based on the result, the data types for **pwd_type** are in **integer** and **string** format. We then convert these values to **integer**."
   ]
  },
  {
   "cell_type": "code",
   "execution_count": 46,
   "metadata": {},
   "outputs": [],
   "source": [
    "all_df['pwd_type'] = all_df['pwd_type'].astype(int)"
   ]
  },
  {
   "cell_type": "markdown",
   "metadata": {},
   "source": [
    "We check if all values of **pwd_type** are converted to **integer**."
   ]
  },
  {
   "cell_type": "code",
   "execution_count": 47,
   "metadata": {},
   "outputs": [
    {
     "data": {
      "text/plain": [
       "<class 'int'>    663853\n",
       "Name: pwd_type, dtype: int64"
      ]
     },
     "execution_count": 47,
     "metadata": {},
     "output_type": "execute_result"
    }
   ],
   "source": [
    "all_df[\"pwd_type\"].apply(type).value_counts()"
   ]
  },
  {
   "cell_type": "markdown",
   "metadata": {},
   "source": [
    "Finally, we will now check for incorrect inputs."
   ]
  },
  {
   "cell_type": "code",
   "execution_count": 48,
   "metadata": {},
   "outputs": [
    {
     "data": {
      "text/plain": [
       "array([-1,  4,  7, 14, 17, 16, 15, 13,  2, 12, 11,  9,  1,  5,  6,  3, 10,\n",
       "        8])"
      ]
     },
     "execution_count": 48,
     "metadata": {},
     "output_type": "execute_result"
    }
   ],
   "source": [
    "all_df[\"pwd_type\"].unique()"
   ]
  },
  {
   "cell_type": "markdown",
   "metadata": {},
   "source": [
    "## `voted_last_election` variable - Voted last election"
   ]
  },
  {
   "cell_type": "code",
   "execution_count": 49,
   "metadata": {},
   "outputs": [
    {
     "data": {
      "text/plain": [
       "array(['1', '2', nan, '3'], dtype=object)"
      ]
     },
     "execution_count": 49,
     "metadata": {},
     "output_type": "execute_result"
    }
   ],
   "source": [
    "all_df['voted_last_election'].unique()"
   ]
  },
  {
   "cell_type": "code",
   "execution_count": 50,
   "metadata": {},
   "outputs": [],
   "source": [
    "all_df.loc[all_df['voted_last_election'].isnull(),'voted_last_election'] = 3"
   ]
  },
  {
   "cell_type": "code",
   "execution_count": 51,
   "metadata": {
    "scrolled": false
   },
   "outputs": [
    {
     "data": {
      "text/plain": [
       "<class 'str'>    343412\n",
       "<class 'int'>    320441\n",
       "Name: voted_last_election, dtype: int64"
      ]
     },
     "execution_count": 51,
     "metadata": {},
     "output_type": "execute_result"
    }
   ],
   "source": [
    "all_df[\"voted_last_election\"].apply(type).value_counts()"
   ]
  },
  {
   "cell_type": "code",
   "execution_count": 52,
   "metadata": {},
   "outputs": [],
   "source": [
    "all_df['voted_last_election'] = all_df['voted_last_election'].astype(int)"
   ]
  },
  {
   "cell_type": "code",
   "execution_count": 53,
   "metadata": {},
   "outputs": [
    {
     "data": {
      "text/plain": [
       "1    325177\n",
       "3    321907\n",
       "2     16769\n",
       "Name: voted_last_election, dtype: int64"
      ]
     },
     "execution_count": 53,
     "metadata": {},
     "output_type": "execute_result"
    }
   ],
   "source": [
    "all_df[\"voted_last_election\"].value_counts()"
   ]
  },
  {
   "cell_type": "markdown",
   "metadata": {},
   "source": [
    "# Exploratory Data Analysis"
   ]
  },
  {
   "cell_type": "markdown",
   "metadata": {},
   "source": [
    "## A simple summary of males and females in both provinces."
   ]
  },
  {
   "cell_type": "code",
   "execution_count": 54,
   "metadata": {},
   "outputs": [
    {
     "data": {
      "text/plain": [
       "Text(0.5, 1.0, '')"
      ]
     },
     "execution_count": 54,
     "metadata": {},
     "output_type": "execute_result"
    },
    {
     "data": {
      "image/png": "[encoded data removed]",
      "text/plain": [
       "<Figure size 576x576 with 1 Axes>"
      ]
     },
     "metadata": {
      "needs_background": "light"
     },
     "output_type": "display_data"
    }
   ],
   "source": [
    "all_df.groupby([\"province\", \"sex\"]).size().unstack().plot(kind=\"bar\", figsize=(8, 8))\n",
    "plt.xlabel('Sex')\n",
    "plt.ylabel('Count')\n",
    "plt.xticks(rotation=0)\n",
    "plt.title('')"
   ]
  },
  {
   "cell_type": "markdown",
   "metadata": {},
   "source": [
    "It shows that there are more people in Palawan than in Marinduque, since Palawan is bigger than Marinduque in terms of land. On the other hand, the sex ratio in Marinduque is almost 1:1. In Palawan, there more males than females and is also close to ratio of 1:1."
   ]
  },
  {
   "cell_type": "code",
   "execution_count": 55,
   "metadata": {},
   "outputs": [
    {
     "data": {
      "text/plain": [
       "Text(0.5, 1.0, '')"
      ]
     },
     "execution_count": 55,
     "metadata": {},
     "output_type": "execute_result"
    },
    {
     "data": {
      "image/png": "[encoded data removed]",
      "text/plain": [
       "<Figure size 576x576 with 1 Axes>"
      ]
     },
     "metadata": {
      "needs_background": "light"
     },
     "output_type": "display_data"
    }
   ],
   "source": [
    "all_df.groupby([\"age_group\", \"province\"]).size().unstack().plot(kind=\"bar\", stacked=True, figsize=(8, 8))\n",
    "plt.xlabel('Age Group')\n",
    "plt.ylabel('Count')\n",
    "plt.xticks(rotation=0)\n",
    "plt.title('')"
   ]
  },
  {
   "cell_type": "markdown",
   "metadata": {},
   "source": [
    "We can see that the youth or young people dominates in the population."
   ]
  },
  {
   "cell_type": "markdown",
   "metadata": {},
   "source": [
    "## How many people have achieved a certain level of education?"
   ]
  },
  {
   "cell_type": "code",
   "execution_count": 56,
   "metadata": {
    "scrolled": false
   },
   "outputs": [
    {
     "data": {
      "text/plain": [
       "educal_range             sex   \n",
       "College Graduate         Female     19738\n",
       "                         Male       13255\n",
       "College Undergraduate    Female     22351\n",
       "                         Male       18898\n",
       "Day Care                 Female      8602\n",
       "                         Male        8891\n",
       "Elementary               Female     99224\n",
       "                         Male      117982\n",
       "Elementary Graduate      Female     21428\n",
       "                         Male       23587\n",
       "High School              Female     53828\n",
       "                         Male       54786\n",
       "High School Graduate     Female     35859\n",
       "                         Male       32465\n",
       "No Grade                 Female     27927\n",
       "                         Male       28577\n",
       "Not Stated               Female     21808\n",
       "                         Male       22396\n",
       "Post-Grad                Female       838\n",
       "                         Male         998\n",
       "Post-Secondary           Female      2333\n",
       "                         Male        3030\n",
       "Post-Secondary Graduate  Female      2335\n",
       "                         Male        3078\n",
       "Pre-School               Female      8931\n",
       "                         Male        9707\n",
       "SPED                     Female       524\n",
       "                         Male         477\n",
       "dtype: int64"
      ]
     },
     "execution_count": 56,
     "metadata": {},
     "output_type": "execute_result"
    }
   ],
   "source": [
    "all_df.groupby([\"educal_range\", \"sex\"]).size()"
   ]
  },
  {
   "cell_type": "code",
   "execution_count": 57,
   "metadata": {},
   "outputs": [
    {
     "data": {
      "text/plain": [
       "Text(0.5, 1.0, '')"
      ]
     },
     "execution_count": 57,
     "metadata": {},
     "output_type": "execute_result"
    },
    {
     "data": {
      "image/png": "[encoded data removed]",
      "text/plain": [
       "<Figure size 576x576 with 1 Axes>"
      ]
     },
     "metadata": {
      "needs_background": "light"
     },
     "output_type": "display_data"
    }
   ],
   "source": [
    "all_df.groupby([\"educal_range\", \"sex\"]).size().unstack().plot(kind=\"bar\", figsize=(8, 8))\n",
    "plt.xlabel('Highest Year/Grade Completed')\n",
    "plt.ylabel('Count')\n",
    "plt.xticks(rotation=75)\n",
    "plt.title('')"
   ]
  },
  {
   "cell_type": "markdown",
   "metadata": {},
   "source": [
    "In the provinces of Marinduque and Palawan, more people attended elementary education. On the other hand, we can see that there are more females than males who are college graduates and undergraduates. There are also more females who attended and or completed high school than males."
   ]
  },
  {
   "cell_type": "markdown",
   "metadata": {},
   "source": [
    "## Which disability is the most common?"
   ]
  },
  {
   "cell_type": "markdown",
   "metadata": {},
   "source": [
    "We first apply categoral binning to generalize or group the types of disabilities."
   ]
  },
  {
   "cell_type": "code",
   "execution_count": 58,
   "metadata": {},
   "outputs": [],
   "source": [
    "all_df[\"pwd_type_group\"] = all_df[\"pwd_type\"].map({1: 'Blindness', 2: 'Blindness',\n",
    "                                                  3: 'Low Vision', 4: 'Deaf',\n",
    "                                                  5: 'Deaf', 6: 'Oral defect',\n",
    "                                                  7: 'Missing Limb/s', 8: 'Missing Limb/s',\n",
    "                                                  9: 'Missing Limb/s', 10: 'Missing Limb/s',\n",
    "                                                  11: 'Mentally Disabled', 12: 'Mentally Disabled',\n",
    "                                                  13: 'Mentally Disabled', 14: 'Mentally ill',\n",
    "                                                  15: 'Mentally Disabled', 16: 'Multiple impairment'})"
   ]
  },
  {
   "cell_type": "code",
   "execution_count": 59,
   "metadata": {},
   "outputs": [
    {
     "data": {
      "text/plain": [
       "pwd_type_group       sex   \n",
       "Blindness            Female    414\n",
       "                     Male      444\n",
       "Deaf                 Female    303\n",
       "                     Male      327\n",
       "Low Vision           Female    165\n",
       "                     Male      180\n",
       "Mentally Disabled    Female    448\n",
       "                     Male      588\n",
       "Mentally ill         Female    300\n",
       "                     Male      376\n",
       "Missing Limb/s       Female    118\n",
       "                     Male      301\n",
       "Multiple impairment  Female     80\n",
       "                     Male      119\n",
       "Oral defect          Female    265\n",
       "                     Male      277\n",
       "dtype: int64"
      ]
     },
     "execution_count": 59,
     "metadata": {},
     "output_type": "execute_result"
    }
   ],
   "source": [
    "all_df.groupby([\"pwd_type_group\", \"sex\"]).size()"
   ]
  },
  {
   "cell_type": "code",
   "execution_count": 60,
   "metadata": {},
   "outputs": [
    {
     "data": {
      "text/plain": [
       "Text(0.5, 1.0, '')"
      ]
     },
     "execution_count": 60,
     "metadata": {},
     "output_type": "execute_result"
    },
    {
     "data": {
      "image/png": "[encoded data removed]",
      "text/plain": [
       "<Figure size 576x576 with 1 Axes>"
      ]
     },
     "metadata": {
      "needs_background": "light"
     },
     "output_type": "display_data"
    }
   ],
   "source": [
    "all_df.groupby([\"pwd_type_group\", \"sex\"]).size().unstack().plot(kind=\"bar\", figsize=(8, 8))\n",
    "plt.xlabel('Disability Type')\n",
    "plt.ylabel('Count')\n",
    "plt.xticks(rotation=65)\n",
    "plt.title('')"
   ]
  },
  {
   "cell_type": "markdown",
   "metadata": {},
   "source": [
    "Base on the graph, we can see that mentally disabled is the most common among other disablities followed by blindness and mental illness. We can also see in the graph that males are more affected with these disabilities than females."
   ]
  },
  {
   "cell_type": "markdown",
   "metadata": {},
   "source": [
    "## Which age group is likely to have mental illness?"
   ]
  },
  {
   "cell_type": "markdown",
   "metadata": {},
   "source": [
    "In the previous question, we discovered that the 3rd most common disablity type is mentall illness."
   ]
  },
  {
   "cell_type": "code",
   "execution_count": 61,
   "metadata": {},
   "outputs": [
    {
     "data": {
      "text/plain": [
       "age_group  pwd_type_group\n",
       "0-6        Mentally ill       21\n",
       "7-12       Mentally ill       42\n",
       "13-17      Mentally ill       70\n",
       "18-24      Mentally ill      102\n",
       "25-30      Mentally ill       97\n",
       "31-36      Mentally ill       81\n",
       "37-42      Mentally ill       74\n",
       "44-48      Mentally ill       61\n",
       "49-54      Mentally ill       53\n",
       "55-60      Mentally ill       30\n",
       "60+        Mentally ill       45\n",
       "dtype: int64"
      ]
     },
     "execution_count": 61,
     "metadata": {},
     "output_type": "execute_result"
    }
   ],
   "source": [
    "all_df[all_df[\"pwd_type_group\"] == 'Mentally ill'].groupby([\"age_group\", \"pwd_type_group\"]).size()"
   ]
  },
  {
   "cell_type": "code",
   "execution_count": 62,
   "metadata": {},
   "outputs": [
    {
     "data": {
      "text/plain": [
       "Text(0.5, 1.0, '')"
      ]
     },
     "execution_count": 62,
     "metadata": {},
     "output_type": "execute_result"
    },
    {
     "data": {
      "image/png": "[encoded data removed]",
      "text/plain": [
       "<Figure size 576x576 with 1 Axes>"
      ]
     },
     "metadata": {
      "needs_background": "light"
     },
     "output_type": "display_data"
    }
   ],
   "source": [
    "all_df[all_df[\"pwd_type_group\"] == 'Mentally ill'].groupby([\"age_group\", \"sex\"]).size().unstack().plot(kind=\"bar\", stacked=True, figsize=(8, 8))\n",
    "plt.xlabel('Age Group')\n",
    "plt.ylabel('Count')\n",
    "plt.xticks(rotation=0)\n",
    "plt.title('')"
   ]
  },
  {
   "cell_type": "markdown",
   "metadata": {},
   "source": [
    "Base on the graph, age group 18-30 are likely to have mental illness like depression, anxiety, and etc. then followed by the age group 31-42 as these are the peak ages. We can also see that from child to adult there is an increase of having mental illness and getting older from the peak ages has a decrease in mental illness."
   ]
  },
  {
   "cell_type": "markdown",
   "metadata": {},
   "source": [
    "By viewing this analysis, Local Government Unit (LGU) can provide free early counseling services to certain age groups to prevent them from having mental illness in the future."
   ]
  },
  {
   "cell_type": "markdown",
   "metadata": {},
   "source": [
    "## How many per age group voted last election?"
   ]
  },
  {
   "cell_type": "code",
   "execution_count": 63,
   "metadata": {},
   "outputs": [
    {
     "data": {
      "text/plain": [
       "<matplotlib.axes._subplots.AxesSubplot at 0x19d90691670>"
      ]
     },
     "execution_count": 63,
     "metadata": {},
     "output_type": "execute_result"
    },
    {
     "data": {
      "image/png": "[encoded data removed]",
      "text/plain": [
       "<Figure size 576x576 with 1 Axes>"
      ]
     },
     "metadata": {
      "needs_background": "light"
     },
     "output_type": "display_data"
    }
   ],
   "source": [
    "all_df[(all_df[\"voted_last_election\"] == 1) & (all_df[\"age_yr\"] >= 18)].groupby([\"age_group\",\"sex\", ]).size().unstack().plot(kind=\"bar\", stacked=True, figsize=(8, 8))"
   ]
  },
  {
   "cell_type": "code",
   "execution_count": null,
   "metadata": {},
   "outputs": [],
   "source": []
  }
 ],
 "metadata": {
  "colab": {
   "name": "Untitled0.ipynb",
   "provenance": []
  },
  "kernelspec": {
   "display_name": "Python 3",
   "language": "python",
   "name": "python3"
  },
  "language_info": {
   "codemirror_mode": {
    "name": "ipython",
    "version": 3
   },
   "file_extension": ".py",
   "mimetype": "text/x-python",
   "name": "python",
   "nbconvert_exporter": "python",
   "pygments_lexer": "ipython3",
   "version": "3.8.3"
  }
 },
 "nbformat": 4,
 "nbformat_minor": 1
}
