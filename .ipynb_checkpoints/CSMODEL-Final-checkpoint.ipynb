{
 "cells": [
  {
   "cell_type": "markdown",
   "metadata": {},
   "source": [
    "## Import\n",
    "Import **numpy**, **pandas** and **matplotlib**."
   ]
  },
  {
   "cell_type": "code",
   "execution_count": 1,
   "metadata": {
    "colab": {},
    "colab_type": "code",
    "id": "3lpcFkQ9nF43"
   },
   "outputs": [],
   "source": [
    "import numpy as np\n",
    "import pandas as pd\n",
    "import matplotlib.pyplot as plt"
   ]
  },
  {
   "cell_type": "markdown",
   "metadata": {},
   "source": [
    "## Set the CSV filenames\n",
    "Set the CSV filenames for **Marinduqe** and **Palawan** dataset."
   ]
  },
  {
   "cell_type": "code",
   "execution_count": 2,
   "metadata": {
    "colab": {},
    "colab_type": "code",
    "id": "jJKYgHudnhoW"
   },
   "outputs": [],
   "source": [
    "marinduque_hh_url = \"hpq_hh_marinduque.csv\"\n",
    "marinduque_mem_url = \"hpq_mem_marinduque.csv\"\n",
    "palawan_hh_url = \"hpq_hh_palawan.csv\"\n",
    "palawan_mem_url = \"hpq_mem_palawan.csv\""
   ]
  },
  {
   "cell_type": "markdown",
   "metadata": {},
   "source": [
    "## Reading the Dataset"
   ]
  },
  {
   "cell_type": "markdown",
   "metadata": {},
   "source": [
    "Reading the **Marinduque** dataset."
   ]
  },
  {
   "cell_type": "code",
   "execution_count": 3,
   "metadata": {
    "colab": {
     "base_uri": "https://localhost:8080/",
     "height": 68
    },
    "colab_type": "code",
    "id": "c29k9WbLnnzS",
    "outputId": "7bbdb297-a3cb-42f6-8767-f074def4eb21"
   },
   "outputs": [
    {
     "data": {
      "text/plain": [
       "(204781, 82)"
      ]
     },
     "execution_count": 3,
     "metadata": {},
     "output_type": "execute_result"
    }
   ],
   "source": [
    "marinduque_mem_df = pd.read_csv(marinduque_mem_url, dtype='unicode')\n",
    "marinduque_mem_df.shape"
   ]
  },
  {
   "cell_type": "markdown",
   "metadata": {},
   "source": [
    "Create a new column called **region** and set it as **Marinduque**. We added this column to distinguish the dataset between the two regions."
   ]
  },
  {
   "cell_type": "code",
   "execution_count": 4,
   "metadata": {
    "colab": {
     "base_uri": "https://localhost:8080/",
     "height": 253
    },
    "colab_type": "code",
    "id": "xkG08vg0noRA",
    "outputId": "05e48d84-473a-400a-d6d5-139c8175d295"
   },
   "outputs": [
    {
     "data": {
      "text/html": [
       "<div>\n",
       "<style scoped>\n",
       "    .dataframe tbody tr th:only-of-type {\n",
       "        vertical-align: middle;\n",
       "    }\n",
       "\n",
       "    .dataframe tbody tr th {\n",
       "        vertical-align: top;\n",
       "    }\n",
       "\n",
       "    .dataframe thead th {\n",
       "        text-align: right;\n",
       "    }\n",
       "</style>\n",
       "<table border=\"1\" class=\"dataframe\">\n",
       "  <thead>\n",
       "    <tr style=\"text-align: right;\">\n",
       "      <th></th>\n",
       "      <th>main.id</th>\n",
       "      <th>memno</th>\n",
       "      <th>nucfam</th>\n",
       "      <th>reln</th>\n",
       "      <th>reln_o</th>\n",
       "      <th>sex</th>\n",
       "      <th>birth_date</th>\n",
       "      <th>age_yr</th>\n",
       "      <th>birth_reg</th>\n",
       "      <th>civstat</th>\n",
       "      <th>...</th>\n",
       "      <th>mocrim</th>\n",
       "      <th>mtheftloc</th>\n",
       "      <th>mrapeloc</th>\n",
       "      <th>minjurloc</th>\n",
       "      <th>mcarnaploc</th>\n",
       "      <th>mcattrustlloc</th>\n",
       "      <th>mocrimloc</th>\n",
       "      <th>mnutind</th>\n",
       "      <th>mnutind_date</th>\n",
       "      <th>region</th>\n",
       "    </tr>\n",
       "  </thead>\n",
       "  <tbody>\n",
       "    <tr>\n",
       "      <th>0</th>\n",
       "      <td>199036</td>\n",
       "      <td>1</td>\n",
       "      <td>1</td>\n",
       "      <td>1</td>\n",
       "      <td>NaN</td>\n",
       "      <td>1</td>\n",
       "      <td>11/6/1960</td>\n",
       "      <td>53</td>\n",
       "      <td>1</td>\n",
       "      <td>2</td>\n",
       "      <td>...</td>\n",
       "      <td>NaN</td>\n",
       "      <td>NaN</td>\n",
       "      <td>NaN</td>\n",
       "      <td>NaN</td>\n",
       "      <td>NaN</td>\n",
       "      <td>NaN</td>\n",
       "      <td>NaN</td>\n",
       "      <td>NaN</td>\n",
       "      <td>NaN</td>\n",
       "      <td>Marinduque</td>\n",
       "    </tr>\n",
       "    <tr>\n",
       "      <th>1</th>\n",
       "      <td>199036</td>\n",
       "      <td>2</td>\n",
       "      <td>1</td>\n",
       "      <td>2</td>\n",
       "      <td>NaN</td>\n",
       "      <td>2</td>\n",
       "      <td>11/17/1961</td>\n",
       "      <td>52</td>\n",
       "      <td>1</td>\n",
       "      <td>2</td>\n",
       "      <td>...</td>\n",
       "      <td>NaN</td>\n",
       "      <td>NaN</td>\n",
       "      <td>NaN</td>\n",
       "      <td>NaN</td>\n",
       "      <td>NaN</td>\n",
       "      <td>NaN</td>\n",
       "      <td>NaN</td>\n",
       "      <td>NaN</td>\n",
       "      <td>NaN</td>\n",
       "      <td>Marinduque</td>\n",
       "    </tr>\n",
       "    <tr>\n",
       "      <th>2</th>\n",
       "      <td>199036</td>\n",
       "      <td>3</td>\n",
       "      <td>1</td>\n",
       "      <td>3</td>\n",
       "      <td>NaN</td>\n",
       "      <td>2</td>\n",
       "      <td>3/5/1991</td>\n",
       "      <td>23</td>\n",
       "      <td>1</td>\n",
       "      <td>1</td>\n",
       "      <td>...</td>\n",
       "      <td>NaN</td>\n",
       "      <td>NaN</td>\n",
       "      <td>NaN</td>\n",
       "      <td>NaN</td>\n",
       "      <td>NaN</td>\n",
       "      <td>NaN</td>\n",
       "      <td>NaN</td>\n",
       "      <td>NaN</td>\n",
       "      <td>NaN</td>\n",
       "      <td>Marinduque</td>\n",
       "    </tr>\n",
       "    <tr>\n",
       "      <th>3</th>\n",
       "      <td>199036</td>\n",
       "      <td>4</td>\n",
       "      <td>1</td>\n",
       "      <td>3</td>\n",
       "      <td>NaN</td>\n",
       "      <td>1</td>\n",
       "      <td>4/21/2000</td>\n",
       "      <td>14</td>\n",
       "      <td>1</td>\n",
       "      <td>1</td>\n",
       "      <td>...</td>\n",
       "      <td>NaN</td>\n",
       "      <td>NaN</td>\n",
       "      <td>NaN</td>\n",
       "      <td>NaN</td>\n",
       "      <td>NaN</td>\n",
       "      <td>NaN</td>\n",
       "      <td>NaN</td>\n",
       "      <td>NaN</td>\n",
       "      <td>NaN</td>\n",
       "      <td>Marinduque</td>\n",
       "    </tr>\n",
       "    <tr>\n",
       "      <th>4</th>\n",
       "      <td>199036</td>\n",
       "      <td>5</td>\n",
       "      <td>1</td>\n",
       "      <td>3</td>\n",
       "      <td>NaN</td>\n",
       "      <td>1</td>\n",
       "      <td>4/24/2002</td>\n",
       "      <td>12</td>\n",
       "      <td>1</td>\n",
       "      <td>1</td>\n",
       "      <td>...</td>\n",
       "      <td>NaN</td>\n",
       "      <td>NaN</td>\n",
       "      <td>NaN</td>\n",
       "      <td>NaN</td>\n",
       "      <td>NaN</td>\n",
       "      <td>NaN</td>\n",
       "      <td>NaN</td>\n",
       "      <td>NaN</td>\n",
       "      <td>NaN</td>\n",
       "      <td>Marinduque</td>\n",
       "    </tr>\n",
       "  </tbody>\n",
       "</table>\n",
       "<p>5 rows × 83 columns</p>\n",
       "</div>"
      ],
      "text/plain": [
       "  main.id memno nucfam reln reln_o sex  birth_date age_yr birth_reg civstat  \\\n",
       "0  199036     1      1    1    NaN   1   11/6/1960     53         1       2   \n",
       "1  199036     2      1    2    NaN   2  11/17/1961     52         1       2   \n",
       "2  199036     3      1    3    NaN   2    3/5/1991     23         1       1   \n",
       "3  199036     4      1    3    NaN   1   4/21/2000     14         1       1   \n",
       "4  199036     5      1    3    NaN   1   4/24/2002     12         1       1   \n",
       "\n",
       "   ... mocrim mtheftloc mrapeloc minjurloc mcarnaploc mcattrustlloc mocrimloc  \\\n",
       "0  ...    NaN       NaN      NaN       NaN        NaN           NaN       NaN   \n",
       "1  ...    NaN       NaN      NaN       NaN        NaN           NaN       NaN   \n",
       "2  ...    NaN       NaN      NaN       NaN        NaN           NaN       NaN   \n",
       "3  ...    NaN       NaN      NaN       NaN        NaN           NaN       NaN   \n",
       "4  ...    NaN       NaN      NaN       NaN        NaN           NaN       NaN   \n",
       "\n",
       "  mnutind mnutind_date      region  \n",
       "0     NaN          NaN  Marinduque  \n",
       "1     NaN          NaN  Marinduque  \n",
       "2     NaN          NaN  Marinduque  \n",
       "3     NaN          NaN  Marinduque  \n",
       "4     NaN          NaN  Marinduque  \n",
       "\n",
       "[5 rows x 83 columns]"
      ]
     },
     "execution_count": 4,
     "metadata": {},
     "output_type": "execute_result"
    }
   ],
   "source": [
    "marinduque_df = marinduque_mem_df\n",
    "marinduque_df[\"region\"] = \"Marinduque\"\n",
    "marinduque_df.head()"
   ]
  },
  {
   "cell_type": "markdown",
   "metadata": {},
   "source": [
    "Reading the **Palawan** dataset"
   ]
  },
  {
   "cell_type": "code",
   "execution_count": 5,
   "metadata": {
    "colab": {
     "base_uri": "https://localhost:8080/",
     "height": 68
    },
    "colab_type": "code",
    "id": "gJHEDeTToTLO",
    "outputId": "ca7a49f9-abbb-496b-c9e2-3037247d71c4"
   },
   "outputs": [
    {
     "data": {
      "text/plain": [
       "(459102, 83)"
      ]
     },
     "execution_count": 5,
     "metadata": {},
     "output_type": "execute_result"
    }
   ],
   "source": [
    "palawan_mem_df = pd.read_csv(palawan_mem_url, dtype='unicode')\n",
    "palawan_mem_df.shape"
   ]
  },
  {
   "cell_type": "markdown",
   "metadata": {},
   "source": [
    "Again, create a new column called **region** and set it as **Palawan**."
   ]
  },
  {
   "cell_type": "code",
   "execution_count": 6,
   "metadata": {
    "colab": {
     "base_uri": "https://localhost:8080/",
     "height": 253
    },
    "colab_type": "code",
    "id": "cGgR4_M8ny0t",
    "outputId": "0c1b2079-f49f-455f-92ba-30caa72a75c0"
   },
   "outputs": [
    {
     "data": {
      "text/html": [
       "<div>\n",
       "<style scoped>\n",
       "    .dataframe tbody tr th:only-of-type {\n",
       "        vertical-align: middle;\n",
       "    }\n",
       "\n",
       "    .dataframe tbody tr th {\n",
       "        vertical-align: top;\n",
       "    }\n",
       "\n",
       "    .dataframe thead th {\n",
       "        text-align: right;\n",
       "    }\n",
       "</style>\n",
       "<table border=\"1\" class=\"dataframe\">\n",
       "  <thead>\n",
       "    <tr style=\"text-align: right;\">\n",
       "      <th></th>\n",
       "      <th>main.id</th>\n",
       "      <th>memno</th>\n",
       "      <th>nucfam</th>\n",
       "      <th>reln</th>\n",
       "      <th>reln_o</th>\n",
       "      <th>sex</th>\n",
       "      <th>birth_date</th>\n",
       "      <th>age</th>\n",
       "      <th>age_yr</th>\n",
       "      <th>birth_reg</th>\n",
       "      <th>...</th>\n",
       "      <th>mocrim</th>\n",
       "      <th>mtheftloc</th>\n",
       "      <th>mrapeloc</th>\n",
       "      <th>minjurloc</th>\n",
       "      <th>mcarnaploc</th>\n",
       "      <th>mcattrustlloc</th>\n",
       "      <th>mocrimloc</th>\n",
       "      <th>mnutind</th>\n",
       "      <th>mnutind_date</th>\n",
       "      <th>region</th>\n",
       "    </tr>\n",
       "  </thead>\n",
       "  <tbody>\n",
       "    <tr>\n",
       "      <th>0</th>\n",
       "      <td>69279</td>\n",
       "      <td>15</td>\n",
       "      <td>1</td>\n",
       "      <td>1</td>\n",
       "      <td>NaN</td>\n",
       "      <td>1</td>\n",
       "      <td>6/16/1956</td>\n",
       "      <td>57.97399042</td>\n",
       "      <td>57</td>\n",
       "      <td>1</td>\n",
       "      <td>...</td>\n",
       "      <td>NaN</td>\n",
       "      <td>NaN</td>\n",
       "      <td>NaN</td>\n",
       "      <td>NaN</td>\n",
       "      <td>NaN</td>\n",
       "      <td>NaN</td>\n",
       "      <td>NaN</td>\n",
       "      <td>NaN</td>\n",
       "      <td>NaN</td>\n",
       "      <td>Palawan</td>\n",
       "    </tr>\n",
       "    <tr>\n",
       "      <th>1</th>\n",
       "      <td>69279</td>\n",
       "      <td>16</td>\n",
       "      <td>1</td>\n",
       "      <td>2</td>\n",
       "      <td>NaN</td>\n",
       "      <td>2</td>\n",
       "      <td>8/28/1967</td>\n",
       "      <td>46.7761807</td>\n",
       "      <td>46</td>\n",
       "      <td>1</td>\n",
       "      <td>...</td>\n",
       "      <td>NaN</td>\n",
       "      <td>NaN</td>\n",
       "      <td>NaN</td>\n",
       "      <td>NaN</td>\n",
       "      <td>NaN</td>\n",
       "      <td>NaN</td>\n",
       "      <td>NaN</td>\n",
       "      <td>NaN</td>\n",
       "      <td>NaN</td>\n",
       "      <td>Palawan</td>\n",
       "    </tr>\n",
       "    <tr>\n",
       "      <th>2</th>\n",
       "      <td>69279</td>\n",
       "      <td>17</td>\n",
       "      <td>1</td>\n",
       "      <td>3</td>\n",
       "      <td>NaN</td>\n",
       "      <td>2</td>\n",
       "      <td>11/18/1992</td>\n",
       "      <td>21.54962355</td>\n",
       "      <td>21</td>\n",
       "      <td>1</td>\n",
       "      <td>...</td>\n",
       "      <td>NaN</td>\n",
       "      <td>NaN</td>\n",
       "      <td>NaN</td>\n",
       "      <td>NaN</td>\n",
       "      <td>NaN</td>\n",
       "      <td>NaN</td>\n",
       "      <td>NaN</td>\n",
       "      <td>NaN</td>\n",
       "      <td>NaN</td>\n",
       "      <td>Palawan</td>\n",
       "    </tr>\n",
       "    <tr>\n",
       "      <th>3</th>\n",
       "      <td>69279</td>\n",
       "      <td>18</td>\n",
       "      <td>1</td>\n",
       "      <td>3</td>\n",
       "      <td>NaN</td>\n",
       "      <td>1</td>\n",
       "      <td>4/28/1998</td>\n",
       "      <td>16.10951403</td>\n",
       "      <td>16</td>\n",
       "      <td>1</td>\n",
       "      <td>...</td>\n",
       "      <td>NaN</td>\n",
       "      <td>NaN</td>\n",
       "      <td>NaN</td>\n",
       "      <td>NaN</td>\n",
       "      <td>NaN</td>\n",
       "      <td>NaN</td>\n",
       "      <td>NaN</td>\n",
       "      <td>NaN</td>\n",
       "      <td>NaN</td>\n",
       "      <td>Palawan</td>\n",
       "    </tr>\n",
       "    <tr>\n",
       "      <th>4</th>\n",
       "      <td>69279</td>\n",
       "      <td>19</td>\n",
       "      <td>1</td>\n",
       "      <td>3</td>\n",
       "      <td>NaN</td>\n",
       "      <td>1</td>\n",
       "      <td>10/8/2002</td>\n",
       "      <td>11.66324435</td>\n",
       "      <td>11</td>\n",
       "      <td>1</td>\n",
       "      <td>...</td>\n",
       "      <td>NaN</td>\n",
       "      <td>NaN</td>\n",
       "      <td>NaN</td>\n",
       "      <td>NaN</td>\n",
       "      <td>NaN</td>\n",
       "      <td>NaN</td>\n",
       "      <td>NaN</td>\n",
       "      <td>NaN</td>\n",
       "      <td>NaN</td>\n",
       "      <td>Palawan</td>\n",
       "    </tr>\n",
       "  </tbody>\n",
       "</table>\n",
       "<p>5 rows × 84 columns</p>\n",
       "</div>"
      ],
      "text/plain": [
       "  main.id memno nucfam reln reln_o sex  birth_date          age age_yr  \\\n",
       "0   69279    15      1    1    NaN   1   6/16/1956  57.97399042     57   \n",
       "1   69279    16      1    2    NaN   2   8/28/1967   46.7761807     46   \n",
       "2   69279    17      1    3    NaN   2  11/18/1992  21.54962355     21   \n",
       "3   69279    18      1    3    NaN   1   4/28/1998  16.10951403     16   \n",
       "4   69279    19      1    3    NaN   1   10/8/2002  11.66324435     11   \n",
       "\n",
       "  birth_reg  ... mocrim mtheftloc mrapeloc minjurloc mcarnaploc mcattrustlloc  \\\n",
       "0         1  ...    NaN       NaN      NaN       NaN        NaN           NaN   \n",
       "1         1  ...    NaN       NaN      NaN       NaN        NaN           NaN   \n",
       "2         1  ...    NaN       NaN      NaN       NaN        NaN           NaN   \n",
       "3         1  ...    NaN       NaN      NaN       NaN        NaN           NaN   \n",
       "4         1  ...    NaN       NaN      NaN       NaN        NaN           NaN   \n",
       "\n",
       "  mocrimloc mnutind mnutind_date   region  \n",
       "0       NaN     NaN          NaN  Palawan  \n",
       "1       NaN     NaN          NaN  Palawan  \n",
       "2       NaN     NaN          NaN  Palawan  \n",
       "3       NaN     NaN          NaN  Palawan  \n",
       "4       NaN     NaN          NaN  Palawan  \n",
       "\n",
       "[5 rows x 84 columns]"
      ]
     },
     "execution_count": 6,
     "metadata": {},
     "output_type": "execute_result"
    }
   ],
   "source": [
    "palawan_df = palawan_mem_df\n",
    "palawan_df[\"region\"] = \"Palawan\"\n",
    "palawan_df.head()"
   ]
  },
  {
   "cell_type": "markdown",
   "metadata": {},
   "source": [
    "## Merging the Two Dataset"
   ]
  },
  {
   "cell_type": "code",
   "execution_count": 7,
   "metadata": {
    "colab": {
     "base_uri": "https://localhost:8080/",
     "height": 439
    },
    "colab_type": "code",
    "id": "HcWZJ2oTpqAM",
    "outputId": "24234bbd-5bc5-40dc-a63c-193408d2f0b9"
   },
   "outputs": [
    {
     "data": {
      "text/html": [
       "<div>\n",
       "<style scoped>\n",
       "    .dataframe tbody tr th:only-of-type {\n",
       "        vertical-align: middle;\n",
       "    }\n",
       "\n",
       "    .dataframe tbody tr th {\n",
       "        vertical-align: top;\n",
       "    }\n",
       "\n",
       "    .dataframe thead th {\n",
       "        text-align: right;\n",
       "    }\n",
       "</style>\n",
       "<table border=\"1\" class=\"dataframe\">\n",
       "  <thead>\n",
       "    <tr style=\"text-align: right;\">\n",
       "      <th></th>\n",
       "      <th>main.id</th>\n",
       "      <th>memno</th>\n",
       "      <th>nucfam</th>\n",
       "      <th>reln</th>\n",
       "      <th>reln_o</th>\n",
       "      <th>sex</th>\n",
       "      <th>birth_date</th>\n",
       "      <th>age</th>\n",
       "      <th>age_yr</th>\n",
       "      <th>birth_reg</th>\n",
       "      <th>...</th>\n",
       "      <th>mocrim</th>\n",
       "      <th>mtheftloc</th>\n",
       "      <th>mrapeloc</th>\n",
       "      <th>minjurloc</th>\n",
       "      <th>mcarnaploc</th>\n",
       "      <th>mcattrustlloc</th>\n",
       "      <th>mocrimloc</th>\n",
       "      <th>mnutind</th>\n",
       "      <th>mnutind_date</th>\n",
       "      <th>region</th>\n",
       "    </tr>\n",
       "  </thead>\n",
       "  <tbody>\n",
       "    <tr>\n",
       "      <th>0</th>\n",
       "      <td>69279</td>\n",
       "      <td>15</td>\n",
       "      <td>1</td>\n",
       "      <td>1</td>\n",
       "      <td>NaN</td>\n",
       "      <td>1</td>\n",
       "      <td>6/16/1956</td>\n",
       "      <td>57.97399042</td>\n",
       "      <td>57</td>\n",
       "      <td>1</td>\n",
       "      <td>...</td>\n",
       "      <td>NaN</td>\n",
       "      <td>NaN</td>\n",
       "      <td>NaN</td>\n",
       "      <td>NaN</td>\n",
       "      <td>NaN</td>\n",
       "      <td>NaN</td>\n",
       "      <td>NaN</td>\n",
       "      <td>NaN</td>\n",
       "      <td>NaN</td>\n",
       "      <td>Palawan</td>\n",
       "    </tr>\n",
       "    <tr>\n",
       "      <th>1</th>\n",
       "      <td>69279</td>\n",
       "      <td>16</td>\n",
       "      <td>1</td>\n",
       "      <td>2</td>\n",
       "      <td>NaN</td>\n",
       "      <td>2</td>\n",
       "      <td>8/28/1967</td>\n",
       "      <td>46.7761807</td>\n",
       "      <td>46</td>\n",
       "      <td>1</td>\n",
       "      <td>...</td>\n",
       "      <td>NaN</td>\n",
       "      <td>NaN</td>\n",
       "      <td>NaN</td>\n",
       "      <td>NaN</td>\n",
       "      <td>NaN</td>\n",
       "      <td>NaN</td>\n",
       "      <td>NaN</td>\n",
       "      <td>NaN</td>\n",
       "      <td>NaN</td>\n",
       "      <td>Palawan</td>\n",
       "    </tr>\n",
       "    <tr>\n",
       "      <th>2</th>\n",
       "      <td>69279</td>\n",
       "      <td>17</td>\n",
       "      <td>1</td>\n",
       "      <td>3</td>\n",
       "      <td>NaN</td>\n",
       "      <td>2</td>\n",
       "      <td>11/18/1992</td>\n",
       "      <td>21.54962355</td>\n",
       "      <td>21</td>\n",
       "      <td>1</td>\n",
       "      <td>...</td>\n",
       "      <td>NaN</td>\n",
       "      <td>NaN</td>\n",
       "      <td>NaN</td>\n",
       "      <td>NaN</td>\n",
       "      <td>NaN</td>\n",
       "      <td>NaN</td>\n",
       "      <td>NaN</td>\n",
       "      <td>NaN</td>\n",
       "      <td>NaN</td>\n",
       "      <td>Palawan</td>\n",
       "    </tr>\n",
       "    <tr>\n",
       "      <th>3</th>\n",
       "      <td>69279</td>\n",
       "      <td>18</td>\n",
       "      <td>1</td>\n",
       "      <td>3</td>\n",
       "      <td>NaN</td>\n",
       "      <td>1</td>\n",
       "      <td>4/28/1998</td>\n",
       "      <td>16.10951403</td>\n",
       "      <td>16</td>\n",
       "      <td>1</td>\n",
       "      <td>...</td>\n",
       "      <td>NaN</td>\n",
       "      <td>NaN</td>\n",
       "      <td>NaN</td>\n",
       "      <td>NaN</td>\n",
       "      <td>NaN</td>\n",
       "      <td>NaN</td>\n",
       "      <td>NaN</td>\n",
       "      <td>NaN</td>\n",
       "      <td>NaN</td>\n",
       "      <td>Palawan</td>\n",
       "    </tr>\n",
       "    <tr>\n",
       "      <th>4</th>\n",
       "      <td>69279</td>\n",
       "      <td>19</td>\n",
       "      <td>1</td>\n",
       "      <td>3</td>\n",
       "      <td>NaN</td>\n",
       "      <td>1</td>\n",
       "      <td>10/8/2002</td>\n",
       "      <td>11.66324435</td>\n",
       "      <td>11</td>\n",
       "      <td>1</td>\n",
       "      <td>...</td>\n",
       "      <td>NaN</td>\n",
       "      <td>NaN</td>\n",
       "      <td>NaN</td>\n",
       "      <td>NaN</td>\n",
       "      <td>NaN</td>\n",
       "      <td>NaN</td>\n",
       "      <td>NaN</td>\n",
       "      <td>NaN</td>\n",
       "      <td>NaN</td>\n",
       "      <td>Palawan</td>\n",
       "    </tr>\n",
       "    <tr>\n",
       "      <th>...</th>\n",
       "      <td>...</td>\n",
       "      <td>...</td>\n",
       "      <td>...</td>\n",
       "      <td>...</td>\n",
       "      <td>...</td>\n",
       "      <td>...</td>\n",
       "      <td>...</td>\n",
       "      <td>...</td>\n",
       "      <td>...</td>\n",
       "      <td>...</td>\n",
       "      <td>...</td>\n",
       "      <td>...</td>\n",
       "      <td>...</td>\n",
       "      <td>...</td>\n",
       "      <td>...</td>\n",
       "      <td>...</td>\n",
       "      <td>...</td>\n",
       "      <td>...</td>\n",
       "      <td>...</td>\n",
       "      <td>...</td>\n",
       "      <td>...</td>\n",
       "    </tr>\n",
       "    <tr>\n",
       "      <th>663878</th>\n",
       "      <td>2590166</td>\n",
       "      <td>3</td>\n",
       "      <td>1</td>\n",
       "      <td>3</td>\n",
       "      <td>NaN</td>\n",
       "      <td>1</td>\n",
       "      <td>3/20/1995</td>\n",
       "      <td>NaN</td>\n",
       "      <td>20</td>\n",
       "      <td>1</td>\n",
       "      <td>...</td>\n",
       "      <td>NaN</td>\n",
       "      <td>NaN</td>\n",
       "      <td>NaN</td>\n",
       "      <td>NaN</td>\n",
       "      <td>NaN</td>\n",
       "      <td>NaN</td>\n",
       "      <td>NaN</td>\n",
       "      <td>NaN</td>\n",
       "      <td>NaN</td>\n",
       "      <td>Marinduque</td>\n",
       "    </tr>\n",
       "    <tr>\n",
       "      <th>663879</th>\n",
       "      <td>2590166</td>\n",
       "      <td>4</td>\n",
       "      <td>1</td>\n",
       "      <td>3</td>\n",
       "      <td>NaN</td>\n",
       "      <td>1</td>\n",
       "      <td>10/24/1996</td>\n",
       "      <td>NaN</td>\n",
       "      <td>18</td>\n",
       "      <td>1</td>\n",
       "      <td>...</td>\n",
       "      <td>NaN</td>\n",
       "      <td>NaN</td>\n",
       "      <td>NaN</td>\n",
       "      <td>NaN</td>\n",
       "      <td>NaN</td>\n",
       "      <td>NaN</td>\n",
       "      <td>NaN</td>\n",
       "      <td>NaN</td>\n",
       "      <td>NaN</td>\n",
       "      <td>Marinduque</td>\n",
       "    </tr>\n",
       "    <tr>\n",
       "      <th>663880</th>\n",
       "      <td>2590166</td>\n",
       "      <td>5</td>\n",
       "      <td>1</td>\n",
       "      <td>3</td>\n",
       "      <td>NaN</td>\n",
       "      <td>1</td>\n",
       "      <td>12/10/1999</td>\n",
       "      <td>NaN</td>\n",
       "      <td>15</td>\n",
       "      <td>1</td>\n",
       "      <td>...</td>\n",
       "      <td>NaN</td>\n",
       "      <td>NaN</td>\n",
       "      <td>NaN</td>\n",
       "      <td>NaN</td>\n",
       "      <td>NaN</td>\n",
       "      <td>NaN</td>\n",
       "      <td>NaN</td>\n",
       "      <td>NaN</td>\n",
       "      <td>NaN</td>\n",
       "      <td>Marinduque</td>\n",
       "    </tr>\n",
       "    <tr>\n",
       "      <th>663881</th>\n",
       "      <td>2590166</td>\n",
       "      <td>6</td>\n",
       "      <td>1</td>\n",
       "      <td>3</td>\n",
       "      <td>NaN</td>\n",
       "      <td>1</td>\n",
       "      <td>5/16/2002</td>\n",
       "      <td>NaN</td>\n",
       "      <td>13</td>\n",
       "      <td>1</td>\n",
       "      <td>...</td>\n",
       "      <td>NaN</td>\n",
       "      <td>NaN</td>\n",
       "      <td>NaN</td>\n",
       "      <td>NaN</td>\n",
       "      <td>NaN</td>\n",
       "      <td>NaN</td>\n",
       "      <td>NaN</td>\n",
       "      <td>NaN</td>\n",
       "      <td>NaN</td>\n",
       "      <td>Marinduque</td>\n",
       "    </tr>\n",
       "    <tr>\n",
       "      <th>663882</th>\n",
       "      <td>2590166</td>\n",
       "      <td>7</td>\n",
       "      <td>1</td>\n",
       "      <td>3</td>\n",
       "      <td>NaN</td>\n",
       "      <td>1</td>\n",
       "      <td>8/3/2006</td>\n",
       "      <td>NaN</td>\n",
       "      <td>8</td>\n",
       "      <td>1</td>\n",
       "      <td>...</td>\n",
       "      <td>NaN</td>\n",
       "      <td>NaN</td>\n",
       "      <td>NaN</td>\n",
       "      <td>NaN</td>\n",
       "      <td>NaN</td>\n",
       "      <td>NaN</td>\n",
       "      <td>NaN</td>\n",
       "      <td>NaN</td>\n",
       "      <td>NaN</td>\n",
       "      <td>Marinduque</td>\n",
       "    </tr>\n",
       "  </tbody>\n",
       "</table>\n",
       "<p>663883 rows × 84 columns</p>\n",
       "</div>"
      ],
      "text/plain": [
       "        main.id memno nucfam reln reln_o sex  birth_date          age age_yr  \\\n",
       "0         69279    15      1    1    NaN   1   6/16/1956  57.97399042     57   \n",
       "1         69279    16      1    2    NaN   2   8/28/1967   46.7761807     46   \n",
       "2         69279    17      1    3    NaN   2  11/18/1992  21.54962355     21   \n",
       "3         69279    18      1    3    NaN   1   4/28/1998  16.10951403     16   \n",
       "4         69279    19      1    3    NaN   1   10/8/2002  11.66324435     11   \n",
       "...         ...   ...    ...  ...    ...  ..         ...          ...    ...   \n",
       "663878  2590166     3      1    3    NaN   1   3/20/1995          NaN     20   \n",
       "663879  2590166     4      1    3    NaN   1  10/24/1996          NaN     18   \n",
       "663880  2590166     5      1    3    NaN   1  12/10/1999          NaN     15   \n",
       "663881  2590166     6      1    3    NaN   1   5/16/2002          NaN     13   \n",
       "663882  2590166     7      1    3    NaN   1    8/3/2006          NaN      8   \n",
       "\n",
       "       birth_reg  ... mocrim mtheftloc mrapeloc minjurloc mcarnaploc  \\\n",
       "0              1  ...    NaN       NaN      NaN       NaN        NaN   \n",
       "1              1  ...    NaN       NaN      NaN       NaN        NaN   \n",
       "2              1  ...    NaN       NaN      NaN       NaN        NaN   \n",
       "3              1  ...    NaN       NaN      NaN       NaN        NaN   \n",
       "4              1  ...    NaN       NaN      NaN       NaN        NaN   \n",
       "...          ...  ...    ...       ...      ...       ...        ...   \n",
       "663878         1  ...    NaN       NaN      NaN       NaN        NaN   \n",
       "663879         1  ...    NaN       NaN      NaN       NaN        NaN   \n",
       "663880         1  ...    NaN       NaN      NaN       NaN        NaN   \n",
       "663881         1  ...    NaN       NaN      NaN       NaN        NaN   \n",
       "663882         1  ...    NaN       NaN      NaN       NaN        NaN   \n",
       "\n",
       "       mcattrustlloc mocrimloc mnutind mnutind_date      region  \n",
       "0                NaN       NaN     NaN          NaN     Palawan  \n",
       "1                NaN       NaN     NaN          NaN     Palawan  \n",
       "2                NaN       NaN     NaN          NaN     Palawan  \n",
       "3                NaN       NaN     NaN          NaN     Palawan  \n",
       "4                NaN       NaN     NaN          NaN     Palawan  \n",
       "...              ...       ...     ...          ...         ...  \n",
       "663878           NaN       NaN     NaN          NaN  Marinduque  \n",
       "663879           NaN       NaN     NaN          NaN  Marinduque  \n",
       "663880           NaN       NaN     NaN          NaN  Marinduque  \n",
       "663881           NaN       NaN     NaN          NaN  Marinduque  \n",
       "663882           NaN       NaN     NaN          NaN  Marinduque  \n",
       "\n",
       "[663883 rows x 84 columns]"
      ]
     },
     "execution_count": 7,
     "metadata": {},
     "output_type": "execute_result"
    }
   ],
   "source": [
    "all_df = palawan_df.append(marinduque_df, ignore_index=True)\n",
    "all_df"
   ]
  },
  {
   "cell_type": "code",
   "execution_count": 8,
   "metadata": {},
   "outputs": [
    {
     "name": "stdout",
     "output_type": "stream",
     "text": [
      "<class 'pandas.core.frame.DataFrame'>\n",
      "RangeIndex: 663883 entries, 0 to 663882\n",
      "Data columns (total 84 columns):\n",
      " #   Column               Non-Null Count   Dtype \n",
      "---  ------               --------------   ----- \n",
      " 0   main.id              663883 non-null  object\n",
      " 1   memno                663883 non-null  object\n",
      " 2   nucfam               663883 non-null  object\n",
      " 3   reln                 663882 non-null  object\n",
      " 4   reln_o               3506 non-null    object\n",
      " 5   sex                  663883 non-null  object\n",
      " 6   birth_date           663883 non-null  object\n",
      " 7   age                  459102 non-null  object\n",
      " 8   age_yr               663883 non-null  object\n",
      " 9   birth_reg            663883 non-null  object\n",
      " 10  civstat              628703 non-null  object\n",
      " 11  ethgrp               663882 non-null  object\n",
      " 12  ethgrp_o             41 non-null      object\n",
      " 13  ofw                  23276 non-null   object\n",
      " 14  mlenresid            616568 non-null  object\n",
      " 15  country_resid        7436 non-null    object\n",
      " 16  country_resid_o      4 non-null       object\n",
      " 17  prov_resid_code      5510 non-null    object\n",
      " 18  mun_resid_code       3522 non-null    object\n",
      " 19  brgy_resid_code      1798 non-null    object\n",
      " 20  mun_resid_txt        1992 non-null    object\n",
      " 21  brgy_resid_txt       3689 non-null    object\n",
      " 22  educind              616430 non-null  object\n",
      " 23  gradel               233484 non-null  object\n",
      " 24  sch_type             231962 non-null  object\n",
      " 25  gradel_calc          663883 non-null  object\n",
      " 26  ynotsch              294166 non-null  object\n",
      " 27  ynotsch_o            13151 non-null   object\n",
      " 28  educal               619678 non-null  object\n",
      " 29  psced7               39408 non-null   object\n",
      " 30  course_o             1 non-null       object\n",
      " 31  literind             503053 non-null  object\n",
      " 32  regvotind            421488 non-null  object\n",
      " 33  voted_last_election  343439 non-null  object\n",
      " 34  jobind               585970 non-null  object\n",
      " 35  entrepind            411211 non-null  object\n",
      " 36  njob                 663882 non-null  object\n",
      " 37  occup                197612 non-null  object\n",
      " 38  psoc4                197199 non-null  object\n",
      " 39  indust               196983 non-null  object\n",
      " 40  psic4                196901 non-null  object\n",
      " 41  jstatus              196819 non-null  object\n",
      " 42  work_ddhrs           663883 non-null  object\n",
      " 43  work_wkhrs           663882 non-null  object\n",
      " 44  fadd_work_hrs        196774 non-null  object\n",
      " 45  fxtra_wrk            196766 non-null  object\n",
      " 46  workcl               196618 non-null  object\n",
      " 47  fjob                 237716 non-null  object\n",
      " 48  first_fjob           9926 non-null    object\n",
      " 49  jsearch_meth         8498 non-null    object\n",
      " 50  jsearch_meth_o       250 non-null     object\n",
      " 51  wks_fjob             663881 non-null  object\n",
      " 52  ynotlookjob          225815 non-null  object\n",
      " 53  ynotlookjob_o        5074 non-null    object\n",
      " 54  lastlookjob          224928 non-null  object\n",
      " 55  joppind              232619 non-null  object\n",
      " 56  wtwind               232493 non-null  object\n",
      " 57  wagcshm              663882 non-null  object\n",
      " 58  wagkndm              663882 non-null  object\n",
      " 59  sss_ind              585946 non-null  object\n",
      " 60  pregind              13865 non-null   object\n",
      " 61  solo_parent          44206 non-null   object\n",
      " 62  pwd_ind              31168 non-null   object\n",
      " 63  pwd_type             6924 non-null    object\n",
      " 64  pwd_type_o           2364 non-null    object\n",
      " 65  pwd_id               6938 non-null    object\n",
      " 66  scid_ind             52295 non-null   object\n",
      " 67  mcrimeind            663881 non-null  object\n",
      " 68  mtheftind            650 non-null     object\n",
      " 69  mrapeind             555 non-null     object\n",
      " 70  minjurind            519 non-null     object\n",
      " 71  mcarnapind           508 non-null     object\n",
      " 72  mcattrustlind        512 non-null     object\n",
      " 73  mocrimind            538 non-null     object\n",
      " 74  mocrim               113 non-null     object\n",
      " 75  mtheftloc            197 non-null     object\n",
      " 76  mrapeloc             38 non-null      object\n",
      " 77  minjurloc            125 non-null     object\n",
      " 78  mcarnaploc           7 non-null       object\n",
      " 79  mcattrustlloc        8 non-null       object\n",
      " 80  mocrimloc            112 non-null     object\n",
      " 81  mnutind              99514 non-null   object\n",
      " 82  mnutind_date         99214 non-null   object\n",
      " 83  region               663883 non-null  object\n",
      "dtypes: object(84)\n",
      "memory usage: 425.5+ MB\n"
     ]
    }
   ],
   "source": [
    "all_df.info()"
   ]
  },
  {
   "cell_type": "code",
   "execution_count": 9,
   "metadata": {},
   "outputs": [],
   "source": [
    "all_df.loc[all_df['educal'].isnull(),'educal'] = -1\n",
    "all_df.loc[all_df['ynotsch'].isnull(),'ynotsch'] = -1"
   ]
  },
  {
   "cell_type": "code",
   "execution_count": 10,
   "metadata": {},
   "outputs": [
    {
     "data": {
      "text/plain": [
       "1            338140\n",
       "2            325742\n",
       "7/23/2003         1\n",
       "Name: sex, dtype: int64"
      ]
     },
     "execution_count": 10,
     "metadata": {},
     "output_type": "execute_result"
    }
   ],
   "source": [
    "all_df[\"sex\"].value_counts()"
   ]
  },
  {
   "cell_type": "code",
   "execution_count": 11,
   "metadata": {},
   "outputs": [
    {
     "data": {
      "text/plain": [
       "array(['1', '2', '7/23/2003'], dtype=object)"
      ]
     },
     "execution_count": 11,
     "metadata": {},
     "output_type": "execute_result"
    }
   ],
   "source": [
    "all_df[\"sex\"].unique()"
   ]
  },
  {
   "cell_type": "code",
   "execution_count": 12,
   "metadata": {},
   "outputs": [],
   "source": [
    "all_df[\"sex\"] = all_df[\"sex\"].map({'1': 'male', '2': 'female'})"
   ]
  },
  {
   "cell_type": "code",
   "execution_count": 13,
   "metadata": {},
   "outputs": [
    {
     "data": {
      "text/plain": [
       "array(['male', 'female', nan], dtype=object)"
      ]
     },
     "execution_count": 13,
     "metadata": {},
     "output_type": "execute_result"
    }
   ],
   "source": [
    "all_df[\"sex\"].unique()"
   ]
  },
  {
   "cell_type": "code",
   "execution_count": 14,
   "metadata": {},
   "outputs": [],
   "source": [
    "all_df['wagcshm'] = pd.to_numeric(all_df[\"wagcshm\"])"
   ]
  },
  {
   "cell_type": "code",
   "execution_count": 15,
   "metadata": {},
   "outputs": [
    {
     "data": {
      "text/plain": [
       "0.0          535462\n",
       "36000.0        7417\n",
       "24000.0        4926\n",
       "10000.0        4855\n",
       "30000.0        4639\n",
       "              ...  \n",
       "120800.0          1\n",
       "292654.0          1\n",
       "73140.0           1\n",
       "4680000.0         1\n",
       "65285.0           1\n",
       "Name: wagcshm, Length: 4584, dtype: int64"
      ]
     },
     "execution_count": 15,
     "metadata": {},
     "output_type": "execute_result"
    }
   ],
   "source": [
    "all_df[\"wagcshm\"].value_counts()"
   ]
  },
  {
   "cell_type": "code",
   "execution_count": 16,
   "metadata": {},
   "outputs": [],
   "source": [
    "all_df['age_yr'] = all_df['age_yr'].astype(int)"
   ]
  },
  {
   "cell_type": "code",
   "execution_count": 17,
   "metadata": {},
   "outputs": [
    {
     "data": {
      "text/plain": [
       "(376437, 84)"
      ]
     },
     "execution_count": 17,
     "metadata": {},
     "output_type": "execute_result"
    }
   ],
   "source": [
    "over18 = all_df[all_df[\"age_yr\"] >= 18]\n",
    "over18.shape"
   ]
  },
  {
   "cell_type": "code",
   "execution_count": 18,
   "metadata": {},
   "outputs": [
    {
     "data": {
      "text/plain": [
       "18     12919\n",
       "19     12607\n",
       "20     11857\n",
       "21     11099\n",
       "22     10714\n",
       "       ...  \n",
       "361        1\n",
       "105        1\n",
       "325        1\n",
       "961        1\n",
       "238        1\n",
       "Name: age_yr, Length: 115, dtype: int64"
      ]
     },
     "execution_count": 18,
     "metadata": {},
     "output_type": "execute_result"
    }
   ],
   "source": [
    "over18[\"age_yr\"].value_counts()"
   ]
  },
  {
   "cell_type": "code",
   "execution_count": 19,
   "metadata": {},
   "outputs": [],
   "source": [
    "#over18 = over18.dropna(subset=['educal'])"
   ]
  },
  {
   "cell_type": "code",
   "execution_count": 20,
   "metadata": {},
   "outputs": [
    {
     "name": "stderr",
     "output_type": "stream",
     "text": [
      "<ipython-input-20-53e8f626a678>:1: SettingWithCopyWarning: \n",
      "A value is trying to be set on a copy of a slice from a DataFrame.\n",
      "Try using .loc[row_indexer,col_indexer] = value instead\n",
      "\n",
      "See the caveats in the documentation: https://pandas.pydata.org/pandas-docs/stable/user_guide/indexing.html#returning-a-view-versus-a-copy\n",
      "  over18['educal'] = over18['educal'].astype(int)\n"
     ]
    }
   ],
   "source": [
    "over18['educal'] = over18['educal'].astype(int)"
   ]
  },
  {
   "cell_type": "code",
   "execution_count": 21,
   "metadata": {},
   "outputs": [
    {
     "name": "stderr",
     "output_type": "stream",
     "text": [
      "<ipython-input-21-a023b4741cd0>:1: SettingWithCopyWarning: \n",
      "A value is trying to be set on a copy of a slice from a DataFrame.\n",
      "Try using .loc[row_indexer,col_indexer] = value instead\n",
      "\n",
      "See the caveats in the documentation: https://pandas.pydata.org/pandas-docs/stable/user_guide/indexing.html#returning-a-view-versus-a-copy\n",
      "  over18[\"educal\"] = over18[\"educal\"].map({0: 'No Grade', 1: 'Day Care', 2: 'Nurser/Kindergarten/Preparatory', 11: 'Grade 1', 12: 'Grade 2', 13: 'Grade 3', 14: 'Grade 4', 15: 'Grade 5', 16: 'Grade 6', 17: 'Grade 7', 18: 'Grade 8', 19: 'Grade 9', 20: 'Grade 10', 21: 'Grade 11', 22: 'Grade 12', 23: '1st year PS PS/N-T/TV', 24: '2nd year PS PS/N-T/TV', 25: '3rd year PS PS/N-T/TV', 31: '1st year College', 32: '2nd year College', 33: '3rd year College', 34: '4th year College or higher', 41: 'Post grad with units', 51: 'ALS Elementary', 52: 'ALS Secondary', 53: 'SPED Elementary', 54: 'SPED Secondary', 100: 'Grade school graduate', 200: 'High school graduate', 210: 'Post secondary graduate', 300: 'College graduate', 400: \"Master's\\PhD graduate\"})\n"
     ]
    }
   ],
   "source": [
    "over18[\"educal\"] = over18[\"educal\"].map({0: 'No Grade', 1: 'Day Care', 2: 'Nurser/Kindergarten/Preparatory', 11: 'Grade 1', 12: 'Grade 2', 13: 'Grade 3', 14: 'Grade 4', 15: 'Grade 5', 16: 'Grade 6', 17: 'Grade 7', 18: 'Grade 8', 19: 'Grade 9', 20: 'Grade 10', 21: 'Grade 11', 22: 'Grade 12', 23: '1st year PS PS/N-T/TV', 24: '2nd year PS PS/N-T/TV', 25: '3rd year PS PS/N-T/TV', 31: '1st year College', 32: '2nd year College', 33: '3rd year College', 34: '4th year College or higher', 41: 'Post grad with units', 51: 'ALS Elementary', 52: 'ALS Secondary', 53: 'SPED Elementary', 54: 'SPED Secondary', 100: 'Grade school graduate', 200: 'High school graduate', 210: 'Post secondary graduate', 300: 'College graduate', 400: \"Master's\\PhD graduate\"})"
   ]
  },
  {
   "cell_type": "markdown",
   "metadata": {},
   "source": [
    "- 0 = **`No Grade`**\n",
    "- 1 = **`Day Care`**\n",
    "- 2 = **`Nurser/Kindergarten/Preparatory`**\n",
    "- 11 = **`Grade 1`**\n",
    "- 12 = **`Grade 2`**\n",
    "- 13 = **`Grade 3`**\n",
    "- 14 = **`Grade 4`**\n",
    "- 15 = **`Grade 5`**\n",
    "- 16 = **`Grade 6`**\n",
    "- 17 = **`Grade 7`**\n",
    "- 18 = **`Grade 8`**\n",
    "- 19 = **`Grade 9/3rd Year HS`**\n",
    "- 20 = **`Grade 10/4th Year HS`**\n",
    "- 21 = **`Grade 11`**\n",
    "- 22 = **`Grade 12`**\n",
    "- 23 = **`1st year PS PS/N-T/TV`**\n",
    "- 24 = **`2nd year PS PS/N-T/TV`**\n",
    "- 25 = **`3rd year PS PS/N-T/TV`**\n",
    "- 31 = **`1st year College`**\n",
    "- 32 = **`2nd year College`**\n",
    "- 33 = **`3rd year College`**\n",
    "- 34 = **`4th year College or higher`**\n",
    "- 41 = **`Post grad with units`**\n",
    "- 51 = **`ALS Elementary`**\n",
    "- 52 = **`ALS Secondary`**\n",
    "- 53 = **`SPED Elementary`**\n",
    "- 54 = **`SPED Secondary`**\n",
    "- 100 = **`Grade school graduate`**\n",
    "- 200 = **`High school graduate`**\n",
    "- 210 = **`Post secondary graduate`**\n",
    "- 300 = **`College graduate`**\n",
    "- 400 = **`Master's/PhD graduate`**"
   ]
  },
  {
   "cell_type": "code",
   "execution_count": 22,
   "metadata": {},
   "outputs": [
    {
     "data": {
      "text/html": [
       "<div>\n",
       "<style scoped>\n",
       "    .dataframe tbody tr th:only-of-type {\n",
       "        vertical-align: middle;\n",
       "    }\n",
       "\n",
       "    .dataframe tbody tr th {\n",
       "        vertical-align: top;\n",
       "    }\n",
       "\n",
       "    .dataframe thead tr th {\n",
       "        text-align: left;\n",
       "    }\n",
       "\n",
       "    .dataframe thead tr:last-of-type th {\n",
       "        text-align: right;\n",
       "    }\n",
       "</style>\n",
       "<table border=\"1\" class=\"dataframe\">\n",
       "  <thead>\n",
       "    <tr>\n",
       "      <th></th>\n",
       "      <th>wagcshm</th>\n",
       "    </tr>\n",
       "    <tr>\n",
       "      <th></th>\n",
       "      <th>mean</th>\n",
       "    </tr>\n",
       "    <tr>\n",
       "      <th>educal</th>\n",
       "      <th></th>\n",
       "    </tr>\n",
       "  </thead>\n",
       "  <tbody>\n",
       "    <tr>\n",
       "      <th>1st year College</th>\n",
       "      <td>13376.636343</td>\n",
       "    </tr>\n",
       "    <tr>\n",
       "      <th>1st year PS PS/N-T/TV</th>\n",
       "      <td>18856.615830</td>\n",
       "    </tr>\n",
       "    <tr>\n",
       "      <th>2nd year College</th>\n",
       "      <td>19447.958724</td>\n",
       "    </tr>\n",
       "    <tr>\n",
       "      <th>2nd year PS PS/N-T/TV</th>\n",
       "      <td>26123.220484</td>\n",
       "    </tr>\n",
       "    <tr>\n",
       "      <th>3rd year College</th>\n",
       "      <td>35125.817592</td>\n",
       "    </tr>\n",
       "    <tr>\n",
       "      <th>3rd year PS PS/N-T/TV</th>\n",
       "      <td>20389.663126</td>\n",
       "    </tr>\n",
       "    <tr>\n",
       "      <th>4th year College or higher</th>\n",
       "      <td>73523.048745</td>\n",
       "    </tr>\n",
       "    <tr>\n",
       "      <th>ALS Elementary</th>\n",
       "      <td>6529.589744</td>\n",
       "    </tr>\n",
       "    <tr>\n",
       "      <th>ALS Secondary</th>\n",
       "      <td>12908.370526</td>\n",
       "    </tr>\n",
       "    <tr>\n",
       "      <th>College graduate</th>\n",
       "      <td>94192.041072</td>\n",
       "    </tr>\n",
       "    <tr>\n",
       "      <th>Day Care</th>\n",
       "      <td>2209.848485</td>\n",
       "    </tr>\n",
       "    <tr>\n",
       "      <th>Grade 1</th>\n",
       "      <td>5726.861111</td>\n",
       "    </tr>\n",
       "    <tr>\n",
       "      <th>Grade 10</th>\n",
       "      <td>17715.051859</td>\n",
       "    </tr>\n",
       "    <tr>\n",
       "      <th>Grade 11</th>\n",
       "      <td>16794.163043</td>\n",
       "    </tr>\n",
       "    <tr>\n",
       "      <th>Grade 12</th>\n",
       "      <td>10128.683230</td>\n",
       "    </tr>\n",
       "    <tr>\n",
       "      <th>Grade 2</th>\n",
       "      <td>7587.869108</td>\n",
       "    </tr>\n",
       "    <tr>\n",
       "      <th>Grade 3</th>\n",
       "      <td>8126.582437</td>\n",
       "    </tr>\n",
       "    <tr>\n",
       "      <th>Grade 4</th>\n",
       "      <td>8101.655763</td>\n",
       "    </tr>\n",
       "    <tr>\n",
       "      <th>Grade 5</th>\n",
       "      <td>8943.844268</td>\n",
       "    </tr>\n",
       "    <tr>\n",
       "      <th>Grade 6</th>\n",
       "      <td>11297.798709</td>\n",
       "    </tr>\n",
       "    <tr>\n",
       "      <th>Grade 7</th>\n",
       "      <td>11586.819633</td>\n",
       "    </tr>\n",
       "    <tr>\n",
       "      <th>Grade 8</th>\n",
       "      <td>13212.730414</td>\n",
       "    </tr>\n",
       "    <tr>\n",
       "      <th>Grade 9</th>\n",
       "      <td>13437.910655</td>\n",
       "    </tr>\n",
       "    <tr>\n",
       "      <th>Grade school graduate</th>\n",
       "      <td>10478.771690</td>\n",
       "    </tr>\n",
       "    <tr>\n",
       "      <th>High school graduate</th>\n",
       "      <td>16286.882799</td>\n",
       "    </tr>\n",
       "    <tr>\n",
       "      <th>Master's\\PhD graduate</th>\n",
       "      <td>322173.800578</td>\n",
       "    </tr>\n",
       "    <tr>\n",
       "      <th>No Grade</th>\n",
       "      <td>4541.289428</td>\n",
       "    </tr>\n",
       "    <tr>\n",
       "      <th>Nurser/Kindergarten/Preparatory</th>\n",
       "      <td>3637.244094</td>\n",
       "    </tr>\n",
       "    <tr>\n",
       "      <th>Post grad with units</th>\n",
       "      <td>37096.922608</td>\n",
       "    </tr>\n",
       "    <tr>\n",
       "      <th>Post secondary graduate</th>\n",
       "      <td>30620.401988</td>\n",
       "    </tr>\n",
       "    <tr>\n",
       "      <th>SPED Elementary</th>\n",
       "      <td>11942.679487</td>\n",
       "    </tr>\n",
       "    <tr>\n",
       "      <th>SPED Secondary</th>\n",
       "      <td>20014.117647</td>\n",
       "    </tr>\n",
       "  </tbody>\n",
       "</table>\n",
       "</div>"
      ],
      "text/plain": [
       "                                       wagcshm\n",
       "                                          mean\n",
       "educal                                        \n",
       "1st year College                  13376.636343\n",
       "1st year PS PS/N-T/TV             18856.615830\n",
       "2nd year College                  19447.958724\n",
       "2nd year PS PS/N-T/TV             26123.220484\n",
       "3rd year College                  35125.817592\n",
       "3rd year PS PS/N-T/TV             20389.663126\n",
       "4th year College or higher        73523.048745\n",
       "ALS Elementary                     6529.589744\n",
       "ALS Secondary                     12908.370526\n",
       "College graduate                  94192.041072\n",
       "Day Care                           2209.848485\n",
       "Grade 1                            5726.861111\n",
       "Grade 10                          17715.051859\n",
       "Grade 11                          16794.163043\n",
       "Grade 12                          10128.683230\n",
       "Grade 2                            7587.869108\n",
       "Grade 3                            8126.582437\n",
       "Grade 4                            8101.655763\n",
       "Grade 5                            8943.844268\n",
       "Grade 6                           11297.798709\n",
       "Grade 7                           11586.819633\n",
       "Grade 8                           13212.730414\n",
       "Grade 9                           13437.910655\n",
       "Grade school graduate             10478.771690\n",
       "High school graduate              16286.882799\n",
       "Master's\\PhD graduate            322173.800578\n",
       "No Grade                           4541.289428\n",
       "Nurser/Kindergarten/Preparatory    3637.244094\n",
       "Post grad with units              37096.922608\n",
       "Post secondary graduate           30620.401988\n",
       "SPED Elementary                   11942.679487\n",
       "SPED Secondary                    20014.117647"
      ]
     },
     "execution_count": 22,
     "metadata": {},
     "output_type": "execute_result"
    }
   ],
   "source": [
    "educ_salary = over18.groupby(\"educal\").agg({\"wagcshm\": [\"mean\"]}).sort_values((\"educal\"))\n",
    "educ_salary"
   ]
  },
  {
   "cell_type": "code",
   "execution_count": 23,
   "metadata": {},
   "outputs": [
    {
     "data": {
      "text/plain": [
       "Text(0.5, 1.0, 'Bar plot of survival status of Titanic passengers')"
      ]
     },
     "execution_count": 23,
     "metadata": {},
     "output_type": "execute_result"
    },
    {
     "data": {
      "image/png": "[encoded data removed]",
      "text/plain": [
       "<Figure size 576x576 with 1 Axes>"
      ]
     },
     "metadata": {
      "needs_background": "light"
     },
     "output_type": "display_data"
    }
   ],
   "source": [
    "educ_salary.plot(kind=\"barh\", figsize=(8, 8))\n",
    "plt.xlabel('Survived')\n",
    "plt.ylabel('Count')\n",
    "plt.title('Bar plot of survival status of Titanic passengers')"
   ]
  },
  {
   "cell_type": "code",
   "execution_count": 26,
   "metadata": {},
   "outputs": [
    {
     "data": {
      "text/plain": [
       "Text(0.5, 1.0, '')"
      ]
     },
     "execution_count": 26,
     "metadata": {},
     "output_type": "execute_result"
    },
    {
     "data": {
      "image/png": "[encoded data removed]",
      "text/plain": [
       "<Figure size 576x576 with 1 Axes>"
      ]
     },
     "metadata": {
      "needs_background": "light"
     },
     "output_type": "display_data"
    }
   ],
   "source": [
    "all_df.groupby(['educal', 'sex']).size().unstack().plot(kind='barh',  figsize=(8, 8))\n",
    "plt.xlabel('Educational Attainment')\n",
    "plt.ylabel('Count')\n",
    "plt.title('')"
   ]
  },
  {
   "cell_type": "code",
   "execution_count": 27,
   "metadata": {},
   "outputs": [],
   "source": [
    "young_people_df = all_df.query(\"age_yr <= 24\")"
   ]
  },
  {
   "cell_type": "code",
   "execution_count": 28,
   "metadata": {},
   "outputs": [
    {
     "data": {
      "text/plain": [
       "2         21\n",
       "3         16\n",
       "4         11\n",
       "5          3\n",
       "8         12\n",
       "          ..\n",
       "663878    20\n",
       "663879    18\n",
       "663880    15\n",
       "663881    13\n",
       "663882     8\n",
       "Name: age_yr, Length: 367054, dtype: int32"
      ]
     },
     "execution_count": 28,
     "metadata": {},
     "output_type": "execute_result"
    }
   ],
   "source": [
    "young_people_df[\"age_yr\"]"
   ]
  },
  {
   "cell_type": "code",
   "execution_count": 29,
   "metadata": {},
   "outputs": [
    {
     "data": {
      "text/plain": [
       "<matplotlib.axes._subplots.AxesSubplot at 0x1f118216670>"
      ]
     },
     "execution_count": 29,
     "metadata": {},
     "output_type": "execute_result"
    },
    {
     "data": {
      "image/png": "[encoded data removed]",
      "text/plain": [
       "<Figure size 432x288 with 1 Axes>"
      ]
     },
     "metadata": {
      "needs_background": "light"
     },
     "output_type": "display_data"
    }
   ],
   "source": [
    "all_df.groupby(['educal'])['wagcshm'].count().plot(kind='bar')"
   ]
  },
  {
   "cell_type": "code",
   "execution_count": 30,
   "metadata": {},
   "outputs": [
    {
     "data": {
      "text/plain": [
       "2         -1\n",
       "3          1\n",
       "4         -1\n",
       "5         -1\n",
       "8         -1\n",
       "          ..\n",
       "663878    -1\n",
       "663879    -1\n",
       "663880    -1\n",
       "663881    -1\n",
       "663882    -1\n",
       "Name: ynotsch, Length: 367054, dtype: object"
      ]
     },
     "execution_count": 30,
     "metadata": {},
     "output_type": "execute_result"
    }
   ],
   "source": [
    "young_people_df[\"ynotsch\"]"
   ]
  },
  {
   "cell_type": "code",
   "execution_count": 31,
   "metadata": {},
   "outputs": [],
   "source": [
    "#young_people_df = young_people_df.dropna(subset=['ynotsch'])"
   ]
  },
  {
   "cell_type": "code",
   "execution_count": 32,
   "metadata": {},
   "outputs": [
    {
     "data": {
      "text/plain": [
       "array([-1, '1', '9', '14', '5', '15', '4', '3', '8', '11', '6', '13', '7',\n",
       "       '2', '12', '10'], dtype=object)"
      ]
     },
     "execution_count": 32,
     "metadata": {},
     "output_type": "execute_result"
    }
   ],
   "source": [
    "young_people_df[\"ynotsch\"].unique()"
   ]
  },
  {
   "cell_type": "code",
   "execution_count": 33,
   "metadata": {},
   "outputs": [
    {
     "data": {
      "text/plain": [
       "ynotsch  sex   \n",
       "-1       female    132145\n",
       "         male      134560\n",
       "1        female      2150\n",
       "         male        2478\n",
       "10       female       537\n",
       "         male         793\n",
       "11       female      4814\n",
       "         male        3870\n",
       "12       female        63\n",
       "         male         113\n",
       "13       female        72\n",
       "         male          76\n",
       "14       female      9620\n",
       "         male       10638\n",
       "15       female      1795\n",
       "         male        1274\n",
       "2        female       162\n",
       "         male         163\n",
       "3        female       267\n",
       "         male         278\n",
       "4        female      5201\n",
       "         male        5775\n",
       "5        female       896\n",
       "         male        1173\n",
       "6        female      8015\n",
       "         male        1072\n",
       "7        female      4051\n",
       "         male        1207\n",
       "8        female      4558\n",
       "         male       12048\n",
       "9        female      5284\n",
       "         male       11905\n",
       "dtype: int64"
      ]
     },
     "execution_count": 33,
     "metadata": {},
     "output_type": "execute_result"
    }
   ],
   "source": [
    "#young_people_df['ynotsch'] = young_people_df['ynotsch'].astype(int)\n",
    "young_people_df.groupby([\"ynotsch\", \"sex\"]).size()"
   ]
  },
  {
   "cell_type": "code",
   "execution_count": 34,
   "metadata": {},
   "outputs": [
    {
     "name": "stderr",
     "output_type": "stream",
     "text": [
      "<ipython-input-34-66c8cdfc3e08>:1: SettingWithCopyWarning: \n",
      "A value is trying to be set on a copy of a slice from a DataFrame.\n",
      "Try using .loc[row_indexer,col_indexer] = value instead\n",
      "\n",
      "See the caveats in the documentation: https://pandas.pydata.org/pandas-docs/stable/user_guide/indexing.html#returning-a-view-versus-a-copy\n",
      "  young_people_df['ynotsch'] = young_people_df['ynotsch'].astype(int)\n"
     ]
    }
   ],
   "source": [
    "young_people_df['ynotsch'] = young_people_df['ynotsch'].astype(int)"
   ]
  },
  {
   "cell_type": "code",
   "execution_count": 35,
   "metadata": {},
   "outputs": [
    {
     "name": "stderr",
     "output_type": "stream",
     "text": [
      "<ipython-input-35-1fe76b60ac22>:1: SettingWithCopyWarning: \n",
      "A value is trying to be set on a copy of a slice from a DataFrame.\n",
      "Try using .loc[row_indexer,col_indexer] = value instead\n",
      "\n",
      "See the caveats in the documentation: https://pandas.pydata.org/pandas-docs/stable/user_guide/indexing.html#returning-a-view-versus-a-copy\n",
      "  young_people_df[\"ynotsch\"] = young_people_df[\"ynotsch\"].map({1: 'Schools are very far', 2: 'No school within the brgy', 3: 'No regular transportation', 4: 'High cost of education', 5: 'Illness/Disability', 6: 'Housekeeping/taking care of siblings', 7: 'Marriage', 8: 'Employment/looking for work', 9: 'Lack of personal interest', 10: 'Cannot cope with school work', 11: 'Finished schooling', 12: 'Problem with school record', 13: 'Problem with birth certificate', 14: 'Too young to go to school', 15: 'Others'})\n"
     ]
    }
   ],
   "source": [
    "young_people_df[\"ynotsch\"] = young_people_df[\"ynotsch\"].map({1: 'Schools are very far', 2: 'No school within the brgy', 3: 'No regular transportation', 4: 'High cost of education', 5: 'Illness/Disability', 6: 'Housekeeping/taking care of siblings', 7: 'Marriage', 8: 'Employment/looking for work', 9: 'Lack of personal interest', 10: 'Cannot cope with school work', 11: 'Finished schooling', 12: 'Problem with school record', 13: 'Problem with birth certificate', 14: 'Too young to go to school', 15: 'Others'})"
   ]
  },
  {
   "cell_type": "code",
   "execution_count": 36,
   "metadata": {},
   "outputs": [
    {
     "data": {
      "text/plain": [
       "Text(0.5, 1.0, '')"
      ]
     },
     "execution_count": 36,
     "metadata": {},
     "output_type": "execute_result"
    },
    {
     "data": {
      "image/png": "[encoded data removed]",
      "text/plain": [
       "<Figure size 576x576 with 1 Axes>"
      ]
     },
     "metadata": {
      "needs_background": "light"
     },
     "output_type": "display_data"
    }
   ],
   "source": [
    "young_people_df.groupby(['ynotsch', 'sex']).size().unstack().plot(kind='barh', stacked='True', figsize=(8, 8))\n",
    "plt.xlabel('Count')\n",
    "plt.ylabel('Reason for Not Going to School')\n",
    "plt.title('')"
   ]
  }
 ],
 "metadata": {
  "colab": {
   "name": "Untitled0.ipynb",
   "provenance": []
  },
  "kernelspec": {
   "display_name": "Python 3",
   "language": "python",
   "name": "python3"
  },
  "language_info": {
   "codemirror_mode": {
    "name": "ipython",
    "version": 3
   },
   "file_extension": ".py",
   "mimetype": "text/x-python",
   "name": "python",
   "nbconvert_exporter": "python",
   "pygments_lexer": "ipython3",
   "version": "3.8.3"
  }
 },
 "nbformat": 4,
 "nbformat_minor": 1
}
