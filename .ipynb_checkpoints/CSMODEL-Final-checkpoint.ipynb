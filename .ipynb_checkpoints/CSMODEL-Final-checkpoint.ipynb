{
 "cells": [
  {
   "cell_type": "markdown",
   "metadata": {},
   "source": [
    "## Import\n",
    "Import **numpy**, **pandas** and **matplotlib**."
   ]
  },
  {
   "cell_type": "code",
   "execution_count": 1,
   "metadata": {
    "colab": {},
    "colab_type": "code",
    "id": "3lpcFkQ9nF43"
   },
   "outputs": [],
   "source": [
    "import numpy as np\n",
    "import pandas as pd\n",
    "import math\n",
    "import matplotlib.pyplot as plt\n",
    "from scipy.stats import norm\n",
    "from scipy.stats import ttest_ind"
   ]
  },
  {
   "cell_type": "markdown",
   "metadata": {},
   "source": [
    "## Set the CSV filenames\n",
    "Set the CSV filenames for **Marinduqe** and **Palawan** dataset."
   ]
  },
  {
   "cell_type": "code",
   "execution_count": 2,
   "metadata": {
    "colab": {},
    "colab_type": "code",
    "id": "jJKYgHudnhoW"
   },
   "outputs": [],
   "source": [
    "marinduque_hh_url = \"hpq_hh_marinduque.csv\"\n",
    "marinduque_mem_url = \"hpq_mem_marinduque.csv\"\n",
    "palawan_hh_url = \"hpq_hh_palawan.csv\"\n",
    "palawan_mem_url = \"hpq_mem_palawan.csv\""
   ]
  },
  {
   "cell_type": "markdown",
   "metadata": {},
   "source": [
    "## Reading the Dataset"
   ]
  },
  {
   "cell_type": "markdown",
   "metadata": {},
   "source": [
    "Reading the **Marinduque** dataset."
   ]
  },
  {
   "cell_type": "code",
   "execution_count": 3,
   "metadata": {
    "colab": {
     "base_uri": "https://localhost:8080/",
     "height": 68
    },
    "colab_type": "code",
    "id": "c29k9WbLnnzS",
    "outputId": "7bbdb297-a3cb-42f6-8767-f074def4eb21"
   },
   "outputs": [
    {
     "data": {
      "text/plain": [
       "(204781, 82)"
      ]
     },
     "execution_count": 3,
     "metadata": {},
     "output_type": "execute_result"
    }
   ],
   "source": [
    "marinduque_mem_df = pd.read_csv(marinduque_mem_url, dtype='unicode')\n",
    "marinduque_mem_df.shape"
   ]
  },
  {
   "cell_type": "markdown",
   "metadata": {},
   "source": [
    "Create a new column called **province** and set it as **Marinduque**. We added this column to distinguish the dataset between the two provinces."
   ]
  },
  {
   "cell_type": "code",
   "execution_count": 4,
   "metadata": {
    "colab": {
     "base_uri": "https://localhost:8080/",
     "height": 253
    },
    "colab_type": "code",
    "id": "xkG08vg0noRA",
    "outputId": "05e48d84-473a-400a-d6d5-139c8175d295"
   },
   "outputs": [
    {
     "data": {
      "text/html": [
       "<div>\n",
       "<style scoped>\n",
       "    .dataframe tbody tr th:only-of-type {\n",
       "        vertical-align: middle;\n",
       "    }\n",
       "\n",
       "    .dataframe tbody tr th {\n",
       "        vertical-align: top;\n",
       "    }\n",
       "\n",
       "    .dataframe thead th {\n",
       "        text-align: right;\n",
       "    }\n",
       "</style>\n",
       "<table border=\"1\" class=\"dataframe\">\n",
       "  <thead>\n",
       "    <tr style=\"text-align: right;\">\n",
       "      <th></th>\n",
       "      <th>main.id</th>\n",
       "      <th>memno</th>\n",
       "      <th>nucfam</th>\n",
       "      <th>reln</th>\n",
       "      <th>reln_o</th>\n",
       "      <th>sex</th>\n",
       "      <th>birth_date</th>\n",
       "      <th>age_yr</th>\n",
       "      <th>birth_reg</th>\n",
       "      <th>civstat</th>\n",
       "      <th>...</th>\n",
       "      <th>mocrim</th>\n",
       "      <th>mtheftloc</th>\n",
       "      <th>mrapeloc</th>\n",
       "      <th>minjurloc</th>\n",
       "      <th>mcarnaploc</th>\n",
       "      <th>mcattrustlloc</th>\n",
       "      <th>mocrimloc</th>\n",
       "      <th>mnutind</th>\n",
       "      <th>mnutind_date</th>\n",
       "      <th>province</th>\n",
       "    </tr>\n",
       "  </thead>\n",
       "  <tbody>\n",
       "    <tr>\n",
       "      <th>0</th>\n",
       "      <td>199036</td>\n",
       "      <td>1</td>\n",
       "      <td>1</td>\n",
       "      <td>1</td>\n",
       "      <td>NaN</td>\n",
       "      <td>1</td>\n",
       "      <td>11/6/1960</td>\n",
       "      <td>53</td>\n",
       "      <td>1</td>\n",
       "      <td>2</td>\n",
       "      <td>...</td>\n",
       "      <td>NaN</td>\n",
       "      <td>NaN</td>\n",
       "      <td>NaN</td>\n",
       "      <td>NaN</td>\n",
       "      <td>NaN</td>\n",
       "      <td>NaN</td>\n",
       "      <td>NaN</td>\n",
       "      <td>NaN</td>\n",
       "      <td>NaN</td>\n",
       "      <td>Marinduque</td>\n",
       "    </tr>\n",
       "    <tr>\n",
       "      <th>1</th>\n",
       "      <td>199036</td>\n",
       "      <td>2</td>\n",
       "      <td>1</td>\n",
       "      <td>2</td>\n",
       "      <td>NaN</td>\n",
       "      <td>2</td>\n",
       "      <td>11/17/1961</td>\n",
       "      <td>52</td>\n",
       "      <td>1</td>\n",
       "      <td>2</td>\n",
       "      <td>...</td>\n",
       "      <td>NaN</td>\n",
       "      <td>NaN</td>\n",
       "      <td>NaN</td>\n",
       "      <td>NaN</td>\n",
       "      <td>NaN</td>\n",
       "      <td>NaN</td>\n",
       "      <td>NaN</td>\n",
       "      <td>NaN</td>\n",
       "      <td>NaN</td>\n",
       "      <td>Marinduque</td>\n",
       "    </tr>\n",
       "    <tr>\n",
       "      <th>2</th>\n",
       "      <td>199036</td>\n",
       "      <td>3</td>\n",
       "      <td>1</td>\n",
       "      <td>3</td>\n",
       "      <td>NaN</td>\n",
       "      <td>2</td>\n",
       "      <td>3/5/1991</td>\n",
       "      <td>23</td>\n",
       "      <td>1</td>\n",
       "      <td>1</td>\n",
       "      <td>...</td>\n",
       "      <td>NaN</td>\n",
       "      <td>NaN</td>\n",
       "      <td>NaN</td>\n",
       "      <td>NaN</td>\n",
       "      <td>NaN</td>\n",
       "      <td>NaN</td>\n",
       "      <td>NaN</td>\n",
       "      <td>NaN</td>\n",
       "      <td>NaN</td>\n",
       "      <td>Marinduque</td>\n",
       "    </tr>\n",
       "    <tr>\n",
       "      <th>3</th>\n",
       "      <td>199036</td>\n",
       "      <td>4</td>\n",
       "      <td>1</td>\n",
       "      <td>3</td>\n",
       "      <td>NaN</td>\n",
       "      <td>1</td>\n",
       "      <td>4/21/2000</td>\n",
       "      <td>14</td>\n",
       "      <td>1</td>\n",
       "      <td>1</td>\n",
       "      <td>...</td>\n",
       "      <td>NaN</td>\n",
       "      <td>NaN</td>\n",
       "      <td>NaN</td>\n",
       "      <td>NaN</td>\n",
       "      <td>NaN</td>\n",
       "      <td>NaN</td>\n",
       "      <td>NaN</td>\n",
       "      <td>NaN</td>\n",
       "      <td>NaN</td>\n",
       "      <td>Marinduque</td>\n",
       "    </tr>\n",
       "    <tr>\n",
       "      <th>4</th>\n",
       "      <td>199036</td>\n",
       "      <td>5</td>\n",
       "      <td>1</td>\n",
       "      <td>3</td>\n",
       "      <td>NaN</td>\n",
       "      <td>1</td>\n",
       "      <td>4/24/2002</td>\n",
       "      <td>12</td>\n",
       "      <td>1</td>\n",
       "      <td>1</td>\n",
       "      <td>...</td>\n",
       "      <td>NaN</td>\n",
       "      <td>NaN</td>\n",
       "      <td>NaN</td>\n",
       "      <td>NaN</td>\n",
       "      <td>NaN</td>\n",
       "      <td>NaN</td>\n",
       "      <td>NaN</td>\n",
       "      <td>NaN</td>\n",
       "      <td>NaN</td>\n",
       "      <td>Marinduque</td>\n",
       "    </tr>\n",
       "  </tbody>\n",
       "</table>\n",
       "<p>5 rows × 83 columns</p>\n",
       "</div>"
      ],
      "text/plain": [
       "  main.id memno nucfam reln reln_o sex  birth_date age_yr birth_reg civstat  \\\n",
       "0  199036     1      1    1    NaN   1   11/6/1960     53         1       2   \n",
       "1  199036     2      1    2    NaN   2  11/17/1961     52         1       2   \n",
       "2  199036     3      1    3    NaN   2    3/5/1991     23         1       1   \n",
       "3  199036     4      1    3    NaN   1   4/21/2000     14         1       1   \n",
       "4  199036     5      1    3    NaN   1   4/24/2002     12         1       1   \n",
       "\n",
       "   ... mocrim mtheftloc mrapeloc minjurloc mcarnaploc mcattrustlloc mocrimloc  \\\n",
       "0  ...    NaN       NaN      NaN       NaN        NaN           NaN       NaN   \n",
       "1  ...    NaN       NaN      NaN       NaN        NaN           NaN       NaN   \n",
       "2  ...    NaN       NaN      NaN       NaN        NaN           NaN       NaN   \n",
       "3  ...    NaN       NaN      NaN       NaN        NaN           NaN       NaN   \n",
       "4  ...    NaN       NaN      NaN       NaN        NaN           NaN       NaN   \n",
       "\n",
       "  mnutind mnutind_date    province  \n",
       "0     NaN          NaN  Marinduque  \n",
       "1     NaN          NaN  Marinduque  \n",
       "2     NaN          NaN  Marinduque  \n",
       "3     NaN          NaN  Marinduque  \n",
       "4     NaN          NaN  Marinduque  \n",
       "\n",
       "[5 rows x 83 columns]"
      ]
     },
     "execution_count": 4,
     "metadata": {},
     "output_type": "execute_result"
    }
   ],
   "source": [
    "marinduque_df = marinduque_mem_df\n",
    "marinduque_df[\"province\"] = \"Marinduque\"\n",
    "marinduque_df.head()"
   ]
  },
  {
   "cell_type": "markdown",
   "metadata": {},
   "source": [
    "Reading the **Palawan** dataset"
   ]
  },
  {
   "cell_type": "code",
   "execution_count": 5,
   "metadata": {
    "colab": {
     "base_uri": "https://localhost:8080/",
     "height": 68
    },
    "colab_type": "code",
    "id": "gJHEDeTToTLO",
    "outputId": "ca7a49f9-abbb-496b-c9e2-3037247d71c4"
   },
   "outputs": [
    {
     "data": {
      "text/plain": [
       "(459102, 83)"
      ]
     },
     "execution_count": 5,
     "metadata": {},
     "output_type": "execute_result"
    }
   ],
   "source": [
    "palawan_mem_df = pd.read_csv(palawan_mem_url, dtype='unicode')\n",
    "palawan_mem_df.shape"
   ]
  },
  {
   "cell_type": "markdown",
   "metadata": {},
   "source": [
    "Again, create a new column called **province** and set it as **Palawan**."
   ]
  },
  {
   "cell_type": "code",
   "execution_count": 6,
   "metadata": {
    "colab": {
     "base_uri": "https://localhost:8080/",
     "height": 253
    },
    "colab_type": "code",
    "id": "cGgR4_M8ny0t",
    "outputId": "0c1b2079-f49f-455f-92ba-30caa72a75c0"
   },
   "outputs": [
    {
     "data": {
      "text/html": [
       "<div>\n",
       "<style scoped>\n",
       "    .dataframe tbody tr th:only-of-type {\n",
       "        vertical-align: middle;\n",
       "    }\n",
       "\n",
       "    .dataframe tbody tr th {\n",
       "        vertical-align: top;\n",
       "    }\n",
       "\n",
       "    .dataframe thead th {\n",
       "        text-align: right;\n",
       "    }\n",
       "</style>\n",
       "<table border=\"1\" class=\"dataframe\">\n",
       "  <thead>\n",
       "    <tr style=\"text-align: right;\">\n",
       "      <th></th>\n",
       "      <th>main.id</th>\n",
       "      <th>memno</th>\n",
       "      <th>nucfam</th>\n",
       "      <th>reln</th>\n",
       "      <th>reln_o</th>\n",
       "      <th>sex</th>\n",
       "      <th>birth_date</th>\n",
       "      <th>age</th>\n",
       "      <th>age_yr</th>\n",
       "      <th>birth_reg</th>\n",
       "      <th>...</th>\n",
       "      <th>mocrim</th>\n",
       "      <th>mtheftloc</th>\n",
       "      <th>mrapeloc</th>\n",
       "      <th>minjurloc</th>\n",
       "      <th>mcarnaploc</th>\n",
       "      <th>mcattrustlloc</th>\n",
       "      <th>mocrimloc</th>\n",
       "      <th>mnutind</th>\n",
       "      <th>mnutind_date</th>\n",
       "      <th>province</th>\n",
       "    </tr>\n",
       "  </thead>\n",
       "  <tbody>\n",
       "    <tr>\n",
       "      <th>0</th>\n",
       "      <td>69279</td>\n",
       "      <td>15</td>\n",
       "      <td>1</td>\n",
       "      <td>1</td>\n",
       "      <td>NaN</td>\n",
       "      <td>1</td>\n",
       "      <td>6/16/1956</td>\n",
       "      <td>57.97399042</td>\n",
       "      <td>57</td>\n",
       "      <td>1</td>\n",
       "      <td>...</td>\n",
       "      <td>NaN</td>\n",
       "      <td>NaN</td>\n",
       "      <td>NaN</td>\n",
       "      <td>NaN</td>\n",
       "      <td>NaN</td>\n",
       "      <td>NaN</td>\n",
       "      <td>NaN</td>\n",
       "      <td>NaN</td>\n",
       "      <td>NaN</td>\n",
       "      <td>Palawan</td>\n",
       "    </tr>\n",
       "    <tr>\n",
       "      <th>1</th>\n",
       "      <td>69279</td>\n",
       "      <td>16</td>\n",
       "      <td>1</td>\n",
       "      <td>2</td>\n",
       "      <td>NaN</td>\n",
       "      <td>2</td>\n",
       "      <td>8/28/1967</td>\n",
       "      <td>46.7761807</td>\n",
       "      <td>46</td>\n",
       "      <td>1</td>\n",
       "      <td>...</td>\n",
       "      <td>NaN</td>\n",
       "      <td>NaN</td>\n",
       "      <td>NaN</td>\n",
       "      <td>NaN</td>\n",
       "      <td>NaN</td>\n",
       "      <td>NaN</td>\n",
       "      <td>NaN</td>\n",
       "      <td>NaN</td>\n",
       "      <td>NaN</td>\n",
       "      <td>Palawan</td>\n",
       "    </tr>\n",
       "    <tr>\n",
       "      <th>2</th>\n",
       "      <td>69279</td>\n",
       "      <td>17</td>\n",
       "      <td>1</td>\n",
       "      <td>3</td>\n",
       "      <td>NaN</td>\n",
       "      <td>2</td>\n",
       "      <td>11/18/1992</td>\n",
       "      <td>21.54962355</td>\n",
       "      <td>21</td>\n",
       "      <td>1</td>\n",
       "      <td>...</td>\n",
       "      <td>NaN</td>\n",
       "      <td>NaN</td>\n",
       "      <td>NaN</td>\n",
       "      <td>NaN</td>\n",
       "      <td>NaN</td>\n",
       "      <td>NaN</td>\n",
       "      <td>NaN</td>\n",
       "      <td>NaN</td>\n",
       "      <td>NaN</td>\n",
       "      <td>Palawan</td>\n",
       "    </tr>\n",
       "    <tr>\n",
       "      <th>3</th>\n",
       "      <td>69279</td>\n",
       "      <td>18</td>\n",
       "      <td>1</td>\n",
       "      <td>3</td>\n",
       "      <td>NaN</td>\n",
       "      <td>1</td>\n",
       "      <td>4/28/1998</td>\n",
       "      <td>16.10951403</td>\n",
       "      <td>16</td>\n",
       "      <td>1</td>\n",
       "      <td>...</td>\n",
       "      <td>NaN</td>\n",
       "      <td>NaN</td>\n",
       "      <td>NaN</td>\n",
       "      <td>NaN</td>\n",
       "      <td>NaN</td>\n",
       "      <td>NaN</td>\n",
       "      <td>NaN</td>\n",
       "      <td>NaN</td>\n",
       "      <td>NaN</td>\n",
       "      <td>Palawan</td>\n",
       "    </tr>\n",
       "    <tr>\n",
       "      <th>4</th>\n",
       "      <td>69279</td>\n",
       "      <td>19</td>\n",
       "      <td>1</td>\n",
       "      <td>3</td>\n",
       "      <td>NaN</td>\n",
       "      <td>1</td>\n",
       "      <td>10/8/2002</td>\n",
       "      <td>11.66324435</td>\n",
       "      <td>11</td>\n",
       "      <td>1</td>\n",
       "      <td>...</td>\n",
       "      <td>NaN</td>\n",
       "      <td>NaN</td>\n",
       "      <td>NaN</td>\n",
       "      <td>NaN</td>\n",
       "      <td>NaN</td>\n",
       "      <td>NaN</td>\n",
       "      <td>NaN</td>\n",
       "      <td>NaN</td>\n",
       "      <td>NaN</td>\n",
       "      <td>Palawan</td>\n",
       "    </tr>\n",
       "  </tbody>\n",
       "</table>\n",
       "<p>5 rows × 84 columns</p>\n",
       "</div>"
      ],
      "text/plain": [
       "  main.id memno nucfam reln reln_o sex  birth_date          age age_yr  \\\n",
       "0   69279    15      1    1    NaN   1   6/16/1956  57.97399042     57   \n",
       "1   69279    16      1    2    NaN   2   8/28/1967   46.7761807     46   \n",
       "2   69279    17      1    3    NaN   2  11/18/1992  21.54962355     21   \n",
       "3   69279    18      1    3    NaN   1   4/28/1998  16.10951403     16   \n",
       "4   69279    19      1    3    NaN   1   10/8/2002  11.66324435     11   \n",
       "\n",
       "  birth_reg  ... mocrim mtheftloc mrapeloc minjurloc mcarnaploc mcattrustlloc  \\\n",
       "0         1  ...    NaN       NaN      NaN       NaN        NaN           NaN   \n",
       "1         1  ...    NaN       NaN      NaN       NaN        NaN           NaN   \n",
       "2         1  ...    NaN       NaN      NaN       NaN        NaN           NaN   \n",
       "3         1  ...    NaN       NaN      NaN       NaN        NaN           NaN   \n",
       "4         1  ...    NaN       NaN      NaN       NaN        NaN           NaN   \n",
       "\n",
       "  mocrimloc mnutind mnutind_date province  \n",
       "0       NaN     NaN          NaN  Palawan  \n",
       "1       NaN     NaN          NaN  Palawan  \n",
       "2       NaN     NaN          NaN  Palawan  \n",
       "3       NaN     NaN          NaN  Palawan  \n",
       "4       NaN     NaN          NaN  Palawan  \n",
       "\n",
       "[5 rows x 84 columns]"
      ]
     },
     "execution_count": 6,
     "metadata": {},
     "output_type": "execute_result"
    }
   ],
   "source": [
    "palawan_df = palawan_mem_df\n",
    "palawan_df[\"province\"] = \"Palawan\"\n",
    "palawan_df.head()"
   ]
  },
  {
   "cell_type": "markdown",
   "metadata": {},
   "source": [
    "## Merging the Two Dataset"
   ]
  },
  {
   "cell_type": "code",
   "execution_count": 7,
   "metadata": {
    "colab": {
     "base_uri": "https://localhost:8080/",
     "height": 439
    },
    "colab_type": "code",
    "id": "HcWZJ2oTpqAM",
    "outputId": "24234bbd-5bc5-40dc-a63c-193408d2f0b9"
   },
   "outputs": [
    {
     "data": {
      "text/html": [
       "<div>\n",
       "<style scoped>\n",
       "    .dataframe tbody tr th:only-of-type {\n",
       "        vertical-align: middle;\n",
       "    }\n",
       "\n",
       "    .dataframe tbody tr th {\n",
       "        vertical-align: top;\n",
       "    }\n",
       "\n",
       "    .dataframe thead th {\n",
       "        text-align: right;\n",
       "    }\n",
       "</style>\n",
       "<table border=\"1\" class=\"dataframe\">\n",
       "  <thead>\n",
       "    <tr style=\"text-align: right;\">\n",
       "      <th></th>\n",
       "      <th>main.id</th>\n",
       "      <th>memno</th>\n",
       "      <th>nucfam</th>\n",
       "      <th>reln</th>\n",
       "      <th>reln_o</th>\n",
       "      <th>sex</th>\n",
       "      <th>birth_date</th>\n",
       "      <th>age</th>\n",
       "      <th>age_yr</th>\n",
       "      <th>birth_reg</th>\n",
       "      <th>...</th>\n",
       "      <th>mocrim</th>\n",
       "      <th>mtheftloc</th>\n",
       "      <th>mrapeloc</th>\n",
       "      <th>minjurloc</th>\n",
       "      <th>mcarnaploc</th>\n",
       "      <th>mcattrustlloc</th>\n",
       "      <th>mocrimloc</th>\n",
       "      <th>mnutind</th>\n",
       "      <th>mnutind_date</th>\n",
       "      <th>province</th>\n",
       "    </tr>\n",
       "  </thead>\n",
       "  <tbody>\n",
       "    <tr>\n",
       "      <th>0</th>\n",
       "      <td>69279</td>\n",
       "      <td>15</td>\n",
       "      <td>1</td>\n",
       "      <td>1</td>\n",
       "      <td>NaN</td>\n",
       "      <td>1</td>\n",
       "      <td>6/16/1956</td>\n",
       "      <td>57.97399042</td>\n",
       "      <td>57</td>\n",
       "      <td>1</td>\n",
       "      <td>...</td>\n",
       "      <td>NaN</td>\n",
       "      <td>NaN</td>\n",
       "      <td>NaN</td>\n",
       "      <td>NaN</td>\n",
       "      <td>NaN</td>\n",
       "      <td>NaN</td>\n",
       "      <td>NaN</td>\n",
       "      <td>NaN</td>\n",
       "      <td>NaN</td>\n",
       "      <td>Palawan</td>\n",
       "    </tr>\n",
       "    <tr>\n",
       "      <th>1</th>\n",
       "      <td>69279</td>\n",
       "      <td>16</td>\n",
       "      <td>1</td>\n",
       "      <td>2</td>\n",
       "      <td>NaN</td>\n",
       "      <td>2</td>\n",
       "      <td>8/28/1967</td>\n",
       "      <td>46.7761807</td>\n",
       "      <td>46</td>\n",
       "      <td>1</td>\n",
       "      <td>...</td>\n",
       "      <td>NaN</td>\n",
       "      <td>NaN</td>\n",
       "      <td>NaN</td>\n",
       "      <td>NaN</td>\n",
       "      <td>NaN</td>\n",
       "      <td>NaN</td>\n",
       "      <td>NaN</td>\n",
       "      <td>NaN</td>\n",
       "      <td>NaN</td>\n",
       "      <td>Palawan</td>\n",
       "    </tr>\n",
       "    <tr>\n",
       "      <th>2</th>\n",
       "      <td>69279</td>\n",
       "      <td>17</td>\n",
       "      <td>1</td>\n",
       "      <td>3</td>\n",
       "      <td>NaN</td>\n",
       "      <td>2</td>\n",
       "      <td>11/18/1992</td>\n",
       "      <td>21.54962355</td>\n",
       "      <td>21</td>\n",
       "      <td>1</td>\n",
       "      <td>...</td>\n",
       "      <td>NaN</td>\n",
       "      <td>NaN</td>\n",
       "      <td>NaN</td>\n",
       "      <td>NaN</td>\n",
       "      <td>NaN</td>\n",
       "      <td>NaN</td>\n",
       "      <td>NaN</td>\n",
       "      <td>NaN</td>\n",
       "      <td>NaN</td>\n",
       "      <td>Palawan</td>\n",
       "    </tr>\n",
       "    <tr>\n",
       "      <th>3</th>\n",
       "      <td>69279</td>\n",
       "      <td>18</td>\n",
       "      <td>1</td>\n",
       "      <td>3</td>\n",
       "      <td>NaN</td>\n",
       "      <td>1</td>\n",
       "      <td>4/28/1998</td>\n",
       "      <td>16.10951403</td>\n",
       "      <td>16</td>\n",
       "      <td>1</td>\n",
       "      <td>...</td>\n",
       "      <td>NaN</td>\n",
       "      <td>NaN</td>\n",
       "      <td>NaN</td>\n",
       "      <td>NaN</td>\n",
       "      <td>NaN</td>\n",
       "      <td>NaN</td>\n",
       "      <td>NaN</td>\n",
       "      <td>NaN</td>\n",
       "      <td>NaN</td>\n",
       "      <td>Palawan</td>\n",
       "    </tr>\n",
       "    <tr>\n",
       "      <th>4</th>\n",
       "      <td>69279</td>\n",
       "      <td>19</td>\n",
       "      <td>1</td>\n",
       "      <td>3</td>\n",
       "      <td>NaN</td>\n",
       "      <td>1</td>\n",
       "      <td>10/8/2002</td>\n",
       "      <td>11.66324435</td>\n",
       "      <td>11</td>\n",
       "      <td>1</td>\n",
       "      <td>...</td>\n",
       "      <td>NaN</td>\n",
       "      <td>NaN</td>\n",
       "      <td>NaN</td>\n",
       "      <td>NaN</td>\n",
       "      <td>NaN</td>\n",
       "      <td>NaN</td>\n",
       "      <td>NaN</td>\n",
       "      <td>NaN</td>\n",
       "      <td>NaN</td>\n",
       "      <td>Palawan</td>\n",
       "    </tr>\n",
       "    <tr>\n",
       "      <th>...</th>\n",
       "      <td>...</td>\n",
       "      <td>...</td>\n",
       "      <td>...</td>\n",
       "      <td>...</td>\n",
       "      <td>...</td>\n",
       "      <td>...</td>\n",
       "      <td>...</td>\n",
       "      <td>...</td>\n",
       "      <td>...</td>\n",
       "      <td>...</td>\n",
       "      <td>...</td>\n",
       "      <td>...</td>\n",
       "      <td>...</td>\n",
       "      <td>...</td>\n",
       "      <td>...</td>\n",
       "      <td>...</td>\n",
       "      <td>...</td>\n",
       "      <td>...</td>\n",
       "      <td>...</td>\n",
       "      <td>...</td>\n",
       "      <td>...</td>\n",
       "    </tr>\n",
       "    <tr>\n",
       "      <th>663878</th>\n",
       "      <td>2590166</td>\n",
       "      <td>3</td>\n",
       "      <td>1</td>\n",
       "      <td>3</td>\n",
       "      <td>NaN</td>\n",
       "      <td>1</td>\n",
       "      <td>3/20/1995</td>\n",
       "      <td>NaN</td>\n",
       "      <td>20</td>\n",
       "      <td>1</td>\n",
       "      <td>...</td>\n",
       "      <td>NaN</td>\n",
       "      <td>NaN</td>\n",
       "      <td>NaN</td>\n",
       "      <td>NaN</td>\n",
       "      <td>NaN</td>\n",
       "      <td>NaN</td>\n",
       "      <td>NaN</td>\n",
       "      <td>NaN</td>\n",
       "      <td>NaN</td>\n",
       "      <td>Marinduque</td>\n",
       "    </tr>\n",
       "    <tr>\n",
       "      <th>663879</th>\n",
       "      <td>2590166</td>\n",
       "      <td>4</td>\n",
       "      <td>1</td>\n",
       "      <td>3</td>\n",
       "      <td>NaN</td>\n",
       "      <td>1</td>\n",
       "      <td>10/24/1996</td>\n",
       "      <td>NaN</td>\n",
       "      <td>18</td>\n",
       "      <td>1</td>\n",
       "      <td>...</td>\n",
       "      <td>NaN</td>\n",
       "      <td>NaN</td>\n",
       "      <td>NaN</td>\n",
       "      <td>NaN</td>\n",
       "      <td>NaN</td>\n",
       "      <td>NaN</td>\n",
       "      <td>NaN</td>\n",
       "      <td>NaN</td>\n",
       "      <td>NaN</td>\n",
       "      <td>Marinduque</td>\n",
       "    </tr>\n",
       "    <tr>\n",
       "      <th>663880</th>\n",
       "      <td>2590166</td>\n",
       "      <td>5</td>\n",
       "      <td>1</td>\n",
       "      <td>3</td>\n",
       "      <td>NaN</td>\n",
       "      <td>1</td>\n",
       "      <td>12/10/1999</td>\n",
       "      <td>NaN</td>\n",
       "      <td>15</td>\n",
       "      <td>1</td>\n",
       "      <td>...</td>\n",
       "      <td>NaN</td>\n",
       "      <td>NaN</td>\n",
       "      <td>NaN</td>\n",
       "      <td>NaN</td>\n",
       "      <td>NaN</td>\n",
       "      <td>NaN</td>\n",
       "      <td>NaN</td>\n",
       "      <td>NaN</td>\n",
       "      <td>NaN</td>\n",
       "      <td>Marinduque</td>\n",
       "    </tr>\n",
       "    <tr>\n",
       "      <th>663881</th>\n",
       "      <td>2590166</td>\n",
       "      <td>6</td>\n",
       "      <td>1</td>\n",
       "      <td>3</td>\n",
       "      <td>NaN</td>\n",
       "      <td>1</td>\n",
       "      <td>5/16/2002</td>\n",
       "      <td>NaN</td>\n",
       "      <td>13</td>\n",
       "      <td>1</td>\n",
       "      <td>...</td>\n",
       "      <td>NaN</td>\n",
       "      <td>NaN</td>\n",
       "      <td>NaN</td>\n",
       "      <td>NaN</td>\n",
       "      <td>NaN</td>\n",
       "      <td>NaN</td>\n",
       "      <td>NaN</td>\n",
       "      <td>NaN</td>\n",
       "      <td>NaN</td>\n",
       "      <td>Marinduque</td>\n",
       "    </tr>\n",
       "    <tr>\n",
       "      <th>663882</th>\n",
       "      <td>2590166</td>\n",
       "      <td>7</td>\n",
       "      <td>1</td>\n",
       "      <td>3</td>\n",
       "      <td>NaN</td>\n",
       "      <td>1</td>\n",
       "      <td>8/3/2006</td>\n",
       "      <td>NaN</td>\n",
       "      <td>8</td>\n",
       "      <td>1</td>\n",
       "      <td>...</td>\n",
       "      <td>NaN</td>\n",
       "      <td>NaN</td>\n",
       "      <td>NaN</td>\n",
       "      <td>NaN</td>\n",
       "      <td>NaN</td>\n",
       "      <td>NaN</td>\n",
       "      <td>NaN</td>\n",
       "      <td>NaN</td>\n",
       "      <td>NaN</td>\n",
       "      <td>Marinduque</td>\n",
       "    </tr>\n",
       "  </tbody>\n",
       "</table>\n",
       "<p>663883 rows × 84 columns</p>\n",
       "</div>"
      ],
      "text/plain": [
       "        main.id memno nucfam reln reln_o sex  birth_date          age age_yr  \\\n",
       "0         69279    15      1    1    NaN   1   6/16/1956  57.97399042     57   \n",
       "1         69279    16      1    2    NaN   2   8/28/1967   46.7761807     46   \n",
       "2         69279    17      1    3    NaN   2  11/18/1992  21.54962355     21   \n",
       "3         69279    18      1    3    NaN   1   4/28/1998  16.10951403     16   \n",
       "4         69279    19      1    3    NaN   1   10/8/2002  11.66324435     11   \n",
       "...         ...   ...    ...  ...    ...  ..         ...          ...    ...   \n",
       "663878  2590166     3      1    3    NaN   1   3/20/1995          NaN     20   \n",
       "663879  2590166     4      1    3    NaN   1  10/24/1996          NaN     18   \n",
       "663880  2590166     5      1    3    NaN   1  12/10/1999          NaN     15   \n",
       "663881  2590166     6      1    3    NaN   1   5/16/2002          NaN     13   \n",
       "663882  2590166     7      1    3    NaN   1    8/3/2006          NaN      8   \n",
       "\n",
       "       birth_reg  ... mocrim mtheftloc mrapeloc minjurloc mcarnaploc  \\\n",
       "0              1  ...    NaN       NaN      NaN       NaN        NaN   \n",
       "1              1  ...    NaN       NaN      NaN       NaN        NaN   \n",
       "2              1  ...    NaN       NaN      NaN       NaN        NaN   \n",
       "3              1  ...    NaN       NaN      NaN       NaN        NaN   \n",
       "4              1  ...    NaN       NaN      NaN       NaN        NaN   \n",
       "...          ...  ...    ...       ...      ...       ...        ...   \n",
       "663878         1  ...    NaN       NaN      NaN       NaN        NaN   \n",
       "663879         1  ...    NaN       NaN      NaN       NaN        NaN   \n",
       "663880         1  ...    NaN       NaN      NaN       NaN        NaN   \n",
       "663881         1  ...    NaN       NaN      NaN       NaN        NaN   \n",
       "663882         1  ...    NaN       NaN      NaN       NaN        NaN   \n",
       "\n",
       "       mcattrustlloc mocrimloc mnutind mnutind_date    province  \n",
       "0                NaN       NaN     NaN          NaN     Palawan  \n",
       "1                NaN       NaN     NaN          NaN     Palawan  \n",
       "2                NaN       NaN     NaN          NaN     Palawan  \n",
       "3                NaN       NaN     NaN          NaN     Palawan  \n",
       "4                NaN       NaN     NaN          NaN     Palawan  \n",
       "...              ...       ...     ...          ...         ...  \n",
       "663878           NaN       NaN     NaN          NaN  Marinduque  \n",
       "663879           NaN       NaN     NaN          NaN  Marinduque  \n",
       "663880           NaN       NaN     NaN          NaN  Marinduque  \n",
       "663881           NaN       NaN     NaN          NaN  Marinduque  \n",
       "663882           NaN       NaN     NaN          NaN  Marinduque  \n",
       "\n",
       "[663883 rows x 84 columns]"
      ]
     },
     "execution_count": 7,
     "metadata": {},
     "output_type": "execute_result"
    }
   ],
   "source": [
    "all_df = palawan_df.append(marinduque_df, ignore_index=True)\n",
    "all_df"
   ]
  },
  {
   "cell_type": "markdown",
   "metadata": {},
   "source": [
    "### **Variables**"
   ]
  },
  {
   "cell_type": "markdown",
   "metadata": {},
   "source": [
    "- **`sex`**: Sex/Gender. <br>\n",
    "&emsp; 1 - Male <br>\n",
    "&emsp; 2 - Female <br>\n",
    "- **`age_yr`**: Age.\n",
    "- **`ynotsch`**: Reason not in school. <br>\n",
    "&emsp; 1 - Schools are very far <br>\n",
    "&emsp; 2 - No school within the barangay <br>\n",
    "&emsp; 3 - No regular transportation <br>\n",
    "&emsp; 4 - High cost of education <br>\n",
    "&emsp; 5 - Illness/Disability <br>\n",
    "&emsp; 6 - Housekeeping/taking care of siblings <br>\n",
    "&emsp; 7 - Marriage <br>\n",
    "&emsp; 8 - Employment/looking for work <br>\n",
    "&emsp; 9 - Lack of personal interest <br>\n",
    "&emsp; 10 - Cannot cope with school work <br>\n",
    "&emsp; 11 - Finished schooling <br>\n",
    "&emsp; 12 - Problem with school record <br>\n",
    "&emsp; 13 - Problem with birth certificate <br>\n",
    "&emsp; 14 - Too young to go to school <br>\n",
    "&emsp; 15 - Others\n",
    "- **`educal`**: Educational Attainment. <br>\n",
    "&emsp; 0 - No Grade <br>\n",
    "&emsp; 1 - Day Care <br>\n",
    "&emsp; 2 - Nurser/Kindergarten/Preparatory <br>\n",
    "&emsp; 11 - Grade 1 <br>\n",
    "&emsp; 12 - Grade 2 <br>\n",
    "&emsp; 13 - Grade 3 <br>\n",
    "&emsp; 14 - Grade 4 <br>\n",
    "&emsp; 15 - Grade 5 <br>\n",
    "&emsp; 16 - Grade 6 <br>\n",
    "&emsp; 17 - Grade 7 <br>\n",
    "&emsp; 18 - Grade 8 <br>\n",
    "&emsp; 19 - Grade 9/3rd Year HS <br>\n",
    "&emsp; 20 - Grade 10/4th Year HS <br>\n",
    "&emsp; 21 - Grade 11 <br>\n",
    "&emsp; 22 - Grade 12 <br>\n",
    "&emsp; 23 - 1st year PS PS/N-T/TV <br>\n",
    "&emsp; 24 - 2nd year PS PS/N-T/TV <br>\n",
    "&emsp; 25 - 3rd year PS PS/N-T/TV <br>\n",
    "&emsp; 31 - 1st year College <br>\n",
    "&emsp; 32 - 2nd year College <br>\n",
    "&emsp; 33 - 3rd year College <br>\n",
    "&emsp; 34 - 4th year College or higher <br>\n",
    "&emsp; 41 - Post grad with units <br>\n",
    "&emsp; 51 - ALS Elementary <br>\n",
    "&emsp; 52 - ALS Secondary <br>\n",
    "&emsp; 53 - SPED Elementary <br>\n",
    "&emsp; 54 - SPED Secondary <br>\n",
    "&emsp; 100 - Grade school graduate <br>\n",
    "&emsp; 200 - High school graduate <br>\n",
    "&emsp; 210 - Post secondary graduate <br>\n",
    "&emsp; 300 - College graduate <br>\n",
    "&emsp; 400 - Master's/PhD graduate <br>\n",
    "- **`wagcshm`**: Total Salary in the last 12 months.\n",
    "- **`pwd_type`**: Disability type. <br>\n",
    "&emsp; 1 - Total blindness <br>\n",
    "&emsp; 2 - Partial blindness <br>\n",
    "&emsp; 3 - Low vision <br>\n",
    "&emsp; 4 - Totally deaf <br>\n",
    "&emsp; 5 - Partially deaf <br>\n",
    "&emsp; 6 - Oral defect <br>\n",
    "&emsp; 7 - One hand <br>\n",
    "&emsp; 8 - No hands <br>\n",
    "&emsp; 9 - One leg <br>\n",
    "&emsp; 10 - No legs <br>\n",
    "&emsp; 11 - Mild Cerebral palsy <br>\n",
    "&emsp; 12 - Severe Cerebral palsy <br>\n",
    "&emsp; 13 - Retarded <br>\n",
    "&emsp; 14 - Mentally ill <br>\n",
    "&emsp; 15 - Mentally retardation <br>\n",
    "&emsp; 16 - Multiple impairment <br>\n",
    "&emsp; 17 - Others <br>"
   ]
  },
  {
   "cell_type": "code",
   "execution_count": 8,
   "metadata": {},
   "outputs": [
    {
     "data": {
      "text/html": [
       "<div>\n",
       "<style scoped>\n",
       "    .dataframe tbody tr th:only-of-type {\n",
       "        vertical-align: middle;\n",
       "    }\n",
       "\n",
       "    .dataframe tbody tr th {\n",
       "        vertical-align: top;\n",
       "    }\n",
       "\n",
       "    .dataframe thead th {\n",
       "        text-align: right;\n",
       "    }\n",
       "</style>\n",
       "<table border=\"1\" class=\"dataframe\">\n",
       "  <thead>\n",
       "    <tr style=\"text-align: right;\">\n",
       "      <th></th>\n",
       "      <th>main.id</th>\n",
       "      <th>memno</th>\n",
       "      <th>nucfam</th>\n",
       "      <th>reln</th>\n",
       "      <th>reln_o</th>\n",
       "      <th>sex</th>\n",
       "      <th>birth_date</th>\n",
       "      <th>age</th>\n",
       "      <th>age_yr</th>\n",
       "      <th>birth_reg</th>\n",
       "      <th>...</th>\n",
       "      <th>mocrim</th>\n",
       "      <th>mtheftloc</th>\n",
       "      <th>mrapeloc</th>\n",
       "      <th>minjurloc</th>\n",
       "      <th>mcarnaploc</th>\n",
       "      <th>mcattrustlloc</th>\n",
       "      <th>mocrimloc</th>\n",
       "      <th>mnutind</th>\n",
       "      <th>mnutind_date</th>\n",
       "      <th>province</th>\n",
       "    </tr>\n",
       "  </thead>\n",
       "  <tbody>\n",
       "    <tr>\n",
       "      <th>0</th>\n",
       "      <td>69279</td>\n",
       "      <td>15</td>\n",
       "      <td>1</td>\n",
       "      <td>1</td>\n",
       "      <td>NaN</td>\n",
       "      <td>1</td>\n",
       "      <td>6/16/1956</td>\n",
       "      <td>57.97399042</td>\n",
       "      <td>57</td>\n",
       "      <td>1</td>\n",
       "      <td>...</td>\n",
       "      <td>NaN</td>\n",
       "      <td>NaN</td>\n",
       "      <td>NaN</td>\n",
       "      <td>NaN</td>\n",
       "      <td>NaN</td>\n",
       "      <td>NaN</td>\n",
       "      <td>NaN</td>\n",
       "      <td>NaN</td>\n",
       "      <td>NaN</td>\n",
       "      <td>Palawan</td>\n",
       "    </tr>\n",
       "    <tr>\n",
       "      <th>1</th>\n",
       "      <td>69279</td>\n",
       "      <td>16</td>\n",
       "      <td>1</td>\n",
       "      <td>2</td>\n",
       "      <td>NaN</td>\n",
       "      <td>2</td>\n",
       "      <td>8/28/1967</td>\n",
       "      <td>46.7761807</td>\n",
       "      <td>46</td>\n",
       "      <td>1</td>\n",
       "      <td>...</td>\n",
       "      <td>NaN</td>\n",
       "      <td>NaN</td>\n",
       "      <td>NaN</td>\n",
       "      <td>NaN</td>\n",
       "      <td>NaN</td>\n",
       "      <td>NaN</td>\n",
       "      <td>NaN</td>\n",
       "      <td>NaN</td>\n",
       "      <td>NaN</td>\n",
       "      <td>Palawan</td>\n",
       "    </tr>\n",
       "    <tr>\n",
       "      <th>2</th>\n",
       "      <td>69279</td>\n",
       "      <td>17</td>\n",
       "      <td>1</td>\n",
       "      <td>3</td>\n",
       "      <td>NaN</td>\n",
       "      <td>2</td>\n",
       "      <td>11/18/1992</td>\n",
       "      <td>21.54962355</td>\n",
       "      <td>21</td>\n",
       "      <td>1</td>\n",
       "      <td>...</td>\n",
       "      <td>NaN</td>\n",
       "      <td>NaN</td>\n",
       "      <td>NaN</td>\n",
       "      <td>NaN</td>\n",
       "      <td>NaN</td>\n",
       "      <td>NaN</td>\n",
       "      <td>NaN</td>\n",
       "      <td>NaN</td>\n",
       "      <td>NaN</td>\n",
       "      <td>Palawan</td>\n",
       "    </tr>\n",
       "    <tr>\n",
       "      <th>3</th>\n",
       "      <td>69279</td>\n",
       "      <td>18</td>\n",
       "      <td>1</td>\n",
       "      <td>3</td>\n",
       "      <td>NaN</td>\n",
       "      <td>1</td>\n",
       "      <td>4/28/1998</td>\n",
       "      <td>16.10951403</td>\n",
       "      <td>16</td>\n",
       "      <td>1</td>\n",
       "      <td>...</td>\n",
       "      <td>NaN</td>\n",
       "      <td>NaN</td>\n",
       "      <td>NaN</td>\n",
       "      <td>NaN</td>\n",
       "      <td>NaN</td>\n",
       "      <td>NaN</td>\n",
       "      <td>NaN</td>\n",
       "      <td>NaN</td>\n",
       "      <td>NaN</td>\n",
       "      <td>Palawan</td>\n",
       "    </tr>\n",
       "    <tr>\n",
       "      <th>4</th>\n",
       "      <td>69279</td>\n",
       "      <td>19</td>\n",
       "      <td>1</td>\n",
       "      <td>3</td>\n",
       "      <td>NaN</td>\n",
       "      <td>1</td>\n",
       "      <td>10/8/2002</td>\n",
       "      <td>11.66324435</td>\n",
       "      <td>11</td>\n",
       "      <td>1</td>\n",
       "      <td>...</td>\n",
       "      <td>NaN</td>\n",
       "      <td>NaN</td>\n",
       "      <td>NaN</td>\n",
       "      <td>NaN</td>\n",
       "      <td>NaN</td>\n",
       "      <td>NaN</td>\n",
       "      <td>NaN</td>\n",
       "      <td>NaN</td>\n",
       "      <td>NaN</td>\n",
       "      <td>Palawan</td>\n",
       "    </tr>\n",
       "    <tr>\n",
       "      <th>...</th>\n",
       "      <td>...</td>\n",
       "      <td>...</td>\n",
       "      <td>...</td>\n",
       "      <td>...</td>\n",
       "      <td>...</td>\n",
       "      <td>...</td>\n",
       "      <td>...</td>\n",
       "      <td>...</td>\n",
       "      <td>...</td>\n",
       "      <td>...</td>\n",
       "      <td>...</td>\n",
       "      <td>...</td>\n",
       "      <td>...</td>\n",
       "      <td>...</td>\n",
       "      <td>...</td>\n",
       "      <td>...</td>\n",
       "      <td>...</td>\n",
       "      <td>...</td>\n",
       "      <td>...</td>\n",
       "      <td>...</td>\n",
       "      <td>...</td>\n",
       "    </tr>\n",
       "    <tr>\n",
       "      <th>663878</th>\n",
       "      <td>2590166</td>\n",
       "      <td>3</td>\n",
       "      <td>1</td>\n",
       "      <td>3</td>\n",
       "      <td>NaN</td>\n",
       "      <td>1</td>\n",
       "      <td>3/20/1995</td>\n",
       "      <td>NaN</td>\n",
       "      <td>20</td>\n",
       "      <td>1</td>\n",
       "      <td>...</td>\n",
       "      <td>NaN</td>\n",
       "      <td>NaN</td>\n",
       "      <td>NaN</td>\n",
       "      <td>NaN</td>\n",
       "      <td>NaN</td>\n",
       "      <td>NaN</td>\n",
       "      <td>NaN</td>\n",
       "      <td>NaN</td>\n",
       "      <td>NaN</td>\n",
       "      <td>Marinduque</td>\n",
       "    </tr>\n",
       "    <tr>\n",
       "      <th>663879</th>\n",
       "      <td>2590166</td>\n",
       "      <td>4</td>\n",
       "      <td>1</td>\n",
       "      <td>3</td>\n",
       "      <td>NaN</td>\n",
       "      <td>1</td>\n",
       "      <td>10/24/1996</td>\n",
       "      <td>NaN</td>\n",
       "      <td>18</td>\n",
       "      <td>1</td>\n",
       "      <td>...</td>\n",
       "      <td>NaN</td>\n",
       "      <td>NaN</td>\n",
       "      <td>NaN</td>\n",
       "      <td>NaN</td>\n",
       "      <td>NaN</td>\n",
       "      <td>NaN</td>\n",
       "      <td>NaN</td>\n",
       "      <td>NaN</td>\n",
       "      <td>NaN</td>\n",
       "      <td>Marinduque</td>\n",
       "    </tr>\n",
       "    <tr>\n",
       "      <th>663880</th>\n",
       "      <td>2590166</td>\n",
       "      <td>5</td>\n",
       "      <td>1</td>\n",
       "      <td>3</td>\n",
       "      <td>NaN</td>\n",
       "      <td>1</td>\n",
       "      <td>12/10/1999</td>\n",
       "      <td>NaN</td>\n",
       "      <td>15</td>\n",
       "      <td>1</td>\n",
       "      <td>...</td>\n",
       "      <td>NaN</td>\n",
       "      <td>NaN</td>\n",
       "      <td>NaN</td>\n",
       "      <td>NaN</td>\n",
       "      <td>NaN</td>\n",
       "      <td>NaN</td>\n",
       "      <td>NaN</td>\n",
       "      <td>NaN</td>\n",
       "      <td>NaN</td>\n",
       "      <td>Marinduque</td>\n",
       "    </tr>\n",
       "    <tr>\n",
       "      <th>663881</th>\n",
       "      <td>2590166</td>\n",
       "      <td>6</td>\n",
       "      <td>1</td>\n",
       "      <td>3</td>\n",
       "      <td>NaN</td>\n",
       "      <td>1</td>\n",
       "      <td>5/16/2002</td>\n",
       "      <td>NaN</td>\n",
       "      <td>13</td>\n",
       "      <td>1</td>\n",
       "      <td>...</td>\n",
       "      <td>NaN</td>\n",
       "      <td>NaN</td>\n",
       "      <td>NaN</td>\n",
       "      <td>NaN</td>\n",
       "      <td>NaN</td>\n",
       "      <td>NaN</td>\n",
       "      <td>NaN</td>\n",
       "      <td>NaN</td>\n",
       "      <td>NaN</td>\n",
       "      <td>Marinduque</td>\n",
       "    </tr>\n",
       "    <tr>\n",
       "      <th>663882</th>\n",
       "      <td>2590166</td>\n",
       "      <td>7</td>\n",
       "      <td>1</td>\n",
       "      <td>3</td>\n",
       "      <td>NaN</td>\n",
       "      <td>1</td>\n",
       "      <td>8/3/2006</td>\n",
       "      <td>NaN</td>\n",
       "      <td>8</td>\n",
       "      <td>1</td>\n",
       "      <td>...</td>\n",
       "      <td>NaN</td>\n",
       "      <td>NaN</td>\n",
       "      <td>NaN</td>\n",
       "      <td>NaN</td>\n",
       "      <td>NaN</td>\n",
       "      <td>NaN</td>\n",
       "      <td>NaN</td>\n",
       "      <td>NaN</td>\n",
       "      <td>NaN</td>\n",
       "      <td>Marinduque</td>\n",
       "    </tr>\n",
       "  </tbody>\n",
       "</table>\n",
       "<p>663883 rows × 84 columns</p>\n",
       "</div>"
      ],
      "text/plain": [
       "        main.id memno nucfam reln reln_o sex  birth_date          age age_yr  \\\n",
       "0         69279    15      1    1    NaN   1   6/16/1956  57.97399042     57   \n",
       "1         69279    16      1    2    NaN   2   8/28/1967   46.7761807     46   \n",
       "2         69279    17      1    3    NaN   2  11/18/1992  21.54962355     21   \n",
       "3         69279    18      1    3    NaN   1   4/28/1998  16.10951403     16   \n",
       "4         69279    19      1    3    NaN   1   10/8/2002  11.66324435     11   \n",
       "...         ...   ...    ...  ...    ...  ..         ...          ...    ...   \n",
       "663878  2590166     3      1    3    NaN   1   3/20/1995          NaN     20   \n",
       "663879  2590166     4      1    3    NaN   1  10/24/1996          NaN     18   \n",
       "663880  2590166     5      1    3    NaN   1  12/10/1999          NaN     15   \n",
       "663881  2590166     6      1    3    NaN   1   5/16/2002          NaN     13   \n",
       "663882  2590166     7      1    3    NaN   1    8/3/2006          NaN      8   \n",
       "\n",
       "       birth_reg  ... mocrim mtheftloc mrapeloc minjurloc mcarnaploc  \\\n",
       "0              1  ...    NaN       NaN      NaN       NaN        NaN   \n",
       "1              1  ...    NaN       NaN      NaN       NaN        NaN   \n",
       "2              1  ...    NaN       NaN      NaN       NaN        NaN   \n",
       "3              1  ...    NaN       NaN      NaN       NaN        NaN   \n",
       "4              1  ...    NaN       NaN      NaN       NaN        NaN   \n",
       "...          ...  ...    ...       ...      ...       ...        ...   \n",
       "663878         1  ...    NaN       NaN      NaN       NaN        NaN   \n",
       "663879         1  ...    NaN       NaN      NaN       NaN        NaN   \n",
       "663880         1  ...    NaN       NaN      NaN       NaN        NaN   \n",
       "663881         1  ...    NaN       NaN      NaN       NaN        NaN   \n",
       "663882         1  ...    NaN       NaN      NaN       NaN        NaN   \n",
       "\n",
       "       mcattrustlloc mocrimloc mnutind mnutind_date    province  \n",
       "0                NaN       NaN     NaN          NaN     Palawan  \n",
       "1                NaN       NaN     NaN          NaN     Palawan  \n",
       "2                NaN       NaN     NaN          NaN     Palawan  \n",
       "3                NaN       NaN     NaN          NaN     Palawan  \n",
       "4                NaN       NaN     NaN          NaN     Palawan  \n",
       "...              ...       ...     ...          ...         ...  \n",
       "663878           NaN       NaN     NaN          NaN  Marinduque  \n",
       "663879           NaN       NaN     NaN          NaN  Marinduque  \n",
       "663880           NaN       NaN     NaN          NaN  Marinduque  \n",
       "663881           NaN       NaN     NaN          NaN  Marinduque  \n",
       "663882           NaN       NaN     NaN          NaN  Marinduque  \n",
       "\n",
       "[663883 rows x 84 columns]"
      ]
     },
     "execution_count": 8,
     "metadata": {},
     "output_type": "execute_result"
    }
   ],
   "source": [
    "#all_df = all_df[[\"sex\", \"age_yr\", \"ynotsch\", \"educal\", \"wagcshm\", \"pwd_type\", \"province\"]]\n",
    "all_df"
   ]
  },
  {
   "cell_type": "markdown",
   "metadata": {},
   "source": [
    "## Cleaning the Dataset"
   ]
  },
  {
   "cell_type": "markdown",
   "metadata": {},
   "source": [
    "### `sex` variable"
   ]
  },
  {
   "cell_type": "code",
   "execution_count": 9,
   "metadata": {},
   "outputs": [
    {
     "data": {
      "text/plain": [
       "1            338140\n",
       "2            325742\n",
       "7/23/2003         1\n",
       "Name: sex, dtype: int64"
      ]
     },
     "execution_count": 9,
     "metadata": {},
     "output_type": "execute_result"
    }
   ],
   "source": [
    "all_df[\"sex\"].value_counts()"
   ]
  },
  {
   "cell_type": "code",
   "execution_count": 10,
   "metadata": {},
   "outputs": [
    {
     "data": {
      "text/plain": [
       "array(['1', '2', '7/23/2003'], dtype=object)"
      ]
     },
     "execution_count": 10,
     "metadata": {},
     "output_type": "execute_result"
    }
   ],
   "source": [
    "all_df[\"sex\"].unique()"
   ]
  },
  {
   "cell_type": "code",
   "execution_count": 11,
   "metadata": {},
   "outputs": [],
   "source": [
    "all_df['sex'] = all_df['sex'].map({'1': 'male', '2': 'female'})"
   ]
  },
  {
   "cell_type": "code",
   "execution_count": 12,
   "metadata": {},
   "outputs": [
    {
     "data": {
      "text/plain": [
       "array(['male', 'female', nan], dtype=object)"
      ]
     },
     "execution_count": 12,
     "metadata": {},
     "output_type": "execute_result"
    }
   ],
   "source": [
    "all_df[\"sex\"].unique()"
   ]
  },
  {
   "cell_type": "code",
   "execution_count": 13,
   "metadata": {},
   "outputs": [
    {
     "data": {
      "text/plain": [
       "Text(0.5, 1.0, '')"
      ]
     },
     "execution_count": 13,
     "metadata": {},
     "output_type": "execute_result"
    },
    {
     "data": {
      "image/png": "[encoded data removed]",
      "text/plain": [
       "<Figure size 576x576 with 1 Axes>"
      ]
     },
     "metadata": {
      "needs_background": "light"
     },
     "output_type": "display_data"
    }
   ],
   "source": [
    "all_df.groupby([\"province\", \"sex\"]).size().unstack().plot(kind=\"bar\", figsize=(8, 8))\n",
    "plt.xlabel('Sex')\n",
    "plt.ylabel('Count')\n",
    "plt.xticks(rotation=0)\n",
    "plt.title('')"
   ]
  },
  {
   "cell_type": "markdown",
   "metadata": {},
   "source": [
    "### `age_yr` variable"
   ]
  },
  {
   "cell_type": "code",
   "execution_count": 14,
   "metadata": {},
   "outputs": [
    {
     "data": {
      "text/plain": [
       "False"
      ]
     },
     "execution_count": 14,
     "metadata": {},
     "output_type": "execute_result"
    }
   ],
   "source": [
    "all_df[\"age_yr\"].isnull().any()"
   ]
  },
  {
   "cell_type": "code",
   "execution_count": 15,
   "metadata": {},
   "outputs": [
    {
     "data": {
      "text/plain": [
       "array(['57', '46', '21', '16', '11', '3', '39', '30', '12', '8', '4',\n",
       "       '73', '49', '47', '38', '44', '19', '13', '10', '6', '36', '18',\n",
       "       '48', '35', '33', '15', '14', '7', '1', '43', '50', '9', '52',\n",
       "       '28', '31', '0', '17', '34', '22', '37', '59', '32', '29', '5',\n",
       "       '67', '40', '81', '84', '74', '26', '2', '24', '71', '66', '42',\n",
       "       '20', '69', '41', '51', '85', '60', '27', '56', '89', '80', '61',\n",
       "       '63', '25', '78', '68', '45', '54', '62', '58', '55', '53', '23',\n",
       "       '76', '86', '64', '65', '75', '70', '79', '77', '87', '82', '90',\n",
       "       '72', '88', '92', '83', '94', '91', '95', '102', '98', '104', '99',\n",
       "       '96', '93', '100', '119', '97', '103', '321', '925', '361', '136',\n",
       "       '101', '117', '381', '346', '130', '957', '105', '319', '126',\n",
       "       '129', '113', '953', '238', '125', '355', '325', '121', '148',\n",
       "       '927', '369', '354', '961', '146', '108'], dtype=object)"
      ]
     },
     "execution_count": 15,
     "metadata": {},
     "output_type": "execute_result"
    }
   ],
   "source": [
    "all_df['age_yr'].unique()"
   ]
  },
  {
   "cell_type": "code",
   "execution_count": 16,
   "metadata": {},
   "outputs": [],
   "source": [
    "all_df['age_yr'] = all_df['age_yr'].astype(int)"
   ]
  },
  {
   "cell_type": "code",
   "execution_count": 17,
   "metadata": {},
   "outputs": [
    {
     "data": {
      "text/plain": [
       "Text(0.5, 1.0, 'Box Plot of Age')"
      ]
     },
     "execution_count": 17,
     "metadata": {},
     "output_type": "execute_result"
    },
    {
     "data": {
      "image/png": "[encoded data removed]",
      "text/plain": [
       "<Figure size 432x288 with 1 Axes>"
      ]
     },
     "metadata": {
      "needs_background": "light"
     },
     "output_type": "display_data"
    }
   ],
   "source": [
    "all_df.boxplot(column=\"age_yr\")\n",
    "plt.title(\"Age boxplot\")"
   ]
  },
  {
   "cell_type": "markdown",
   "metadata": {},
   "source": [
    "We can see in the box plot that there are outliers in the variable **age**."
   ]
  },
  {
   "cell_type": "code",
   "execution_count": 18,
   "metadata": {},
   "outputs": [
    {
     "data": {
      "text/plain": [
       "379071    125\n",
       "330357    126\n",
       "350052    129\n",
       "243909    130\n",
       "190761    136\n",
       "511586    146\n",
       "388241    148\n",
       "378995    238\n",
       "322254    319\n",
       "117623    321\n",
       "383780    325\n",
       "361957    346\n",
       "233445    346\n",
       "466060    354\n",
       "380757    355\n",
       "382341    355\n",
       "182077    361\n",
       "469267    369\n",
       "416659    369\n",
       "226332    381\n",
       "172461    925\n",
       "414833    927\n",
       "377107    953\n",
       "256153    957\n",
       "479404    961\n",
       "Name: age_yr, dtype: int32"
      ]
     },
     "execution_count": 18,
     "metadata": {},
     "output_type": "execute_result"
    }
   ],
   "source": [
    "all_df.sort_values('age_yr')['age_yr'].tail(25)"
   ]
  },
  {
   "cell_type": "code",
   "execution_count": 20,
   "metadata": {},
   "outputs": [
    {
     "data": {
      "text/plain": [
       "Text(0.5, 1.0, 'Box Plot of Age')"
      ]
     },
     "execution_count": 20,
     "metadata": {},
     "output_type": "execute_result"
    },
    {
     "data": {
      "image/png": "[encoded data removed]",
      "text/plain": [
       "<Figure size 432x288 with 1 Axes>"
      ]
     },
     "metadata": {
      "needs_background": "light"
     },
     "output_type": "display_data"
    }
   ],
   "source": [
    "all_df[(all_df[\"age_yr\"] <= 120)].boxplot(column=\"age_yr\")\n",
    "plt.title(\"Filtered age boxplot\")"
   ]
  },
  {
   "cell_type": "code",
   "execution_count": 19,
   "metadata": {},
   "outputs": [
    {
     "data": {
      "text/plain": [
       "array([[<matplotlib.axes._subplots.AxesSubplot object at 0x0000018411A46A00>]],\n",
       "      dtype=object)"
      ]
     },
     "execution_count": 19,
     "metadata": {},
     "output_type": "execute_result"
    },
    {
     "data": {
      "image/png": "[encoded data removed]",
      "text/plain": [
       "<Figure size 432x288 with 1 Axes>"
      ]
     },
     "metadata": {
      "needs_background": "light"
     },
     "output_type": "display_data"
    }
   ],
   "source": [
    "all_df[(all_df[\"age_yr\"] <= 120)].hist(bins=15)"
   ]
  },
  {
   "cell_type": "markdown",
   "metadata": {},
   "source": [
    "We can see that the youth or young people dominates in the population."
   ]
  },
  {
   "cell_type": "markdown",
   "metadata": {},
   "source": [
    "### `educal` variable"
   ]
  },
  {
   "cell_type": "code",
   "execution_count": 21,
   "metadata": {},
   "outputs": [
    {
     "data": {
      "text/plain": [
       "array(['14', '16', '19', '15', '2', '13', '33', '20', '0', '32', '11',\n",
       "       '18', nan, '1', '17', '12', '300', '31', '24', '200', '34', '52',\n",
       "       '100', '41', '210', '23', '51', '25', '400', '53', '21', '22',\n",
       "       '54'], dtype=object)"
      ]
     },
     "execution_count": 21,
     "metadata": {},
     "output_type": "execute_result"
    }
   ],
   "source": [
    "all_df[\"educal\"].unique()"
   ]
  },
  {
   "cell_type": "code",
   "execution_count": 22,
   "metadata": {},
   "outputs": [
    {
     "data": {
      "text/plain": [
       "True"
      ]
     },
     "execution_count": 22,
     "metadata": {},
     "output_type": "execute_result"
    }
   ],
   "source": [
    "all_df[\"educal\"].isnull().any()"
   ]
  },
  {
   "cell_type": "code",
   "execution_count": 23,
   "metadata": {},
   "outputs": [],
   "source": [
    "all_df.loc[all_df['educal'].isnull(),'educal'] = -1"
   ]
  },
  {
   "cell_type": "code",
   "execution_count": 24,
   "metadata": {},
   "outputs": [],
   "source": [
    "all_df['educal'] = all_df['educal'].astype(int)"
   ]
  },
  {
   "cell_type": "code",
   "execution_count": 25,
   "metadata": {},
   "outputs": [
    {
     "data": {
      "text/plain": [
       "array([ 14,  16,  19,  15,   2,  13,  33,  20,   0,  32,  11,  18,  -1,\n",
       "         1,  17,  12, 300,  31,  24, 200,  34,  52, 100,  41, 210,  23,\n",
       "        51,  25, 400,  53,  21,  22,  54])"
      ]
     },
     "execution_count": 25,
     "metadata": {},
     "output_type": "execute_result"
    }
   ],
   "source": [
    "all_df[\"educal\"].unique()"
   ]
  },
  {
   "cell_type": "markdown",
   "metadata": {},
   "source": [
    "We now apply binning in the variable **educal** or educational attainment and create a column called **educal_range**."
   ]
  },
  {
   "cell_type": "markdown",
   "metadata": {},
   "source": [
    "- **`No Grade`**: No Grade.\n",
    "- **`Day Care`**: Day Care.\n",
    "- **`Pre-School`**: Pre-School.\n",
    "- **`Elementary`**: Grade 1 to Grade 6.\n",
    "- **`High School`**: Grade 7 to Grade 12.\n",
    "- **`Post-Secondary`**: 1st yr to 3rd yr Post-Secondary.\n",
    "- **`College Undergraduate`**: College 1st yr to 4th yr or higher.\n",
    "- **`College Graduate`**: College Graduate.\n",
    "- **`Post-Grad`**: Masters/Doctorate Degree.\n",
    "- **`SPED`**: Special Education and ALS."
   ]
  },
  {
   "cell_type": "code",
   "execution_count": 26,
   "metadata": {},
   "outputs": [],
   "source": [
    "all_df[\"educal_range\"] = all_df[\"educal\"].map({0: 'No Grade', \n",
    "                                               1: 'Day Care',\n",
    "                                               2: 'Pre-School',\n",
    "                                               11: 'Elementary', 12: 'Elementary', 13: 'Elementary', 14: 'Elementary', 15: 'Elementary', 16: 'Elementary', 100: 'Elementary',\n",
    "                                               17: 'High School', 18: 'High School', 19: 'High School', 20: 'High School', 21: 'High School', 22: 'High School', 200: 'High School',\n",
    "                                               23: 'Post-Secondary', 24: 'Post-Secondary', 25: 'Post-Secondary', 210: 'Post-Secondary',\n",
    "                                               31: 'College Undergraduate', 32: 'College Undergraduate', 33: 'College Undergraduate', 34: 'College Undergraduate',\n",
    "                                               41: 'Post-Grad', 400: \"Post-Grad\",\n",
    "                                               51: 'SPED', 52: 'SPED', 53: 'SPED', 54: 'SPED',\n",
    "                                               300: 'College Graduate',\n",
    "                                               -1: \"Not Stated\"})"
   ]
  },
  {
   "cell_type": "code",
   "execution_count": 27,
   "metadata": {},
   "outputs": [
    {
     "data": {
      "text/plain": [
       "Text(0.5, 1.0, '')"
      ]
     },
     "execution_count": 27,
     "metadata": {},
     "output_type": "execute_result"
    },
    {
     "data": {
      "image/png": "[encoded data removed]",
      "text/plain": [
       "<Figure size 576x576 with 1 Axes>"
      ]
     },
     "metadata": {
      "needs_background": "light"
     },
     "output_type": "display_data"
    }
   ],
   "source": [
    "all_df.groupby([\"educal_range\", \"sex\"]).size().unstack().plot(kind=\"bar\", figsize=(8, 8))\n",
    "plt.xlabel('Highest/Grade Completed')\n",
    "plt.ylabel('Count')\n",
    "plt.xticks(rotation=65)\n",
    "plt.title('')"
   ]
  },
  {
   "cell_type": "markdown",
   "metadata": {},
   "source": [
    "In the provinces of Marinduque and Palawan, more people attended or completed elementary education. On the other hand, we can see that there are more females than males who are college graduate. There are also more females who attended or completed college and high school than males."
   ]
  },
  {
   "cell_type": "markdown",
   "metadata": {},
   "source": [
    "### `wagcshm` variable"
   ]
  },
  {
   "cell_type": "code",
   "execution_count": null,
   "metadata": {},
   "outputs": [],
   "source": [
    "all_df[\"ynotsch_full\"] = all_df[\"ynotsch\"].map({1: 'Schools are very far', 2: 'No school within the brgy', 3: 'No regular transportation', 4: 'High cost of education', 5: 'Illness/Disability', 6: 'Housekeeping/taking care of siblings', 7: 'Marriage', 8: 'Employment/looking for work', 9: 'Lack of personal interest', 10: 'Cannot cope with school work', 11: 'Finished schooling', 12: 'Problem with school record', 13: 'Problem with birth certificate', 14: 'Too young to go to school', 15: 'Others'})"
   ]
  },
  {
   "cell_type": "code",
   "execution_count": null,
   "metadata": {},
   "outputs": [],
   "source": [
    "adults_df.groupby(\"educal_range\").agg({\"wagcshm\": [\"mean\"]}).sort_values((\"educal_range\")).plot(kind=\"bar\", figsize=(8, 8))\n",
    "plt.xlabel('Average salary for 12 months')\n",
    "plt.ylabel('Educational Attainment')\n",
    "plt.xticks(rotation=65)\n",
    "plt.title('')"
   ]
  },
  {
   "cell_type": "code",
   "execution_count": null,
   "metadata": {},
   "outputs": [],
   "source": [
    "adults_df.groupby(\"sex\").agg({\"wagcshm\": [\"mean\"]}).plot(kind=\"bar\", figsize=(8, 8))\n",
    "plt.ylabel('Average salary for 12 months')\n",
    "plt.xlabel('Educational Attainment')\n",
    "plt.xticks(rotation=65)\n",
    "plt.title('')"
   ]
  },
  {
   "cell_type": "code",
   "execution_count": null,
   "metadata": {},
   "outputs": [],
   "source": [
    "all_df.groupby(['educal', 'sex']).size().unstack().sort_values((\"educal\")).plot(kind='bar', figsize=(8, 8))\n",
    "plt.xlabel('Educational Attainment')\n",
    "plt.ylabel('Count')\n",
    "plt.xticks(rotation=65)\n",
    "plt.title('')"
   ]
  },
  {
   "cell_type": "code",
   "execution_count": null,
   "metadata": {},
   "outputs": [],
   "source": [
    "young_people_df = all_df.query(\"age_yr <= 24\")"
   ]
  },
  {
   "cell_type": "code",
   "execution_count": null,
   "metadata": {},
   "outputs": [],
   "source": [
    "young_people_df[\"age_yr\"]"
   ]
  },
  {
   "cell_type": "code",
   "execution_count": null,
   "metadata": {},
   "outputs": [],
   "source": [
    "young_people_df[\"ynotsch\"]"
   ]
  },
  {
   "cell_type": "code",
   "execution_count": null,
   "metadata": {},
   "outputs": [],
   "source": [
    "#young_people_df = young_people_df.dropna(subset=['ynotsch'])"
   ]
  },
  {
   "cell_type": "code",
   "execution_count": null,
   "metadata": {},
   "outputs": [],
   "source": [
    "young_people_df[\"ynotsch\"].unique()"
   ]
  },
  {
   "cell_type": "code",
   "execution_count": null,
   "metadata": {},
   "outputs": [],
   "source": [
    "#young_people_df['ynotsch'] = young_people_df['ynotsch'].astype(int)\n",
    "young_people_df.groupby([\"ynotsch\", \"sex\"]).size()"
   ]
  },
  {
   "cell_type": "code",
   "execution_count": null,
   "metadata": {},
   "outputs": [],
   "source": [
    "young_people_df[young_people_df['ynotsch_full'] != -1].groupby(['ynotsch_full', 'sex']).size().unstack().plot(kind='barh', figsize=(8, 8))\n",
    "plt.xlabel('Count')\n",
    "plt.ylabel('Reason for Not Going to School')\n",
    "plt.title('')"
   ]
  },
  {
   "cell_type": "code",
   "execution_count": null,
   "metadata": {},
   "outputs": [],
   "source": [
    "all_df['occup'].unique()"
   ]
  },
  {
   "cell_type": "code",
   "execution_count": null,
   "metadata": {},
   "outputs": [],
   "source": [
    "all_df.shape"
   ]
  },
  {
   "cell_type": "code",
   "execution_count": null,
   "metadata": {},
   "outputs": [],
   "source": [
    "all_df.reset_index().plot.scatter(x = 'index', y = 'wagcshm')\n",
    "plt.axis([0,663883,0,23053296])"
   ]
  },
  {
   "cell_type": "code",
   "execution_count": null,
   "metadata": {},
   "outputs": [],
   "source": [
    "all_df.sort_values('wagcshm')[['wagcshm', 'province', 'occup', 'indust', 'educal_full']].tail(50)"
   ]
  },
  {
   "cell_type": "code",
   "execution_count": null,
   "metadata": {},
   "outputs": [],
   "source": [
    "all_df['age_yr'].value_counts()"
   ]
  },
  {
   "cell_type": "code",
   "execution_count": null,
   "metadata": {},
   "outputs": [],
   "source": [
    "all_df.reset_index().plot.scatter(x = 'index', y = 'age_yr')"
   ]
  },
  {
   "cell_type": "code",
   "execution_count": null,
   "metadata": {},
   "outputs": [],
   "source": [
    "all_df.sort_values('age_yr')['age_yr'].tail(50)"
   ]
  },
  {
   "cell_type": "code",
   "execution_count": null,
   "metadata": {},
   "outputs": [],
   "source": [
    "all_df['age_2022'] = all_df['age_yr'] + 6 + 2"
   ]
  },
  {
   "cell_type": "code",
   "execution_count": null,
   "metadata": {},
   "outputs": [],
   "source": [
    "all_df[all_df['age_2022'] >= 18].groupby('province').size()"
   ]
  },
  {
   "cell_type": "markdown",
   "metadata": {},
   "source": [
    "Suppose that Commission on Elections wants to know how many new voters to expect in the 2022 Philippine elections."
   ]
  },
  {
   "cell_type": "markdown",
   "metadata": {},
   "source": [
    "We filter out the data whose age are greater than 16, because an elections happened in 2016 and the data was collected on 2014."
   ]
  },
  {
   "cell_type": "code",
   "execution_count": null,
   "metadata": {},
   "outputs": [],
   "source": [
    "new_voters = all_df[all_df['age_yr'] < 16]"
   ]
  },
  {
   "cell_type": "code",
   "execution_count": null,
   "metadata": {},
   "outputs": [],
   "source": [
    "new_voters['age_yr']"
   ]
  },
  {
   "cell_type": "code",
   "execution_count": null,
   "metadata": {},
   "outputs": [],
   "source": [
    "new_voters['age_2022'] = new_voters['age_yr'] + 6 + 2"
   ]
  },
  {
   "cell_type": "code",
   "execution_count": null,
   "metadata": {},
   "outputs": [],
   "source": [
    "new_voters['age_2022']"
   ]
  },
  {
   "cell_type": "code",
   "execution_count": null,
   "metadata": {},
   "outputs": [],
   "source": [
    "new_voters = new_voters[new_voters['age_2022'] >= 18]"
   ]
  },
  {
   "cell_type": "code",
   "execution_count": null,
   "metadata": {},
   "outputs": [],
   "source": [
    "new_voters"
   ]
  },
  {
   "cell_type": "code",
   "execution_count": null,
   "metadata": {},
   "outputs": [],
   "source": [
    "new_voters.groupby('province').size()"
   ]
  },
  {
   "cell_type": "code",
   "execution_count": null,
   "metadata": {},
   "outputs": [],
   "source": [
    "all_df.groupby('mcrimeind').size()"
   ]
  },
  {
   "cell_type": "code",
   "execution_count": null,
   "metadata": {},
   "outputs": [],
   "source": [
    "all_df.groupby(['mcrimeind', 'mtheftind', 'mrapeind', 'minjurind', 'mcarnapind', 'mcattrustlind', 'mocrimind']).size()"
   ]
  },
  {
   "cell_type": "code",
   "execution_count": null,
   "metadata": {},
   "outputs": [],
   "source": [
    "all_df.groupby(\"educal_full\").agg({\"wagcshm\": [\"mean\", \"median\", \"std\", len]})"
   ]
  },
  {
   "cell_type": "code",
   "execution_count": null,
   "metadata": {},
   "outputs": [],
   "source": []
  },
  {
   "cell_type": "code",
   "execution_count": null,
   "metadata": {},
   "outputs": [],
   "source": [
    "all_df.query(\"educal == 300 | educal == 200\").groupby(\"educal_full\").agg({\"wagcshm\": [\"mean\", \"median\", \"std\", len]})"
   ]
  },
  {
   "cell_type": "code",
   "execution_count": null,
   "metadata": {},
   "outputs": [],
   "source": [
    "sample_df = all_df.query(\"educal == 300 | educal == 200\").sample(60)\n",
    "sample_df.shape"
   ]
  },
  {
   "cell_type": "code",
   "execution_count": null,
   "metadata": {},
   "outputs": [],
   "source": [
    "ttest_ind(sample_df[sample_df[\"educal\"] == 300][\"wagcshm\"],\n",
    "          sample_df[sample_df[\"educal\"] == 200][\"wagcshm\"],\n",
    "          equal_var = False)"
   ]
  },
  {
   "cell_type": "code",
   "execution_count": null,
   "metadata": {},
   "outputs": [],
   "source": [
    "sample_df.groupby(\"educal_full\").agg({\"wagcshm\": [\"mean\", \"median\", \"std\", len]})"
   ]
  },
  {
   "cell_type": "code",
   "execution_count": null,
   "metadata": {},
   "outputs": [],
   "source": [
    "sample_df.boxplot(column=\"wagcshm\")"
   ]
  },
  {
   "cell_type": "code",
   "execution_count": null,
   "metadata": {},
   "outputs": [],
   "source": []
  },
  {
   "cell_type": "code",
   "execution_count": null,
   "metadata": {},
   "outputs": [],
   "source": [
    "all_df.query(\"educal == 200 | educal == 100\").shape"
   ]
  },
  {
   "cell_type": "code",
   "execution_count": null,
   "metadata": {},
   "outputs": [],
   "source": [
    "sample_df = all_df.query(\"educal == 200 | educal == 100\").sample(60)\n",
    "sample_df.shape"
   ]
  },
  {
   "cell_type": "code",
   "execution_count": null,
   "metadata": {},
   "outputs": [],
   "source": [
    "ttest_ind(sample_df[sample_df[\"educal\"] == 200][\"wagcshm\"],\n",
    "          sample_df[sample_df[\"educal\"] == 100][\"wagcshm\"],\n",
    "          equal_var = False)"
   ]
  },
  {
   "cell_type": "code",
   "execution_count": null,
   "metadata": {},
   "outputs": [],
   "source": [
    "sample_df.groupby(\"educal_full\").agg({\"wagcshm\": [\"mean\", \"median\", \"std\", len]})"
   ]
  },
  {
   "cell_type": "code",
   "execution_count": null,
   "metadata": {},
   "outputs": [],
   "source": [
    "sample_df.boxplot(column=\"wagcshm\")"
   ]
  },
  {
   "cell_type": "code",
   "execution_count": null,
   "metadata": {},
   "outputs": [],
   "source": []
  },
  {
   "cell_type": "code",
   "execution_count": null,
   "metadata": {},
   "outputs": [],
   "source": [
    "all_df = adults_df.sample(60)\n",
    "all_df[\"province\"].value_counts()"
   ]
  },
  {
   "cell_type": "code",
   "execution_count": null,
   "metadata": {},
   "outputs": [],
   "source": [
    "print(np.var(all_df[all_df[\"sex\"] == \"male\"][\"wagcshm\"]), np.var(all_df[all_df[\"sex\"] == \"female\"][\"wagcshm\"]))"
   ]
  },
  {
   "cell_type": "code",
   "execution_count": null,
   "metadata": {},
   "outputs": [],
   "source": [
    "ttest_ind(all_df[all_df[\"province\"] == \"Marinduque\"][\"wagcshm\"],\n",
    "          all_df[all_df[\"province\"] == \"Palawan\"][\"wagcshm\"],\n",
    "          equal_var = False)"
   ]
  },
  {
   "cell_type": "code",
   "execution_count": null,
   "metadata": {},
   "outputs": [],
   "source": [
    "all_df.groupby(\"province\").agg({\"wagcshm\": [\"mean\", \"median\", \"std\", len]})"
   ]
  },
  {
   "cell_type": "code",
   "execution_count": null,
   "metadata": {},
   "outputs": [],
   "source": []
  },
  {
   "cell_type": "code",
   "execution_count": null,
   "metadata": {},
   "outputs": [],
   "source": [
    "all_df.groupby(['pwd_type', 'sex']).size().unstack().plot(kind='bar', figsize=(8, 8))\n",
    "plt.xlabel('Educational Attainment')\n",
    "plt.ylabel('Count')\n",
    "plt.xticks(rotation=65)\n",
    "plt.title('')"
   ]
  },
  {
   "cell_type": "code",
   "execution_count": null,
   "metadata": {},
   "outputs": [],
   "source": []
  }
 ],
 "metadata": {
  "colab": {
   "name": "Untitled0.ipynb",
   "provenance": []
  },
  "kernelspec": {
   "display_name": "Python 3",
   "language": "python",
   "name": "python3"
  },
  "language_info": {
   "codemirror_mode": {
    "name": "ipython",
    "version": 3
   },
   "file_extension": ".py",
   "mimetype": "text/x-python",
   "name": "python",
   "nbconvert_exporter": "python",
   "pygments_lexer": "ipython3",
   "version": "3.8.3"
  }
 },
 "nbformat": 4,
 "nbformat_minor": 1
}
