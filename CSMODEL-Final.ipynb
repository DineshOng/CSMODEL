{
 "cells": [
  {
   "cell_type": "markdown",
   "metadata": {},
   "source": [
    "## Import\n",
    "Import **numpy**, **pandas** and **matplotlib**."
   ]
  },
  {
   "cell_type": "code",
   "execution_count": 1,
   "metadata": {
    "colab": {},
    "colab_type": "code",
    "id": "3lpcFkQ9nF43"
   },
   "outputs": [],
   "source": [
    "import numpy as np\n",
    "import pandas as pd\n",
    "import matplotlib.pyplot as plt"
   ]
  },
  {
   "cell_type": "markdown",
   "metadata": {},
   "source": [
    "## Set the CSV filenames\n",
    "Set the CSV filenames for **Marinduqe** and **Palawan** dataset."
   ]
  },
  {
   "cell_type": "code",
   "execution_count": 2,
   "metadata": {
    "colab": {},
    "colab_type": "code",
    "id": "jJKYgHudnhoW"
   },
   "outputs": [],
   "source": [
    "marinduque_hh_url = \"hpq_hh_marinduque.csv\"\n",
    "marinduque_mem_url = \"hpq_mem_marinduque.csv\"\n",
    "palawan_hh_url = \"hpq_hh_palawan.csv\"\n",
    "palawan_mem_url = \"hpq_mem_palawan.csv\""
   ]
  },
  {
   "cell_type": "markdown",
   "metadata": {},
   "source": [
    "## Reading the Dataset"
   ]
  },
  {
   "cell_type": "markdown",
   "metadata": {},
   "source": [
    "Reading the **Marinduque** dataset."
   ]
  },
  {
   "cell_type": "code",
   "execution_count": 3,
   "metadata": {
    "colab": {
     "base_uri": "https://localhost:8080/",
     "height": 68
    },
    "colab_type": "code",
    "id": "c29k9WbLnnzS",
    "outputId": "7bbdb297-a3cb-42f6-8767-f074def4eb21"
   },
   "outputs": [
    {
     "data": {
      "text/plain": [
       "(204781, 82)"
      ]
     },
     "execution_count": 3,
     "metadata": {},
     "output_type": "execute_result"
    }
   ],
   "source": [
    "marinduque_mem_df = pd.read_csv(marinduque_mem_url, dtype='unicode')\n",
    "marinduque_mem_df.shape"
   ]
  },
  {
   "cell_type": "markdown",
   "metadata": {},
   "source": [
    "Create a new column called **region** and set it as **Marinduque**. We added this column to distinguish the dataset between the two regions."
   ]
  },
  {
   "cell_type": "code",
   "execution_count": 4,
   "metadata": {
    "colab": {
     "base_uri": "https://localhost:8080/",
     "height": 253
    },
    "colab_type": "code",
    "id": "xkG08vg0noRA",
    "outputId": "05e48d84-473a-400a-d6d5-139c8175d295"
   },
   "outputs": [
    {
     "data": {
      "text/html": [
       "<div>\n",
       "<style scoped>\n",
       "    .dataframe tbody tr th:only-of-type {\n",
       "        vertical-align: middle;\n",
       "    }\n",
       "\n",
       "    .dataframe tbody tr th {\n",
       "        vertical-align: top;\n",
       "    }\n",
       "\n",
       "    .dataframe thead th {\n",
       "        text-align: right;\n",
       "    }\n",
       "</style>\n",
       "<table border=\"1\" class=\"dataframe\">\n",
       "  <thead>\n",
       "    <tr style=\"text-align: right;\">\n",
       "      <th></th>\n",
       "      <th>main.id</th>\n",
       "      <th>memno</th>\n",
       "      <th>nucfam</th>\n",
       "      <th>reln</th>\n",
       "      <th>reln_o</th>\n",
       "      <th>sex</th>\n",
       "      <th>birth_date</th>\n",
       "      <th>age_yr</th>\n",
       "      <th>birth_reg</th>\n",
       "      <th>civstat</th>\n",
       "      <th>...</th>\n",
       "      <th>mocrim</th>\n",
       "      <th>mtheftloc</th>\n",
       "      <th>mrapeloc</th>\n",
       "      <th>minjurloc</th>\n",
       "      <th>mcarnaploc</th>\n",
       "      <th>mcattrustlloc</th>\n",
       "      <th>mocrimloc</th>\n",
       "      <th>mnutind</th>\n",
       "      <th>mnutind_date</th>\n",
       "      <th>region</th>\n",
       "    </tr>\n",
       "  </thead>\n",
       "  <tbody>\n",
       "    <tr>\n",
       "      <th>0</th>\n",
       "      <td>199036</td>\n",
       "      <td>1</td>\n",
       "      <td>1</td>\n",
       "      <td>1</td>\n",
       "      <td>NaN</td>\n",
       "      <td>1</td>\n",
       "      <td>11/6/1960</td>\n",
       "      <td>53</td>\n",
       "      <td>1</td>\n",
       "      <td>2</td>\n",
       "      <td>...</td>\n",
       "      <td>NaN</td>\n",
       "      <td>NaN</td>\n",
       "      <td>NaN</td>\n",
       "      <td>NaN</td>\n",
       "      <td>NaN</td>\n",
       "      <td>NaN</td>\n",
       "      <td>NaN</td>\n",
       "      <td>NaN</td>\n",
       "      <td>NaN</td>\n",
       "      <td>Marinduque</td>\n",
       "    </tr>\n",
       "    <tr>\n",
       "      <th>1</th>\n",
       "      <td>199036</td>\n",
       "      <td>2</td>\n",
       "      <td>1</td>\n",
       "      <td>2</td>\n",
       "      <td>NaN</td>\n",
       "      <td>2</td>\n",
       "      <td>11/17/1961</td>\n",
       "      <td>52</td>\n",
       "      <td>1</td>\n",
       "      <td>2</td>\n",
       "      <td>...</td>\n",
       "      <td>NaN</td>\n",
       "      <td>NaN</td>\n",
       "      <td>NaN</td>\n",
       "      <td>NaN</td>\n",
       "      <td>NaN</td>\n",
       "      <td>NaN</td>\n",
       "      <td>NaN</td>\n",
       "      <td>NaN</td>\n",
       "      <td>NaN</td>\n",
       "      <td>Marinduque</td>\n",
       "    </tr>\n",
       "    <tr>\n",
       "      <th>2</th>\n",
       "      <td>199036</td>\n",
       "      <td>3</td>\n",
       "      <td>1</td>\n",
       "      <td>3</td>\n",
       "      <td>NaN</td>\n",
       "      <td>2</td>\n",
       "      <td>3/5/1991</td>\n",
       "      <td>23</td>\n",
       "      <td>1</td>\n",
       "      <td>1</td>\n",
       "      <td>...</td>\n",
       "      <td>NaN</td>\n",
       "      <td>NaN</td>\n",
       "      <td>NaN</td>\n",
       "      <td>NaN</td>\n",
       "      <td>NaN</td>\n",
       "      <td>NaN</td>\n",
       "      <td>NaN</td>\n",
       "      <td>NaN</td>\n",
       "      <td>NaN</td>\n",
       "      <td>Marinduque</td>\n",
       "    </tr>\n",
       "    <tr>\n",
       "      <th>3</th>\n",
       "      <td>199036</td>\n",
       "      <td>4</td>\n",
       "      <td>1</td>\n",
       "      <td>3</td>\n",
       "      <td>NaN</td>\n",
       "      <td>1</td>\n",
       "      <td>4/21/2000</td>\n",
       "      <td>14</td>\n",
       "      <td>1</td>\n",
       "      <td>1</td>\n",
       "      <td>...</td>\n",
       "      <td>NaN</td>\n",
       "      <td>NaN</td>\n",
       "      <td>NaN</td>\n",
       "      <td>NaN</td>\n",
       "      <td>NaN</td>\n",
       "      <td>NaN</td>\n",
       "      <td>NaN</td>\n",
       "      <td>NaN</td>\n",
       "      <td>NaN</td>\n",
       "      <td>Marinduque</td>\n",
       "    </tr>\n",
       "    <tr>\n",
       "      <th>4</th>\n",
       "      <td>199036</td>\n",
       "      <td>5</td>\n",
       "      <td>1</td>\n",
       "      <td>3</td>\n",
       "      <td>NaN</td>\n",
       "      <td>1</td>\n",
       "      <td>4/24/2002</td>\n",
       "      <td>12</td>\n",
       "      <td>1</td>\n",
       "      <td>1</td>\n",
       "      <td>...</td>\n",
       "      <td>NaN</td>\n",
       "      <td>NaN</td>\n",
       "      <td>NaN</td>\n",
       "      <td>NaN</td>\n",
       "      <td>NaN</td>\n",
       "      <td>NaN</td>\n",
       "      <td>NaN</td>\n",
       "      <td>NaN</td>\n",
       "      <td>NaN</td>\n",
       "      <td>Marinduque</td>\n",
       "    </tr>\n",
       "  </tbody>\n",
       "</table>\n",
       "<p>5 rows × 83 columns</p>\n",
       "</div>"
      ],
      "text/plain": [
       "  main.id memno nucfam reln reln_o sex  birth_date age_yr birth_reg civstat  \\\n",
       "0  199036     1      1    1    NaN   1   11/6/1960     53         1       2   \n",
       "1  199036     2      1    2    NaN   2  11/17/1961     52         1       2   \n",
       "2  199036     3      1    3    NaN   2    3/5/1991     23         1       1   \n",
       "3  199036     4      1    3    NaN   1   4/21/2000     14         1       1   \n",
       "4  199036     5      1    3    NaN   1   4/24/2002     12         1       1   \n",
       "\n",
       "   ... mocrim mtheftloc mrapeloc minjurloc mcarnaploc mcattrustlloc mocrimloc  \\\n",
       "0  ...    NaN       NaN      NaN       NaN        NaN           NaN       NaN   \n",
       "1  ...    NaN       NaN      NaN       NaN        NaN           NaN       NaN   \n",
       "2  ...    NaN       NaN      NaN       NaN        NaN           NaN       NaN   \n",
       "3  ...    NaN       NaN      NaN       NaN        NaN           NaN       NaN   \n",
       "4  ...    NaN       NaN      NaN       NaN        NaN           NaN       NaN   \n",
       "\n",
       "  mnutind mnutind_date      region  \n",
       "0     NaN          NaN  Marinduque  \n",
       "1     NaN          NaN  Marinduque  \n",
       "2     NaN          NaN  Marinduque  \n",
       "3     NaN          NaN  Marinduque  \n",
       "4     NaN          NaN  Marinduque  \n",
       "\n",
       "[5 rows x 83 columns]"
      ]
     },
     "execution_count": 4,
     "metadata": {},
     "output_type": "execute_result"
    }
   ],
   "source": [
    "marinduque_df = marinduque_mem_df\n",
    "marinduque_df[\"region\"] = \"Marinduque\"\n",
    "marinduque_df.head()"
   ]
  },
  {
   "cell_type": "markdown",
   "metadata": {},
   "source": [
    "Reading the **Palawan** dataset"
   ]
  },
  {
   "cell_type": "code",
   "execution_count": 5,
   "metadata": {
    "colab": {
     "base_uri": "https://localhost:8080/",
     "height": 68
    },
    "colab_type": "code",
    "id": "gJHEDeTToTLO",
    "outputId": "ca7a49f9-abbb-496b-c9e2-3037247d71c4"
   },
   "outputs": [
    {
     "data": {
      "text/plain": [
       "(459102, 83)"
      ]
     },
     "execution_count": 5,
     "metadata": {},
     "output_type": "execute_result"
    }
   ],
   "source": [
    "palawan_mem_df = pd.read_csv(palawan_mem_url, dtype='unicode')\n",
    "palawan_mem_df.shape"
   ]
  },
  {
   "cell_type": "markdown",
   "metadata": {},
   "source": [
    "Again, create a new column called **region** and set it as **Palawan**."
   ]
  },
  {
   "cell_type": "code",
   "execution_count": 6,
   "metadata": {
    "colab": {
     "base_uri": "https://localhost:8080/",
     "height": 253
    },
    "colab_type": "code",
    "id": "cGgR4_M8ny0t",
    "outputId": "0c1b2079-f49f-455f-92ba-30caa72a75c0"
   },
   "outputs": [
    {
     "data": {
      "text/html": [
       "<div>\n",
       "<style scoped>\n",
       "    .dataframe tbody tr th:only-of-type {\n",
       "        vertical-align: middle;\n",
       "    }\n",
       "\n",
       "    .dataframe tbody tr th {\n",
       "        vertical-align: top;\n",
       "    }\n",
       "\n",
       "    .dataframe thead th {\n",
       "        text-align: right;\n",
       "    }\n",
       "</style>\n",
       "<table border=\"1\" class=\"dataframe\">\n",
       "  <thead>\n",
       "    <tr style=\"text-align: right;\">\n",
       "      <th></th>\n",
       "      <th>main.id</th>\n",
       "      <th>memno</th>\n",
       "      <th>nucfam</th>\n",
       "      <th>reln</th>\n",
       "      <th>reln_o</th>\n",
       "      <th>sex</th>\n",
       "      <th>birth_date</th>\n",
       "      <th>age</th>\n",
       "      <th>age_yr</th>\n",
       "      <th>birth_reg</th>\n",
       "      <th>...</th>\n",
       "      <th>mocrim</th>\n",
       "      <th>mtheftloc</th>\n",
       "      <th>mrapeloc</th>\n",
       "      <th>minjurloc</th>\n",
       "      <th>mcarnaploc</th>\n",
       "      <th>mcattrustlloc</th>\n",
       "      <th>mocrimloc</th>\n",
       "      <th>mnutind</th>\n",
       "      <th>mnutind_date</th>\n",
       "      <th>region</th>\n",
       "    </tr>\n",
       "  </thead>\n",
       "  <tbody>\n",
       "    <tr>\n",
       "      <th>0</th>\n",
       "      <td>69279</td>\n",
       "      <td>15</td>\n",
       "      <td>1</td>\n",
       "      <td>1</td>\n",
       "      <td>NaN</td>\n",
       "      <td>1</td>\n",
       "      <td>6/16/1956</td>\n",
       "      <td>57.97399042</td>\n",
       "      <td>57</td>\n",
       "      <td>1</td>\n",
       "      <td>...</td>\n",
       "      <td>NaN</td>\n",
       "      <td>NaN</td>\n",
       "      <td>NaN</td>\n",
       "      <td>NaN</td>\n",
       "      <td>NaN</td>\n",
       "      <td>NaN</td>\n",
       "      <td>NaN</td>\n",
       "      <td>NaN</td>\n",
       "      <td>NaN</td>\n",
       "      <td>Palawan</td>\n",
       "    </tr>\n",
       "    <tr>\n",
       "      <th>1</th>\n",
       "      <td>69279</td>\n",
       "      <td>16</td>\n",
       "      <td>1</td>\n",
       "      <td>2</td>\n",
       "      <td>NaN</td>\n",
       "      <td>2</td>\n",
       "      <td>8/28/1967</td>\n",
       "      <td>46.7761807</td>\n",
       "      <td>46</td>\n",
       "      <td>1</td>\n",
       "      <td>...</td>\n",
       "      <td>NaN</td>\n",
       "      <td>NaN</td>\n",
       "      <td>NaN</td>\n",
       "      <td>NaN</td>\n",
       "      <td>NaN</td>\n",
       "      <td>NaN</td>\n",
       "      <td>NaN</td>\n",
       "      <td>NaN</td>\n",
       "      <td>NaN</td>\n",
       "      <td>Palawan</td>\n",
       "    </tr>\n",
       "    <tr>\n",
       "      <th>2</th>\n",
       "      <td>69279</td>\n",
       "      <td>17</td>\n",
       "      <td>1</td>\n",
       "      <td>3</td>\n",
       "      <td>NaN</td>\n",
       "      <td>2</td>\n",
       "      <td>11/18/1992</td>\n",
       "      <td>21.54962355</td>\n",
       "      <td>21</td>\n",
       "      <td>1</td>\n",
       "      <td>...</td>\n",
       "      <td>NaN</td>\n",
       "      <td>NaN</td>\n",
       "      <td>NaN</td>\n",
       "      <td>NaN</td>\n",
       "      <td>NaN</td>\n",
       "      <td>NaN</td>\n",
       "      <td>NaN</td>\n",
       "      <td>NaN</td>\n",
       "      <td>NaN</td>\n",
       "      <td>Palawan</td>\n",
       "    </tr>\n",
       "    <tr>\n",
       "      <th>3</th>\n",
       "      <td>69279</td>\n",
       "      <td>18</td>\n",
       "      <td>1</td>\n",
       "      <td>3</td>\n",
       "      <td>NaN</td>\n",
       "      <td>1</td>\n",
       "      <td>4/28/1998</td>\n",
       "      <td>16.10951403</td>\n",
       "      <td>16</td>\n",
       "      <td>1</td>\n",
       "      <td>...</td>\n",
       "      <td>NaN</td>\n",
       "      <td>NaN</td>\n",
       "      <td>NaN</td>\n",
       "      <td>NaN</td>\n",
       "      <td>NaN</td>\n",
       "      <td>NaN</td>\n",
       "      <td>NaN</td>\n",
       "      <td>NaN</td>\n",
       "      <td>NaN</td>\n",
       "      <td>Palawan</td>\n",
       "    </tr>\n",
       "    <tr>\n",
       "      <th>4</th>\n",
       "      <td>69279</td>\n",
       "      <td>19</td>\n",
       "      <td>1</td>\n",
       "      <td>3</td>\n",
       "      <td>NaN</td>\n",
       "      <td>1</td>\n",
       "      <td>10/8/2002</td>\n",
       "      <td>11.66324435</td>\n",
       "      <td>11</td>\n",
       "      <td>1</td>\n",
       "      <td>...</td>\n",
       "      <td>NaN</td>\n",
       "      <td>NaN</td>\n",
       "      <td>NaN</td>\n",
       "      <td>NaN</td>\n",
       "      <td>NaN</td>\n",
       "      <td>NaN</td>\n",
       "      <td>NaN</td>\n",
       "      <td>NaN</td>\n",
       "      <td>NaN</td>\n",
       "      <td>Palawan</td>\n",
       "    </tr>\n",
       "  </tbody>\n",
       "</table>\n",
       "<p>5 rows × 84 columns</p>\n",
       "</div>"
      ],
      "text/plain": [
       "  main.id memno nucfam reln reln_o sex  birth_date          age age_yr  \\\n",
       "0   69279    15      1    1    NaN   1   6/16/1956  57.97399042     57   \n",
       "1   69279    16      1    2    NaN   2   8/28/1967   46.7761807     46   \n",
       "2   69279    17      1    3    NaN   2  11/18/1992  21.54962355     21   \n",
       "3   69279    18      1    3    NaN   1   4/28/1998  16.10951403     16   \n",
       "4   69279    19      1    3    NaN   1   10/8/2002  11.66324435     11   \n",
       "\n",
       "  birth_reg  ... mocrim mtheftloc mrapeloc minjurloc mcarnaploc mcattrustlloc  \\\n",
       "0         1  ...    NaN       NaN      NaN       NaN        NaN           NaN   \n",
       "1         1  ...    NaN       NaN      NaN       NaN        NaN           NaN   \n",
       "2         1  ...    NaN       NaN      NaN       NaN        NaN           NaN   \n",
       "3         1  ...    NaN       NaN      NaN       NaN        NaN           NaN   \n",
       "4         1  ...    NaN       NaN      NaN       NaN        NaN           NaN   \n",
       "\n",
       "  mocrimloc mnutind mnutind_date   region  \n",
       "0       NaN     NaN          NaN  Palawan  \n",
       "1       NaN     NaN          NaN  Palawan  \n",
       "2       NaN     NaN          NaN  Palawan  \n",
       "3       NaN     NaN          NaN  Palawan  \n",
       "4       NaN     NaN          NaN  Palawan  \n",
       "\n",
       "[5 rows x 84 columns]"
      ]
     },
     "execution_count": 6,
     "metadata": {},
     "output_type": "execute_result"
    }
   ],
   "source": [
    "palawan_df = palawan_mem_df\n",
    "palawan_df[\"region\"] = \"Palawan\"\n",
    "palawan_df.head()"
   ]
  },
  {
   "cell_type": "markdown",
   "metadata": {},
   "source": [
    "## Merging the Two Dataset"
   ]
  },
  {
   "cell_type": "code",
   "execution_count": 7,
   "metadata": {
    "colab": {
     "base_uri": "https://localhost:8080/",
     "height": 439
    },
    "colab_type": "code",
    "id": "HcWZJ2oTpqAM",
    "outputId": "24234bbd-5bc5-40dc-a63c-193408d2f0b9"
   },
   "outputs": [
    {
     "data": {
      "text/html": [
       "<div>\n",
       "<style scoped>\n",
       "    .dataframe tbody tr th:only-of-type {\n",
       "        vertical-align: middle;\n",
       "    }\n",
       "\n",
       "    .dataframe tbody tr th {\n",
       "        vertical-align: top;\n",
       "    }\n",
       "\n",
       "    .dataframe thead th {\n",
       "        text-align: right;\n",
       "    }\n",
       "</style>\n",
       "<table border=\"1\" class=\"dataframe\">\n",
       "  <thead>\n",
       "    <tr style=\"text-align: right;\">\n",
       "      <th></th>\n",
       "      <th>main.id</th>\n",
       "      <th>memno</th>\n",
       "      <th>nucfam</th>\n",
       "      <th>reln</th>\n",
       "      <th>reln_o</th>\n",
       "      <th>sex</th>\n",
       "      <th>birth_date</th>\n",
       "      <th>age</th>\n",
       "      <th>age_yr</th>\n",
       "      <th>birth_reg</th>\n",
       "      <th>...</th>\n",
       "      <th>mocrim</th>\n",
       "      <th>mtheftloc</th>\n",
       "      <th>mrapeloc</th>\n",
       "      <th>minjurloc</th>\n",
       "      <th>mcarnaploc</th>\n",
       "      <th>mcattrustlloc</th>\n",
       "      <th>mocrimloc</th>\n",
       "      <th>mnutind</th>\n",
       "      <th>mnutind_date</th>\n",
       "      <th>region</th>\n",
       "    </tr>\n",
       "  </thead>\n",
       "  <tbody>\n",
       "    <tr>\n",
       "      <th>0</th>\n",
       "      <td>69279</td>\n",
       "      <td>15</td>\n",
       "      <td>1</td>\n",
       "      <td>1</td>\n",
       "      <td>NaN</td>\n",
       "      <td>1</td>\n",
       "      <td>6/16/1956</td>\n",
       "      <td>57.97399042</td>\n",
       "      <td>57</td>\n",
       "      <td>1</td>\n",
       "      <td>...</td>\n",
       "      <td>NaN</td>\n",
       "      <td>NaN</td>\n",
       "      <td>NaN</td>\n",
       "      <td>NaN</td>\n",
       "      <td>NaN</td>\n",
       "      <td>NaN</td>\n",
       "      <td>NaN</td>\n",
       "      <td>NaN</td>\n",
       "      <td>NaN</td>\n",
       "      <td>Palawan</td>\n",
       "    </tr>\n",
       "    <tr>\n",
       "      <th>1</th>\n",
       "      <td>69279</td>\n",
       "      <td>16</td>\n",
       "      <td>1</td>\n",
       "      <td>2</td>\n",
       "      <td>NaN</td>\n",
       "      <td>2</td>\n",
       "      <td>8/28/1967</td>\n",
       "      <td>46.7761807</td>\n",
       "      <td>46</td>\n",
       "      <td>1</td>\n",
       "      <td>...</td>\n",
       "      <td>NaN</td>\n",
       "      <td>NaN</td>\n",
       "      <td>NaN</td>\n",
       "      <td>NaN</td>\n",
       "      <td>NaN</td>\n",
       "      <td>NaN</td>\n",
       "      <td>NaN</td>\n",
       "      <td>NaN</td>\n",
       "      <td>NaN</td>\n",
       "      <td>Palawan</td>\n",
       "    </tr>\n",
       "    <tr>\n",
       "      <th>2</th>\n",
       "      <td>69279</td>\n",
       "      <td>17</td>\n",
       "      <td>1</td>\n",
       "      <td>3</td>\n",
       "      <td>NaN</td>\n",
       "      <td>2</td>\n",
       "      <td>11/18/1992</td>\n",
       "      <td>21.54962355</td>\n",
       "      <td>21</td>\n",
       "      <td>1</td>\n",
       "      <td>...</td>\n",
       "      <td>NaN</td>\n",
       "      <td>NaN</td>\n",
       "      <td>NaN</td>\n",
       "      <td>NaN</td>\n",
       "      <td>NaN</td>\n",
       "      <td>NaN</td>\n",
       "      <td>NaN</td>\n",
       "      <td>NaN</td>\n",
       "      <td>NaN</td>\n",
       "      <td>Palawan</td>\n",
       "    </tr>\n",
       "    <tr>\n",
       "      <th>3</th>\n",
       "      <td>69279</td>\n",
       "      <td>18</td>\n",
       "      <td>1</td>\n",
       "      <td>3</td>\n",
       "      <td>NaN</td>\n",
       "      <td>1</td>\n",
       "      <td>4/28/1998</td>\n",
       "      <td>16.10951403</td>\n",
       "      <td>16</td>\n",
       "      <td>1</td>\n",
       "      <td>...</td>\n",
       "      <td>NaN</td>\n",
       "      <td>NaN</td>\n",
       "      <td>NaN</td>\n",
       "      <td>NaN</td>\n",
       "      <td>NaN</td>\n",
       "      <td>NaN</td>\n",
       "      <td>NaN</td>\n",
       "      <td>NaN</td>\n",
       "      <td>NaN</td>\n",
       "      <td>Palawan</td>\n",
       "    </tr>\n",
       "    <tr>\n",
       "      <th>4</th>\n",
       "      <td>69279</td>\n",
       "      <td>19</td>\n",
       "      <td>1</td>\n",
       "      <td>3</td>\n",
       "      <td>NaN</td>\n",
       "      <td>1</td>\n",
       "      <td>10/8/2002</td>\n",
       "      <td>11.66324435</td>\n",
       "      <td>11</td>\n",
       "      <td>1</td>\n",
       "      <td>...</td>\n",
       "      <td>NaN</td>\n",
       "      <td>NaN</td>\n",
       "      <td>NaN</td>\n",
       "      <td>NaN</td>\n",
       "      <td>NaN</td>\n",
       "      <td>NaN</td>\n",
       "      <td>NaN</td>\n",
       "      <td>NaN</td>\n",
       "      <td>NaN</td>\n",
       "      <td>Palawan</td>\n",
       "    </tr>\n",
       "    <tr>\n",
       "      <th>...</th>\n",
       "      <td>...</td>\n",
       "      <td>...</td>\n",
       "      <td>...</td>\n",
       "      <td>...</td>\n",
       "      <td>...</td>\n",
       "      <td>...</td>\n",
       "      <td>...</td>\n",
       "      <td>...</td>\n",
       "      <td>...</td>\n",
       "      <td>...</td>\n",
       "      <td>...</td>\n",
       "      <td>...</td>\n",
       "      <td>...</td>\n",
       "      <td>...</td>\n",
       "      <td>...</td>\n",
       "      <td>...</td>\n",
       "      <td>...</td>\n",
       "      <td>...</td>\n",
       "      <td>...</td>\n",
       "      <td>...</td>\n",
       "      <td>...</td>\n",
       "    </tr>\n",
       "    <tr>\n",
       "      <th>663878</th>\n",
       "      <td>2590166</td>\n",
       "      <td>3</td>\n",
       "      <td>1</td>\n",
       "      <td>3</td>\n",
       "      <td>NaN</td>\n",
       "      <td>1</td>\n",
       "      <td>3/20/1995</td>\n",
       "      <td>NaN</td>\n",
       "      <td>20</td>\n",
       "      <td>1</td>\n",
       "      <td>...</td>\n",
       "      <td>NaN</td>\n",
       "      <td>NaN</td>\n",
       "      <td>NaN</td>\n",
       "      <td>NaN</td>\n",
       "      <td>NaN</td>\n",
       "      <td>NaN</td>\n",
       "      <td>NaN</td>\n",
       "      <td>NaN</td>\n",
       "      <td>NaN</td>\n",
       "      <td>Marinduque</td>\n",
       "    </tr>\n",
       "    <tr>\n",
       "      <th>663879</th>\n",
       "      <td>2590166</td>\n",
       "      <td>4</td>\n",
       "      <td>1</td>\n",
       "      <td>3</td>\n",
       "      <td>NaN</td>\n",
       "      <td>1</td>\n",
       "      <td>10/24/1996</td>\n",
       "      <td>NaN</td>\n",
       "      <td>18</td>\n",
       "      <td>1</td>\n",
       "      <td>...</td>\n",
       "      <td>NaN</td>\n",
       "      <td>NaN</td>\n",
       "      <td>NaN</td>\n",
       "      <td>NaN</td>\n",
       "      <td>NaN</td>\n",
       "      <td>NaN</td>\n",
       "      <td>NaN</td>\n",
       "      <td>NaN</td>\n",
       "      <td>NaN</td>\n",
       "      <td>Marinduque</td>\n",
       "    </tr>\n",
       "    <tr>\n",
       "      <th>663880</th>\n",
       "      <td>2590166</td>\n",
       "      <td>5</td>\n",
       "      <td>1</td>\n",
       "      <td>3</td>\n",
       "      <td>NaN</td>\n",
       "      <td>1</td>\n",
       "      <td>12/10/1999</td>\n",
       "      <td>NaN</td>\n",
       "      <td>15</td>\n",
       "      <td>1</td>\n",
       "      <td>...</td>\n",
       "      <td>NaN</td>\n",
       "      <td>NaN</td>\n",
       "      <td>NaN</td>\n",
       "      <td>NaN</td>\n",
       "      <td>NaN</td>\n",
       "      <td>NaN</td>\n",
       "      <td>NaN</td>\n",
       "      <td>NaN</td>\n",
       "      <td>NaN</td>\n",
       "      <td>Marinduque</td>\n",
       "    </tr>\n",
       "    <tr>\n",
       "      <th>663881</th>\n",
       "      <td>2590166</td>\n",
       "      <td>6</td>\n",
       "      <td>1</td>\n",
       "      <td>3</td>\n",
       "      <td>NaN</td>\n",
       "      <td>1</td>\n",
       "      <td>5/16/2002</td>\n",
       "      <td>NaN</td>\n",
       "      <td>13</td>\n",
       "      <td>1</td>\n",
       "      <td>...</td>\n",
       "      <td>NaN</td>\n",
       "      <td>NaN</td>\n",
       "      <td>NaN</td>\n",
       "      <td>NaN</td>\n",
       "      <td>NaN</td>\n",
       "      <td>NaN</td>\n",
       "      <td>NaN</td>\n",
       "      <td>NaN</td>\n",
       "      <td>NaN</td>\n",
       "      <td>Marinduque</td>\n",
       "    </tr>\n",
       "    <tr>\n",
       "      <th>663882</th>\n",
       "      <td>2590166</td>\n",
       "      <td>7</td>\n",
       "      <td>1</td>\n",
       "      <td>3</td>\n",
       "      <td>NaN</td>\n",
       "      <td>1</td>\n",
       "      <td>8/3/2006</td>\n",
       "      <td>NaN</td>\n",
       "      <td>8</td>\n",
       "      <td>1</td>\n",
       "      <td>...</td>\n",
       "      <td>NaN</td>\n",
       "      <td>NaN</td>\n",
       "      <td>NaN</td>\n",
       "      <td>NaN</td>\n",
       "      <td>NaN</td>\n",
       "      <td>NaN</td>\n",
       "      <td>NaN</td>\n",
       "      <td>NaN</td>\n",
       "      <td>NaN</td>\n",
       "      <td>Marinduque</td>\n",
       "    </tr>\n",
       "  </tbody>\n",
       "</table>\n",
       "<p>663883 rows × 84 columns</p>\n",
       "</div>"
      ],
      "text/plain": [
       "        main.id memno nucfam reln reln_o sex  birth_date          age age_yr  \\\n",
       "0         69279    15      1    1    NaN   1   6/16/1956  57.97399042     57   \n",
       "1         69279    16      1    2    NaN   2   8/28/1967   46.7761807     46   \n",
       "2         69279    17      1    3    NaN   2  11/18/1992  21.54962355     21   \n",
       "3         69279    18      1    3    NaN   1   4/28/1998  16.10951403     16   \n",
       "4         69279    19      1    3    NaN   1   10/8/2002  11.66324435     11   \n",
       "...         ...   ...    ...  ...    ...  ..         ...          ...    ...   \n",
       "663878  2590166     3      1    3    NaN   1   3/20/1995          NaN     20   \n",
       "663879  2590166     4      1    3    NaN   1  10/24/1996          NaN     18   \n",
       "663880  2590166     5      1    3    NaN   1  12/10/1999          NaN     15   \n",
       "663881  2590166     6      1    3    NaN   1   5/16/2002          NaN     13   \n",
       "663882  2590166     7      1    3    NaN   1    8/3/2006          NaN      8   \n",
       "\n",
       "       birth_reg  ... mocrim mtheftloc mrapeloc minjurloc mcarnaploc  \\\n",
       "0              1  ...    NaN       NaN      NaN       NaN        NaN   \n",
       "1              1  ...    NaN       NaN      NaN       NaN        NaN   \n",
       "2              1  ...    NaN       NaN      NaN       NaN        NaN   \n",
       "3              1  ...    NaN       NaN      NaN       NaN        NaN   \n",
       "4              1  ...    NaN       NaN      NaN       NaN        NaN   \n",
       "...          ...  ...    ...       ...      ...       ...        ...   \n",
       "663878         1  ...    NaN       NaN      NaN       NaN        NaN   \n",
       "663879         1  ...    NaN       NaN      NaN       NaN        NaN   \n",
       "663880         1  ...    NaN       NaN      NaN       NaN        NaN   \n",
       "663881         1  ...    NaN       NaN      NaN       NaN        NaN   \n",
       "663882         1  ...    NaN       NaN      NaN       NaN        NaN   \n",
       "\n",
       "       mcattrustlloc mocrimloc mnutind mnutind_date      region  \n",
       "0                NaN       NaN     NaN          NaN     Palawan  \n",
       "1                NaN       NaN     NaN          NaN     Palawan  \n",
       "2                NaN       NaN     NaN          NaN     Palawan  \n",
       "3                NaN       NaN     NaN          NaN     Palawan  \n",
       "4                NaN       NaN     NaN          NaN     Palawan  \n",
       "...              ...       ...     ...          ...         ...  \n",
       "663878           NaN       NaN     NaN          NaN  Marinduque  \n",
       "663879           NaN       NaN     NaN          NaN  Marinduque  \n",
       "663880           NaN       NaN     NaN          NaN  Marinduque  \n",
       "663881           NaN       NaN     NaN          NaN  Marinduque  \n",
       "663882           NaN       NaN     NaN          NaN  Marinduque  \n",
       "\n",
       "[663883 rows x 84 columns]"
      ]
     },
     "execution_count": 7,
     "metadata": {},
     "output_type": "execute_result"
    }
   ],
   "source": [
    "all_df = palawan_df.append(marinduque_df, ignore_index=True)\n",
    "all_df"
   ]
  },
  {
   "cell_type": "code",
   "execution_count": 8,
   "metadata": {},
   "outputs": [
    {
     "name": "stdout",
     "output_type": "stream",
     "text": [
      "<class 'pandas.core.frame.DataFrame'>\n",
      "RangeIndex: 663883 entries, 0 to 663882\n",
      "Data columns (total 84 columns):\n",
      " #   Column               Non-Null Count   Dtype \n",
      "---  ------               --------------   ----- \n",
      " 0   main.id              663883 non-null  object\n",
      " 1   memno                663883 non-null  object\n",
      " 2   nucfam               663883 non-null  object\n",
      " 3   reln                 663882 non-null  object\n",
      " 4   reln_o               3506 non-null    object\n",
      " 5   sex                  663883 non-null  object\n",
      " 6   birth_date           663883 non-null  object\n",
      " 7   age                  459102 non-null  object\n",
      " 8   age_yr               663883 non-null  object\n",
      " 9   birth_reg            663883 non-null  object\n",
      " 10  civstat              628703 non-null  object\n",
      " 11  ethgrp               663882 non-null  object\n",
      " 12  ethgrp_o             41 non-null      object\n",
      " 13  ofw                  23276 non-null   object\n",
      " 14  mlenresid            616568 non-null  object\n",
      " 15  country_resid        7436 non-null    object\n",
      " 16  country_resid_o      4 non-null       object\n",
      " 17  prov_resid_code      5510 non-null    object\n",
      " 18  mun_resid_code       3522 non-null    object\n",
      " 19  brgy_resid_code      1798 non-null    object\n",
      " 20  mun_resid_txt        1992 non-null    object\n",
      " 21  brgy_resid_txt       3689 non-null    object\n",
      " 22  educind              616430 non-null  object\n",
      " 23  gradel               233484 non-null  object\n",
      " 24  sch_type             231962 non-null  object\n",
      " 25  gradel_calc          663883 non-null  object\n",
      " 26  ynotsch              294166 non-null  object\n",
      " 27  ynotsch_o            13151 non-null   object\n",
      " 28  educal               619678 non-null  object\n",
      " 29  psced7               39408 non-null   object\n",
      " 30  course_o             1 non-null       object\n",
      " 31  literind             503053 non-null  object\n",
      " 32  regvotind            421488 non-null  object\n",
      " 33  voted_last_election  343439 non-null  object\n",
      " 34  jobind               585970 non-null  object\n",
      " 35  entrepind            411211 non-null  object\n",
      " 36  njob                 663882 non-null  object\n",
      " 37  occup                197612 non-null  object\n",
      " 38  psoc4                197199 non-null  object\n",
      " 39  indust               196983 non-null  object\n",
      " 40  psic4                196901 non-null  object\n",
      " 41  jstatus              196819 non-null  object\n",
      " 42  work_ddhrs           663883 non-null  object\n",
      " 43  work_wkhrs           663882 non-null  object\n",
      " 44  fadd_work_hrs        196774 non-null  object\n",
      " 45  fxtra_wrk            196766 non-null  object\n",
      " 46  workcl               196618 non-null  object\n",
      " 47  fjob                 237716 non-null  object\n",
      " 48  first_fjob           9926 non-null    object\n",
      " 49  jsearch_meth         8498 non-null    object\n",
      " 50  jsearch_meth_o       250 non-null     object\n",
      " 51  wks_fjob             663881 non-null  object\n",
      " 52  ynotlookjob          225815 non-null  object\n",
      " 53  ynotlookjob_o        5074 non-null    object\n",
      " 54  lastlookjob          224928 non-null  object\n",
      " 55  joppind              232619 non-null  object\n",
      " 56  wtwind               232493 non-null  object\n",
      " 57  wagcshm              663882 non-null  object\n",
      " 58  wagkndm              663882 non-null  object\n",
      " 59  sss_ind              585946 non-null  object\n",
      " 60  pregind              13865 non-null   object\n",
      " 61  solo_parent          44206 non-null   object\n",
      " 62  pwd_ind              31168 non-null   object\n",
      " 63  pwd_type             6924 non-null    object\n",
      " 64  pwd_type_o           2364 non-null    object\n",
      " 65  pwd_id               6938 non-null    object\n",
      " 66  scid_ind             52295 non-null   object\n",
      " 67  mcrimeind            663881 non-null  object\n",
      " 68  mtheftind            650 non-null     object\n",
      " 69  mrapeind             555 non-null     object\n",
      " 70  minjurind            519 non-null     object\n",
      " 71  mcarnapind           508 non-null     object\n",
      " 72  mcattrustlind        512 non-null     object\n",
      " 73  mocrimind            538 non-null     object\n",
      " 74  mocrim               113 non-null     object\n",
      " 75  mtheftloc            197 non-null     object\n",
      " 76  mrapeloc             38 non-null      object\n",
      " 77  minjurloc            125 non-null     object\n",
      " 78  mcarnaploc           7 non-null       object\n",
      " 79  mcattrustlloc        8 non-null       object\n",
      " 80  mocrimloc            112 non-null     object\n",
      " 81  mnutind              99514 non-null   object\n",
      " 82  mnutind_date         99214 non-null   object\n",
      " 83  region               663883 non-null  object\n",
      "dtypes: object(84)\n",
      "memory usage: 425.5+ MB\n"
     ]
    }
   ],
   "source": [
    "all_df.info()"
   ]
  },
  {
   "cell_type": "code",
   "execution_count": 9,
   "metadata": {},
   "outputs": [
    {
     "data": {
      "text/plain": [
       "main.id          False\n",
       "memno            False\n",
       "nucfam           False\n",
       "reln              True\n",
       "reln_o            True\n",
       "                 ...  \n",
       "mcattrustlloc     True\n",
       "mocrimloc         True\n",
       "mnutind           True\n",
       "mnutind_date      True\n",
       "region           False\n",
       "Length: 84, dtype: bool"
      ]
     },
     "execution_count": 9,
     "metadata": {},
     "output_type": "execute_result"
    }
   ],
   "source": [
    "all_df.isnull().any()"
   ]
  },
  {
   "cell_type": "code",
   "execution_count": 10,
   "metadata": {},
   "outputs": [
    {
     "data": {
      "text/plain": [
       "0    200\n",
       "1    NaN\n",
       "2    NaN\n",
       "3    NaN\n",
       "Name: educal, dtype: object"
      ]
     },
     "execution_count": 10,
     "metadata": {},
     "output_type": "execute_result"
    }
   ],
   "source": [
    "all_df.mode()['educal']"
   ]
  },
  {
   "cell_type": "code",
   "execution_count": 11,
   "metadata": {},
   "outputs": [
    {
     "data": {
      "text/plain": [
       "0      8\n",
       "1    NaN\n",
       "2    NaN\n",
       "3    NaN\n",
       "Name: ynotsch, dtype: object"
      ]
     },
     "execution_count": 11,
     "metadata": {},
     "output_type": "execute_result"
    }
   ],
   "source": [
    "all_df.mode()['ynotsch']"
   ]
  },
  {
   "cell_type": "code",
   "execution_count": 12,
   "metadata": {},
   "outputs": [],
   "source": [
    "all_df.loc[all_df['educal'].isnull(),'educal'] = -1\n",
    "all_df.loc[all_df['ynotsch'].isnull(),'ynotsch'] = -1\n",
    "all_df.loc[all_df['age_yr'].isnull(),'age_yr'] = -1"
   ]
  },
  {
   "cell_type": "code",
   "execution_count": 13,
   "metadata": {},
   "outputs": [],
   "source": [
    "all_df['educal'] = all_df['educal'].astype(int)\n",
    "all_df['ynotsch'] = all_df['ynotsch'].astype(int)\n",
    "all_df['age_yr'] = all_df['age_yr'].astype(int)"
   ]
  },
  {
   "cell_type": "code",
   "execution_count": 14,
   "metadata": {},
   "outputs": [
    {
     "data": {
      "text/plain": [
       "1            338140\n",
       "2            325742\n",
       "7/23/2003         1\n",
       "Name: sex, dtype: int64"
      ]
     },
     "execution_count": 14,
     "metadata": {},
     "output_type": "execute_result"
    }
   ],
   "source": [
    "all_df[\"sex\"].value_counts()"
   ]
  },
  {
   "cell_type": "code",
   "execution_count": 15,
   "metadata": {},
   "outputs": [
    {
     "data": {
      "text/plain": [
       "array(['1', '2', '7/23/2003'], dtype=object)"
      ]
     },
     "execution_count": 15,
     "metadata": {},
     "output_type": "execute_result"
    }
   ],
   "source": [
    "all_df[\"sex\"].unique()"
   ]
  },
  {
   "cell_type": "code",
   "execution_count": 16,
   "metadata": {},
   "outputs": [],
   "source": [
    "all_df[\"sex\"] = all_df[\"sex\"].map({'1': 'male', '2': 'female'})"
   ]
  },
  {
   "cell_type": "code",
   "execution_count": 17,
   "metadata": {},
   "outputs": [
    {
     "data": {
      "text/plain": [
       "array(['male', 'female', nan], dtype=object)"
      ]
     },
     "execution_count": 17,
     "metadata": {},
     "output_type": "execute_result"
    }
   ],
   "source": [
    "all_df[\"sex\"].unique()"
   ]
  },
  {
   "cell_type": "code",
   "execution_count": 18,
   "metadata": {},
   "outputs": [],
   "source": [
    "#all_df['wagcshm'] = pd.to_numeric(all_df[\"wagcshm\"])\n",
    "all_df['wagcshm'] = all_df['wagcshm'].astype(float)"
   ]
  },
  {
   "cell_type": "code",
   "execution_count": 19,
   "metadata": {},
   "outputs": [
    {
     "data": {
      "text/plain": [
       "0.0          535462\n",
       "36000.0        7417\n",
       "24000.0        4926\n",
       "10000.0        4855\n",
       "30000.0        4639\n",
       "              ...  \n",
       "120800.0          1\n",
       "292654.0          1\n",
       "73140.0           1\n",
       "4680000.0         1\n",
       "65285.0           1\n",
       "Name: wagcshm, Length: 4584, dtype: int64"
      ]
     },
     "execution_count": 19,
     "metadata": {},
     "output_type": "execute_result"
    }
   ],
   "source": [
    "all_df[\"wagcshm\"].value_counts()"
   ]
  },
  {
   "cell_type": "code",
   "execution_count": 20,
   "metadata": {},
   "outputs": [],
   "source": [
    "all_df[\"educal_full\"] = all_df[\"educal\"].map({0: 'No Grade', 1: 'Day Care', 2: 'Nurser/Kindergarten/Preparatory', 11: 'Grade 1', 12: 'Grade 2', 13: 'Grade 3', 14: 'Grade 4', 15: 'Grade 5', 16: 'Grade 6', 17: 'Grade 7', 18: 'Grade 8', 19: 'Grade 9', 20: 'Grade 10', 21: 'Grade 11', 22: 'Grade 12', 23: '1st year PS PS/N-T/TV', 24: '2nd year PS PS/N-T/TV', 25: '3rd year PS PS/N-T/TV', 31: '1st year College', 32: '2nd year College', 33: '3rd year College', 34: '4th year College or higher', 41: 'Post grad with units', 51: 'ALS Elementary', 52: 'ALS Secondary', 53: 'SPED Elementary', 54: 'SPED Secondary', 100: 'Grade school graduate', 200: 'High school graduate', 210: 'Post secondary graduate', 300: 'College graduate', 400: \"Master's\\PhD graduate\"})"
   ]
  },
  {
   "cell_type": "code",
   "execution_count": 21,
   "metadata": {},
   "outputs": [],
   "source": [
    "all_df[\"ynotsch_full\"] = all_df[\"ynotsch\"].map({1: 'Schools are very far', 2: 'No school within the brgy', 3: 'No regular transportation', 4: 'High cost of education', 5: 'Illness/Disability', 6: 'Housekeeping/taking care of siblings', 7: 'Marriage', 8: 'Employment/looking for work', 9: 'Lack of personal interest', 10: 'Cannot cope with school work', 11: 'Finished schooling', 12: 'Problem with school record', 13: 'Problem with birth certificate', 14: 'Too young to go to school', 15: 'Others'})"
   ]
  },
  {
   "cell_type": "code",
   "execution_count": 22,
   "metadata": {},
   "outputs": [
    {
     "data": {
      "text/plain": [
       "(376437, 86)"
      ]
     },
     "execution_count": 22,
     "metadata": {},
     "output_type": "execute_result"
    }
   ],
   "source": [
    "adults_df = all_df[all_df[\"age_yr\"] >= 18]\n",
    "adults_df.shape"
   ]
  },
  {
   "cell_type": "code",
   "execution_count": 23,
   "metadata": {},
   "outputs": [
    {
     "data": {
      "text/plain": [
       "18     12919\n",
       "19     12607\n",
       "20     11857\n",
       "21     11099\n",
       "22     10714\n",
       "       ...  \n",
       "361        1\n",
       "105        1\n",
       "325        1\n",
       "961        1\n",
       "238        1\n",
       "Name: age_yr, Length: 115, dtype: int64"
      ]
     },
     "execution_count": 23,
     "metadata": {},
     "output_type": "execute_result"
    }
   ],
   "source": [
    "adults_df[\"age_yr\"].value_counts()"
   ]
  },
  {
   "cell_type": "code",
   "execution_count": 24,
   "metadata": {},
   "outputs": [
    {
     "data": {
      "text/plain": [
       "Text(0.5, 1.0, 'Bar plot of survival status of Titanic passengers')"
      ]
     },
     "execution_count": 24,
     "metadata": {},
     "output_type": "execute_result"
    },
    {
     "data": {
      "image/png": "[encoded data removed]",
      "text/plain": [
       "<Figure size 576x576 with 1 Axes>"
      ]
     },
     "metadata": {
      "needs_background": "light"
     },
     "output_type": "display_data"
    }
   ],
   "source": [
    "adults_df.groupby(\"educal\").agg({\"wagcshm\": [\"mean\"]}).sort_values((\"educal\")).plot(kind=\"barh\", figsize=(8, 8))\n",
    "plt.xlabel('Survived')\n",
    "plt.ylabel('Count')\n",
    "plt.title('Bar plot of survival status of Titanic passengers')"
   ]
  },
  {
   "cell_type": "code",
   "execution_count": 25,
   "metadata": {},
   "outputs": [
    {
     "data": {
      "text/plain": [
       "Text(0.5, 1.0, '')"
      ]
     },
     "execution_count": 25,
     "metadata": {},
     "output_type": "execute_result"
    },
    {
     "data": {
      "image/png": "[encoded data removed]",
      "text/plain": [
       "<Figure size 720x720 with 1 Axes>"
      ]
     },
     "metadata": {
      "needs_background": "light"
     },
     "output_type": "display_data"
    }
   ],
   "source": [
    "all_df[all_df['educal_full'] != -1].groupby(['educal_full', 'sex']).size().unstack().plot(kind='barh', figsize=(10, 10))\n",
    "plt.xlabel('Educational Attainment')\n",
    "plt.ylabel('Count')\n",
    "plt.title('')"
   ]
  },
  {
   "cell_type": "code",
   "execution_count": 26,
   "metadata": {},
   "outputs": [],
   "source": [
    "young_people_df = all_df.query(\"age_yr <= 24\")"
   ]
  },
  {
   "cell_type": "code",
   "execution_count": 27,
   "metadata": {},
   "outputs": [
    {
     "data": {
      "text/plain": [
       "2         21\n",
       "3         16\n",
       "4         11\n",
       "5          3\n",
       "8         12\n",
       "          ..\n",
       "663878    20\n",
       "663879    18\n",
       "663880    15\n",
       "663881    13\n",
       "663882     8\n",
       "Name: age_yr, Length: 367054, dtype: int32"
      ]
     },
     "execution_count": 27,
     "metadata": {},
     "output_type": "execute_result"
    }
   ],
   "source": [
    "young_people_df[\"age_yr\"]"
   ]
  },
  {
   "cell_type": "code",
   "execution_count": 28,
   "metadata": {},
   "outputs": [
    {
     "data": {
      "text/plain": [
       "2        -1\n",
       "3         1\n",
       "4        -1\n",
       "5        -1\n",
       "8        -1\n",
       "         ..\n",
       "663878   -1\n",
       "663879   -1\n",
       "663880   -1\n",
       "663881   -1\n",
       "663882   -1\n",
       "Name: ynotsch, Length: 367054, dtype: int32"
      ]
     },
     "execution_count": 28,
     "metadata": {},
     "output_type": "execute_result"
    }
   ],
   "source": [
    "young_people_df[\"ynotsch\"]"
   ]
  },
  {
   "cell_type": "code",
   "execution_count": 29,
   "metadata": {},
   "outputs": [],
   "source": [
    "#young_people_df = young_people_df.dropna(subset=['ynotsch'])"
   ]
  },
  {
   "cell_type": "code",
   "execution_count": 30,
   "metadata": {},
   "outputs": [
    {
     "data": {
      "text/plain": [
       "array([-1,  1,  9, 14,  5, 15,  4,  3,  8, 11,  6, 13,  7,  2, 12, 10])"
      ]
     },
     "execution_count": 30,
     "metadata": {},
     "output_type": "execute_result"
    }
   ],
   "source": [
    "young_people_df[\"ynotsch\"].unique()"
   ]
  },
  {
   "cell_type": "code",
   "execution_count": 31,
   "metadata": {},
   "outputs": [
    {
     "data": {
      "text/plain": [
       "ynotsch  sex   \n",
       "-1       female    132145\n",
       "         male      134560\n",
       " 1       female      2150\n",
       "         male        2478\n",
       " 2       female       162\n",
       "         male         163\n",
       " 3       female       267\n",
       "         male         278\n",
       " 4       female      5201\n",
       "         male        5775\n",
       " 5       female       896\n",
       "         male        1173\n",
       " 6       female      8015\n",
       "         male        1072\n",
       " 7       female      4051\n",
       "         male        1207\n",
       " 8       female      4558\n",
       "         male       12048\n",
       " 9       female      5284\n",
       "         male       11905\n",
       " 10      female       537\n",
       "         male         793\n",
       " 11      female      4814\n",
       "         male        3870\n",
       " 12      female        63\n",
       "         male         113\n",
       " 13      female        72\n",
       "         male          76\n",
       " 14      female      9620\n",
       "         male       10638\n",
       " 15      female      1795\n",
       "         male        1274\n",
       "dtype: int64"
      ]
     },
     "execution_count": 31,
     "metadata": {},
     "output_type": "execute_result"
    }
   ],
   "source": [
    "#young_people_df['ynotsch'] = young_people_df['ynotsch'].astype(int)\n",
    "young_people_df.groupby([\"ynotsch\", \"sex\"]).size()"
   ]
  },
  {
   "cell_type": "code",
   "execution_count": 32,
   "metadata": {},
   "outputs": [
    {
     "data": {
      "text/plain": [
       "Text(0.5, 1.0, '')"
      ]
     },
     "execution_count": 32,
     "metadata": {},
     "output_type": "execute_result"
    },
    {
     "data": {
      "image/png": "[encoded data removed]",
      "text/plain": [
       "<Figure size 576x576 with 1 Axes>"
      ]
     },
     "metadata": {
      "needs_background": "light"
     },
     "output_type": "display_data"
    }
   ],
   "source": [
    "young_people_df[young_people_df['ynotsch_full'] != -1].groupby(['ynotsch_full', 'sex']).size().unstack().plot(kind='barh', figsize=(8, 8))\n",
    "plt.xlabel('Count')\n",
    "plt.ylabel('Reason for Not Going to School')\n",
    "plt.title('')"
   ]
  },
  {
   "cell_type": "code",
   "execution_count": 33,
   "metadata": {},
   "outputs": [
    {
     "data": {
      "text/plain": [
       "array([nan, 'fishermen', 'Fishermen', ..., 'Steel Detailer',\n",
       "       'Post Master', 'Secndary Teacher'], dtype=object)"
      ]
     },
     "execution_count": 33,
     "metadata": {},
     "output_type": "execute_result"
    }
   ],
   "source": [
    "all_df['occup'].unique()"
   ]
  },
  {
   "cell_type": "code",
   "execution_count": 34,
   "metadata": {},
   "outputs": [
    {
     "data": {
      "text/plain": [
       "(663883, 86)"
      ]
     },
     "execution_count": 34,
     "metadata": {},
     "output_type": "execute_result"
    }
   ],
   "source": [
    "all_df.shape"
   ]
  },
  {
   "cell_type": "code",
   "execution_count": 35,
   "metadata": {},
   "outputs": [
    {
     "data": {
      "text/plain": [
       "(0.0, 663883.0, 0.0, 23053296.0)"
      ]
     },
     "execution_count": 35,
     "metadata": {},
     "output_type": "execute_result"
    },
    {
     "data": {
      "image/png": "[encoded data removed]",
      "text/plain": [
       "<Figure size 432x288 with 1 Axes>"
      ]
     },
     "metadata": {
      "needs_background": "light"
     },
     "output_type": "display_data"
    }
   ],
   "source": [
    "all_df.reset_index().plot.scatter(x = 'index', y = 'wagcshm')\n",
    "plt.axis([0,663883,0,23053296])"
   ]
  },
  {
   "cell_type": "code",
   "execution_count": 36,
   "metadata": {},
   "outputs": [
    {
     "data": {
      "text/html": [
       "<div>\n",
       "<style scoped>\n",
       "    .dataframe tbody tr th:only-of-type {\n",
       "        vertical-align: middle;\n",
       "    }\n",
       "\n",
       "    .dataframe tbody tr th {\n",
       "        vertical-align: top;\n",
       "    }\n",
       "\n",
       "    .dataframe thead th {\n",
       "        text-align: right;\n",
       "    }\n",
       "</style>\n",
       "<table border=\"1\" class=\"dataframe\">\n",
       "  <thead>\n",
       "    <tr style=\"text-align: right;\">\n",
       "      <th></th>\n",
       "      <th>wagcshm</th>\n",
       "      <th>region</th>\n",
       "      <th>occup</th>\n",
       "      <th>indust</th>\n",
       "    </tr>\n",
       "  </thead>\n",
       "  <tbody>\n",
       "    <tr>\n",
       "      <th>151984</th>\n",
       "      <td>2196000.0</td>\n",
       "      <td>Palawan</td>\n",
       "      <td>public school teacher</td>\n",
       "      <td>public primary/ elementary education</td>\n",
       "    </tr>\n",
       "    <tr>\n",
       "      <th>153854</th>\n",
       "      <td>2225800.0</td>\n",
       "      <td>Palawan</td>\n",
       "      <td>public school teacher</td>\n",
       "      <td>public primary/ elementary education</td>\n",
       "    </tr>\n",
       "    <tr>\n",
       "      <th>482356</th>\n",
       "      <td>2240000.0</td>\n",
       "      <td>Marinduque</td>\n",
       "      <td>teaching</td>\n",
       "      <td>government</td>\n",
       "    </tr>\n",
       "    <tr>\n",
       "      <th>411123</th>\n",
       "      <td>2267579.0</td>\n",
       "      <td>Palawan</td>\n",
       "      <td>teaching</td>\n",
       "      <td>balabac national high school</td>\n",
       "    </tr>\n",
       "    <tr>\n",
       "      <th>349339</th>\n",
       "      <td>2280000.0</td>\n",
       "      <td>Palawan</td>\n",
       "      <td>Agriculture</td>\n",
       "      <td>Rio Tuba Mining corporation</td>\n",
       "    </tr>\n",
       "    <tr>\n",
       "      <th>85972</th>\n",
       "      <td>2340000.0</td>\n",
       "      <td>Palawan</td>\n",
       "      <td>Midwife</td>\n",
       "      <td>Human health activities</td>\n",
       "    </tr>\n",
       "    <tr>\n",
       "      <th>108887</th>\n",
       "      <td>2352000.0</td>\n",
       "      <td>Palawan</td>\n",
       "      <td>Sari-Sari store</td>\n",
       "      <td>retail trade</td>\n",
       "    </tr>\n",
       "    <tr>\n",
       "      <th>330547</th>\n",
       "      <td>2400000.0</td>\n",
       "      <td>Palawan</td>\n",
       "      <td>business</td>\n",
       "      <td>tagdalungon</td>\n",
       "    </tr>\n",
       "    <tr>\n",
       "      <th>502490</th>\n",
       "      <td>2598008.0</td>\n",
       "      <td>Marinduque</td>\n",
       "      <td>Elementary Teacher</td>\n",
       "      <td>Lapu-lapu  Elementary</td>\n",
       "    </tr>\n",
       "    <tr>\n",
       "      <th>94271</th>\n",
       "      <td>2721600.0</td>\n",
       "      <td>Palawan</td>\n",
       "      <td>private company</td>\n",
       "      <td>private</td>\n",
       "    </tr>\n",
       "    <tr>\n",
       "      <th>502098</th>\n",
       "      <td>2860000.0</td>\n",
       "      <td>Marinduque</td>\n",
       "      <td>Principal</td>\n",
       "      <td>Gabaldon elementary school</td>\n",
       "    </tr>\n",
       "    <tr>\n",
       "      <th>336553</th>\n",
       "      <td>2932800.0</td>\n",
       "      <td>Palawan</td>\n",
       "      <td>helper, power plan</td>\n",
       "      <td>dcr company</td>\n",
       "    </tr>\n",
       "    <tr>\n",
       "      <th>633561</th>\n",
       "      <td>2990160.0</td>\n",
       "      <td>Marinduque</td>\n",
       "      <td>Member Service Officer</td>\n",
       "      <td>SSS,Boac</td>\n",
       "    </tr>\n",
       "    <tr>\n",
       "      <th>315645</th>\n",
       "      <td>3000000.0</td>\n",
       "      <td>Palawan</td>\n",
       "      <td>transportation</td>\n",
       "      <td>salvacion</td>\n",
       "    </tr>\n",
       "    <tr>\n",
       "      <th>663800</th>\n",
       "      <td>3000000.0</td>\n",
       "      <td>Marinduque</td>\n",
       "      <td>Director (ABS CBN)</td>\n",
       "      <td>ABSCBN</td>\n",
       "    </tr>\n",
       "    <tr>\n",
       "      <th>24044</th>\n",
       "      <td>3000000.0</td>\n",
       "      <td>Palawan</td>\n",
       "      <td>teacher,speed  class asmes</td>\n",
       "      <td>DEP ED</td>\n",
       "    </tr>\n",
       "    <tr>\n",
       "      <th>331715</th>\n",
       "      <td>3000000.0</td>\n",
       "      <td>Palawan</td>\n",
       "      <td>ofw</td>\n",
       "      <td>taiwan</td>\n",
       "    </tr>\n",
       "    <tr>\n",
       "      <th>331724</th>\n",
       "      <td>3336000.0</td>\n",
       "      <td>Palawan</td>\n",
       "      <td>fishermen</td>\n",
       "      <td>sea</td>\n",
       "    </tr>\n",
       "    <tr>\n",
       "      <th>31787</th>\n",
       "      <td>3480000.0</td>\n",
       "      <td>Palawan</td>\n",
       "      <td>policeman</td>\n",
       "      <td>law enforcer</td>\n",
       "    </tr>\n",
       "    <tr>\n",
       "      <th>376643</th>\n",
       "      <td>3582000.0</td>\n",
       "      <td>Palawan</td>\n",
       "      <td>brgy.treasurer</td>\n",
       "      <td>bulalacao</td>\n",
       "    </tr>\n",
       "    <tr>\n",
       "      <th>481456</th>\n",
       "      <td>3588000.0</td>\n",
       "      <td>Marinduque</td>\n",
       "      <td>elementary teacher</td>\n",
       "      <td>government</td>\n",
       "    </tr>\n",
       "    <tr>\n",
       "      <th>218410</th>\n",
       "      <td>3840000.0</td>\n",
       "      <td>Palawan</td>\n",
       "      <td>teacher in elementary</td>\n",
       "      <td>government employee</td>\n",
       "    </tr>\n",
       "    <tr>\n",
       "      <th>139974</th>\n",
       "      <td>3960000.0</td>\n",
       "      <td>Palawan</td>\n",
       "      <td>Housekeeper</td>\n",
       "      <td>private</td>\n",
       "    </tr>\n",
       "    <tr>\n",
       "      <th>172057</th>\n",
       "      <td>4320000.0</td>\n",
       "      <td>Palawan</td>\n",
       "      <td>buy and sell of rice and goods</td>\n",
       "      <td>poblacion quezon palawan</td>\n",
       "    </tr>\n",
       "    <tr>\n",
       "      <th>246478</th>\n",
       "      <td>4680000.0</td>\n",
       "      <td>Palawan</td>\n",
       "      <td>ceman</td>\n",
       "      <td>rvl fishing corporation</td>\n",
       "    </tr>\n",
       "    <tr>\n",
       "      <th>445878</th>\n",
       "      <td>5000000.0</td>\n",
       "      <td>Palawan</td>\n",
       "      <td>volunteer english teacher(language)</td>\n",
       "      <td>bubusawin annex high school, bubusawin, apuraw...</td>\n",
       "    </tr>\n",
       "    <tr>\n",
       "      <th>325352</th>\n",
       "      <td>5200000.0</td>\n",
       "      <td>Palawan</td>\n",
       "      <td>fishing</td>\n",
       "      <td>none</td>\n",
       "    </tr>\n",
       "    <tr>\n",
       "      <th>563837</th>\n",
       "      <td>6240000.0</td>\n",
       "      <td>Marinduque</td>\n",
       "      <td>vendor</td>\n",
       "      <td>vending</td>\n",
       "    </tr>\n",
       "    <tr>\n",
       "      <th>327273</th>\n",
       "      <td>6240000.0</td>\n",
       "      <td>Palawan</td>\n",
       "      <td>store</td>\n",
       "      <td>none</td>\n",
       "    </tr>\n",
       "    <tr>\n",
       "      <th>257538</th>\n",
       "      <td>6500000.0</td>\n",
       "      <td>Palawan</td>\n",
       "      <td>sari-sari store</td>\n",
       "      <td>salvador sari-sari store/barangay ilian dumaran</td>\n",
       "    </tr>\n",
       "    <tr>\n",
       "      <th>191195</th>\n",
       "      <td>6720000.0</td>\n",
       "      <td>Palawan</td>\n",
       "      <td>Manager / family business</td>\n",
       "      <td>warehouse</td>\n",
       "    </tr>\n",
       "    <tr>\n",
       "      <th>284412</th>\n",
       "      <td>6720000.0</td>\n",
       "      <td>Palawan</td>\n",
       "      <td>seaman</td>\n",
       "      <td>overseas seaman</td>\n",
       "    </tr>\n",
       "    <tr>\n",
       "      <th>284417</th>\n",
       "      <td>6720000.0</td>\n",
       "      <td>Palawan</td>\n",
       "      <td>seaman</td>\n",
       "      <td>overseas seaman</td>\n",
       "    </tr>\n",
       "    <tr>\n",
       "      <th>544307</th>\n",
       "      <td>7200000.0</td>\n",
       "      <td>Marinduque</td>\n",
       "      <td>vendor (general merchadise)</td>\n",
       "      <td>Private</td>\n",
       "    </tr>\n",
       "    <tr>\n",
       "      <th>147584</th>\n",
       "      <td>7200000.0</td>\n",
       "      <td>Palawan</td>\n",
       "      <td>Seaman</td>\n",
       "      <td>sea and coastal passenger water transport</td>\n",
       "    </tr>\n",
       "    <tr>\n",
       "      <th>330554</th>\n",
       "      <td>7200000.0</td>\n",
       "      <td>Palawan</td>\n",
       "      <td>deliver of gasoline</td>\n",
       "      <td>tagdalungon</td>\n",
       "    </tr>\n",
       "    <tr>\n",
       "      <th>93613</th>\n",
       "      <td>8640000.0</td>\n",
       "      <td>Palawan</td>\n",
       "      <td>Philippine Marines service</td>\n",
       "      <td>public industry</td>\n",
       "    </tr>\n",
       "    <tr>\n",
       "      <th>325061</th>\n",
       "      <td>8640000.0</td>\n",
       "      <td>Palawan</td>\n",
       "      <td>Construction</td>\n",
       "      <td>act</td>\n",
       "    </tr>\n",
       "    <tr>\n",
       "      <th>204959</th>\n",
       "      <td>10069200.0</td>\n",
       "      <td>Palawan</td>\n",
       "      <td>municipal employee</td>\n",
       "      <td>municipal government</td>\n",
       "    </tr>\n",
       "    <tr>\n",
       "      <th>633620</th>\n",
       "      <td>10411788.0</td>\n",
       "      <td>Marinduque</td>\n",
       "      <td>Mechanic Light and Heavy and Own Business Rest...</td>\n",
       "      <td>Government</td>\n",
       "    </tr>\n",
       "    <tr>\n",
       "      <th>327271</th>\n",
       "      <td>12480000.0</td>\n",
       "      <td>Palawan</td>\n",
       "      <td>bayer</td>\n",
       "      <td>none</td>\n",
       "    </tr>\n",
       "    <tr>\n",
       "      <th>173061</th>\n",
       "      <td>14400000.0</td>\n",
       "      <td>Palawan</td>\n",
       "      <td>cleric</td>\n",
       "      <td>bgy.alfonso</td>\n",
       "    </tr>\n",
       "    <tr>\n",
       "      <th>327274</th>\n",
       "      <td>14401248.0</td>\n",
       "      <td>Palawan</td>\n",
       "      <td>Driver</td>\n",
       "      <td>none</td>\n",
       "    </tr>\n",
       "    <tr>\n",
       "      <th>93612</th>\n",
       "      <td>15120000.0</td>\n",
       "      <td>Palawan</td>\n",
       "      <td>division science coordinator</td>\n",
       "      <td>private industry</td>\n",
       "    </tr>\n",
       "    <tr>\n",
       "      <th>200730</th>\n",
       "      <td>22200000.0</td>\n",
       "      <td>Palawan</td>\n",
       "      <td>store owner</td>\n",
       "      <td>sari-sari store</td>\n",
       "    </tr>\n",
       "    <tr>\n",
       "      <th>633662</th>\n",
       "      <td>23053296.0</td>\n",
       "      <td>Marinduque</td>\n",
       "      <td>Administrative Assistant ll</td>\n",
       "      <td>Government</td>\n",
       "    </tr>\n",
       "    <tr>\n",
       "      <th>415998</th>\n",
       "      <td>106008000.0</td>\n",
       "      <td>Palawan</td>\n",
       "      <td>Administrative Aide II</td>\n",
       "      <td>Local Government Unit</td>\n",
       "    </tr>\n",
       "    <tr>\n",
       "      <th>328283</th>\n",
       "      <td>144400000.0</td>\n",
       "      <td>Palawan</td>\n",
       "      <td>seaman</td>\n",
       "      <td>None</td>\n",
       "    </tr>\n",
       "    <tr>\n",
       "      <th>90207</th>\n",
       "      <td>413392175.0</td>\n",
       "      <td>Palawan</td>\n",
       "      <td>store manager/owner</td>\n",
       "      <td>trading industry</td>\n",
       "    </tr>\n",
       "    <tr>\n",
       "      <th>624327</th>\n",
       "      <td>NaN</td>\n",
       "      <td>Marinduque</td>\n",
       "      <td>Auto Mechanic</td>\n",
       "      <td>internal combustion engine</td>\n",
       "    </tr>\n",
       "  </tbody>\n",
       "</table>\n",
       "</div>"
      ],
      "text/plain": [
       "            wagcshm      region  \\\n",
       "151984    2196000.0     Palawan   \n",
       "153854    2225800.0     Palawan   \n",
       "482356    2240000.0  Marinduque   \n",
       "411123    2267579.0     Palawan   \n",
       "349339    2280000.0     Palawan   \n",
       "85972     2340000.0     Palawan   \n",
       "108887    2352000.0     Palawan   \n",
       "330547    2400000.0     Palawan   \n",
       "502490    2598008.0  Marinduque   \n",
       "94271     2721600.0     Palawan   \n",
       "502098    2860000.0  Marinduque   \n",
       "336553    2932800.0     Palawan   \n",
       "633561    2990160.0  Marinduque   \n",
       "315645    3000000.0     Palawan   \n",
       "663800    3000000.0  Marinduque   \n",
       "24044     3000000.0     Palawan   \n",
       "331715    3000000.0     Palawan   \n",
       "331724    3336000.0     Palawan   \n",
       "31787     3480000.0     Palawan   \n",
       "376643    3582000.0     Palawan   \n",
       "481456    3588000.0  Marinduque   \n",
       "218410    3840000.0     Palawan   \n",
       "139974    3960000.0     Palawan   \n",
       "172057    4320000.0     Palawan   \n",
       "246478    4680000.0     Palawan   \n",
       "445878    5000000.0     Palawan   \n",
       "325352    5200000.0     Palawan   \n",
       "563837    6240000.0  Marinduque   \n",
       "327273    6240000.0     Palawan   \n",
       "257538    6500000.0     Palawan   \n",
       "191195    6720000.0     Palawan   \n",
       "284412    6720000.0     Palawan   \n",
       "284417    6720000.0     Palawan   \n",
       "544307    7200000.0  Marinduque   \n",
       "147584    7200000.0     Palawan   \n",
       "330554    7200000.0     Palawan   \n",
       "93613     8640000.0     Palawan   \n",
       "325061    8640000.0     Palawan   \n",
       "204959   10069200.0     Palawan   \n",
       "633620   10411788.0  Marinduque   \n",
       "327271   12480000.0     Palawan   \n",
       "173061   14400000.0     Palawan   \n",
       "327274   14401248.0     Palawan   \n",
       "93612    15120000.0     Palawan   \n",
       "200730   22200000.0     Palawan   \n",
       "633662   23053296.0  Marinduque   \n",
       "415998  106008000.0     Palawan   \n",
       "328283  144400000.0     Palawan   \n",
       "90207   413392175.0     Palawan   \n",
       "624327          NaN  Marinduque   \n",
       "\n",
       "                                                    occup  \\\n",
       "151984                              public school teacher   \n",
       "153854                              public school teacher   \n",
       "482356                                           teaching   \n",
       "411123                                           teaching   \n",
       "349339                                        Agriculture   \n",
       "85972                                             Midwife   \n",
       "108887                                    Sari-Sari store   \n",
       "330547                                           business   \n",
       "502490                                 Elementary Teacher   \n",
       "94271                                     private company   \n",
       "502098                                          Principal   \n",
       "336553                                 helper, power plan   \n",
       "633561                             Member Service Officer   \n",
       "315645                                     transportation   \n",
       "663800                                 Director (ABS CBN)   \n",
       "24044                          teacher,speed  class asmes   \n",
       "331715                                                ofw   \n",
       "331724                                          fishermen   \n",
       "31787                                           policeman   \n",
       "376643                                     brgy.treasurer   \n",
       "481456                                 elementary teacher   \n",
       "218410                              teacher in elementary   \n",
       "139974                                        Housekeeper   \n",
       "172057                     buy and sell of rice and goods   \n",
       "246478                                              ceman   \n",
       "445878                volunteer english teacher(language)   \n",
       "325352                                            fishing   \n",
       "563837                                             vendor   \n",
       "327273                                              store   \n",
       "257538                                    sari-sari store   \n",
       "191195                          Manager / family business   \n",
       "284412                                             seaman   \n",
       "284417                                             seaman   \n",
       "544307                        vendor (general merchadise)   \n",
       "147584                                             Seaman   \n",
       "330554                                deliver of gasoline   \n",
       "93613                          Philippine Marines service   \n",
       "325061                                       Construction   \n",
       "204959                                 municipal employee   \n",
       "633620  Mechanic Light and Heavy and Own Business Rest...   \n",
       "327271                                              bayer   \n",
       "173061                                             cleric   \n",
       "327274                                             Driver   \n",
       "93612                        division science coordinator   \n",
       "200730                                        store owner   \n",
       "633662                        Administrative Assistant ll   \n",
       "415998                             Administrative Aide II   \n",
       "328283                                             seaman   \n",
       "90207                                 store manager/owner   \n",
       "624327                                      Auto Mechanic   \n",
       "\n",
       "                                                   indust  \n",
       "151984               public primary/ elementary education  \n",
       "153854               public primary/ elementary education  \n",
       "482356                                         government  \n",
       "411123                       balabac national high school  \n",
       "349339                        Rio Tuba Mining corporation  \n",
       "85972                             Human health activities  \n",
       "108887                                       retail trade  \n",
       "330547                                        tagdalungon  \n",
       "502490                              Lapu-lapu  Elementary  \n",
       "94271                                             private  \n",
       "502098                         Gabaldon elementary school  \n",
       "336553                                        dcr company  \n",
       "633561                                           SSS,Boac  \n",
       "315645                                          salvacion  \n",
       "663800                                             ABSCBN  \n",
       "24044                                              DEP ED  \n",
       "331715                                             taiwan  \n",
       "331724                                                sea  \n",
       "31787                                        law enforcer  \n",
       "376643                                          bulalacao  \n",
       "481456                                         government  \n",
       "218410                                government employee  \n",
       "139974                                            private  \n",
       "172057                           poblacion quezon palawan  \n",
       "246478                            rvl fishing corporation  \n",
       "445878  bubusawin annex high school, bubusawin, apuraw...  \n",
       "325352                                               none  \n",
       "563837                                            vending  \n",
       "327273                                               none  \n",
       "257538    salvador sari-sari store/barangay ilian dumaran  \n",
       "191195                                          warehouse  \n",
       "284412                                    overseas seaman  \n",
       "284417                                    overseas seaman  \n",
       "544307                                            Private  \n",
       "147584          sea and coastal passenger water transport  \n",
       "330554                                        tagdalungon  \n",
       "93613                                     public industry  \n",
       "325061                                                act  \n",
       "204959                               municipal government  \n",
       "633620                                         Government  \n",
       "327271                                               none  \n",
       "173061                                        bgy.alfonso  \n",
       "327274                                               none  \n",
       "93612                                    private industry  \n",
       "200730                                    sari-sari store  \n",
       "633662                                         Government  \n",
       "415998                              Local Government Unit  \n",
       "328283                                               None  \n",
       "90207                                    trading industry  \n",
       "624327                         internal combustion engine  "
      ]
     },
     "execution_count": 36,
     "metadata": {},
     "output_type": "execute_result"
    }
   ],
   "source": [
    "all_df.sort_values('wagcshm')[['wagcshm', 'region', 'occup', 'indust']].tail(50)"
   ]
  },
  {
   "cell_type": "code",
   "execution_count": 37,
   "metadata": {},
   "outputs": [
    {
     "data": {
      "text/plain": [
       "6      17418\n",
       "4      17132\n",
       "14     16905\n",
       "7      16888\n",
       "5      16746\n",
       "       ...  \n",
       "119        1\n",
       "117        1\n",
       "108        1\n",
       "105        1\n",
       "961        1\n",
       "Name: age_yr, Length: 133, dtype: int64"
      ]
     },
     "execution_count": 37,
     "metadata": {},
     "output_type": "execute_result"
    }
   ],
   "source": [
    "all_df['age_yr'].value_counts()"
   ]
  },
  {
   "cell_type": "code",
   "execution_count": 38,
   "metadata": {},
   "outputs": [
    {
     "data": {
      "text/plain": [
       "<matplotlib.axes._subplots.AxesSubplot at 0x23c01f63e20>"
      ]
     },
     "execution_count": 38,
     "metadata": {},
     "output_type": "execute_result"
    },
    {
     "data": {
      "image/png": "[encoded data removed]",
      "text/plain": [
       "<Figure size 432x288 with 1 Axes>"
      ]
     },
     "metadata": {
      "needs_background": "light"
     },
     "output_type": "display_data"
    }
   ],
   "source": [
    "all_df.reset_index().plot.scatter(x = 'index', y = 'age_yr')"
   ]
  },
  {
   "cell_type": "code",
   "execution_count": 39,
   "metadata": {},
   "outputs": [
    {
     "data": {
      "text/plain": [
       "612387    100\n",
       "38564     100\n",
       "274691    100\n",
       "430223    100\n",
       "352916    100\n",
       "344551    100\n",
       "434506    100\n",
       "189808    100\n",
       "416590    101\n",
       "215149    101\n",
       "20566     102\n",
       "59103     102\n",
       "339269    102\n",
       "95285     103\n",
       "143249    103\n",
       "269820    104\n",
       "38751     104\n",
       "30459     104\n",
       "284201    105\n",
       "636706    108\n",
       "375211    113\n",
       "409857    113\n",
       "224821    117\n",
       "79734     119\n",
       "386878    121\n",
       "379071    125\n",
       "330357    126\n",
       "350052    129\n",
       "243909    130\n",
       "190761    136\n",
       "511586    146\n",
       "388241    148\n",
       "378995    238\n",
       "322254    319\n",
       "117623    321\n",
       "383780    325\n",
       "361957    346\n",
       "233445    346\n",
       "466060    354\n",
       "380757    355\n",
       "382341    355\n",
       "182077    361\n",
       "469267    369\n",
       "416659    369\n",
       "226332    381\n",
       "172461    925\n",
       "414833    927\n",
       "377107    953\n",
       "256153    957\n",
       "479404    961\n",
       "Name: age_yr, dtype: int32"
      ]
     },
     "execution_count": 39,
     "metadata": {},
     "output_type": "execute_result"
    }
   ],
   "source": [
    "all_df.sort_values('age_yr')['age_yr'].tail(50)"
   ]
  },
  {
   "cell_type": "code",
   "execution_count": 41,
   "metadata": {},
   "outputs": [],
   "source": [
    "all_df['age_2022'] = all_df['age_yr'] + 6 + 2"
   ]
  },
  {
   "cell_type": "code",
   "execution_count": 42,
   "metadata": {},
   "outputs": [
    {
     "data": {
      "text/plain": [
       "region\n",
       "Marinduque    159423\n",
       "Palawan       342710\n",
       "dtype: int64"
      ]
     },
     "execution_count": 42,
     "metadata": {},
     "output_type": "execute_result"
    }
   ],
   "source": [
    "all_df[all_df['age_2022'] >= 18].groupby('region').size()"
   ]
  },
  {
   "cell_type": "markdown",
   "metadata": {},
   "source": [
    "Suppose that Commission on Elections wants to know how many new voters to expect in the 2022 Philippine elections."
   ]
  },
  {
   "cell_type": "markdown",
   "metadata": {},
   "source": [
    "We filter out the data whose age are greater than 16, because an elections happened in 2016 and the data was collected on 2014."
   ]
  },
  {
   "cell_type": "code",
   "execution_count": 58,
   "metadata": {},
   "outputs": [],
   "source": [
    "new_voters = all_df[all_df['age_yr'] < 16]"
   ]
  },
  {
   "cell_type": "code",
   "execution_count": 59,
   "metadata": {},
   "outputs": [
    {
     "name": "stderr",
     "output_type": "stream",
     "text": [
      "<ipython-input-59-5b77879a648c>:1: SettingWithCopyWarning: \n",
      "A value is trying to be set on a copy of a slice from a DataFrame.\n",
      "Try using .loc[row_indexer,col_indexer] = value instead\n",
      "\n",
      "See the caveats in the documentation: https://pandas.pydata.org/pandas-docs/stable/user_guide/indexing.html#returning-a-view-versus-a-copy\n",
      "  new_voters['age_2022'] = new_voters['age_yr'] + 6 + 2\n"
     ]
    }
   ],
   "source": [
    "new_voters['age_2022'] = new_voters['age_yr'] + 6 + 2"
   ]
  },
  {
   "cell_type": "code",
   "execution_count": 60,
   "metadata": {},
   "outputs": [
    {
     "data": {
      "text/plain": [
       "4         19\n",
       "5         11\n",
       "8         20\n",
       "9         16\n",
       "10        12\n",
       "          ..\n",
       "663870    20\n",
       "663875    23\n",
       "663880    23\n",
       "663881    21\n",
       "663882    16\n",
       "Name: age_2022, Length: 259033, dtype: int32"
      ]
     },
     "execution_count": 60,
     "metadata": {},
     "output_type": "execute_result"
    }
   ],
   "source": [
    "new_voters['age_2022']"
   ]
  },
  {
   "cell_type": "code",
   "execution_count": 61,
   "metadata": {},
   "outputs": [],
   "source": [
    "new_voters = new_voters[new_voters['age_2022'] >= 18]"
   ]
  },
  {
   "cell_type": "code",
   "execution_count": 62,
   "metadata": {},
   "outputs": [
    {
     "data": {
      "text/html": [
       "<div>\n",
       "<style scoped>\n",
       "    .dataframe tbody tr th:only-of-type {\n",
       "        vertical-align: middle;\n",
       "    }\n",
       "\n",
       "    .dataframe tbody tr th {\n",
       "        vertical-align: top;\n",
       "    }\n",
       "\n",
       "    .dataframe thead th {\n",
       "        text-align: right;\n",
       "    }\n",
       "</style>\n",
       "<table border=\"1\" class=\"dataframe\">\n",
       "  <thead>\n",
       "    <tr style=\"text-align: right;\">\n",
       "      <th></th>\n",
       "      <th>main.id</th>\n",
       "      <th>memno</th>\n",
       "      <th>nucfam</th>\n",
       "      <th>reln</th>\n",
       "      <th>reln_o</th>\n",
       "      <th>sex</th>\n",
       "      <th>birth_date</th>\n",
       "      <th>age</th>\n",
       "      <th>age_yr</th>\n",
       "      <th>birth_reg</th>\n",
       "      <th>...</th>\n",
       "      <th>minjurloc</th>\n",
       "      <th>mcarnaploc</th>\n",
       "      <th>mcattrustlloc</th>\n",
       "      <th>mocrimloc</th>\n",
       "      <th>mnutind</th>\n",
       "      <th>mnutind_date</th>\n",
       "      <th>region</th>\n",
       "      <th>educal_full</th>\n",
       "      <th>ynotsch_full</th>\n",
       "      <th>age_2022</th>\n",
       "    </tr>\n",
       "  </thead>\n",
       "  <tbody>\n",
       "    <tr>\n",
       "      <th>4</th>\n",
       "      <td>69279</td>\n",
       "      <td>19</td>\n",
       "      <td>1</td>\n",
       "      <td>3</td>\n",
       "      <td>NaN</td>\n",
       "      <td>male</td>\n",
       "      <td>10/8/2002</td>\n",
       "      <td>11.66324435</td>\n",
       "      <td>11</td>\n",
       "      <td>1</td>\n",
       "      <td>...</td>\n",
       "      <td>NaN</td>\n",
       "      <td>NaN</td>\n",
       "      <td>NaN</td>\n",
       "      <td>NaN</td>\n",
       "      <td>NaN</td>\n",
       "      <td>NaN</td>\n",
       "      <td>Palawan</td>\n",
       "      <td>Grade 5</td>\n",
       "      <td>NaN</td>\n",
       "      <td>19</td>\n",
       "    </tr>\n",
       "    <tr>\n",
       "      <th>8</th>\n",
       "      <td>69280</td>\n",
       "      <td>3</td>\n",
       "      <td>1</td>\n",
       "      <td>3</td>\n",
       "      <td>NaN</td>\n",
       "      <td>female</td>\n",
       "      <td>5/14/2002</td>\n",
       "      <td>12.06570842</td>\n",
       "      <td>12</td>\n",
       "      <td>1</td>\n",
       "      <td>...</td>\n",
       "      <td>NaN</td>\n",
       "      <td>NaN</td>\n",
       "      <td>NaN</td>\n",
       "      <td>NaN</td>\n",
       "      <td>NaN</td>\n",
       "      <td>NaN</td>\n",
       "      <td>Palawan</td>\n",
       "      <td>Grade 6</td>\n",
       "      <td>NaN</td>\n",
       "      <td>20</td>\n",
       "    </tr>\n",
       "    <tr>\n",
       "      <th>19</th>\n",
       "      <td>69282</td>\n",
       "      <td>5</td>\n",
       "      <td>1</td>\n",
       "      <td>3</td>\n",
       "      <td>NaN</td>\n",
       "      <td>male</td>\n",
       "      <td>6/20/2000</td>\n",
       "      <td>13.96303901</td>\n",
       "      <td>13</td>\n",
       "      <td>1</td>\n",
       "      <td>...</td>\n",
       "      <td>NaN</td>\n",
       "      <td>NaN</td>\n",
       "      <td>NaN</td>\n",
       "      <td>NaN</td>\n",
       "      <td>NaN</td>\n",
       "      <td>NaN</td>\n",
       "      <td>Palawan</td>\n",
       "      <td>Grade 5</td>\n",
       "      <td>NaN</td>\n",
       "      <td>21</td>\n",
       "    </tr>\n",
       "    <tr>\n",
       "      <th>20</th>\n",
       "      <td>69282</td>\n",
       "      <td>6</td>\n",
       "      <td>1</td>\n",
       "      <td>3</td>\n",
       "      <td>NaN</td>\n",
       "      <td>female</td>\n",
       "      <td>7/23/2003</td>\n",
       "      <td>10.87474333</td>\n",
       "      <td>10</td>\n",
       "      <td>1</td>\n",
       "      <td>...</td>\n",
       "      <td>NaN</td>\n",
       "      <td>NaN</td>\n",
       "      <td>NaN</td>\n",
       "      <td>NaN</td>\n",
       "      <td>NaN</td>\n",
       "      <td>NaN</td>\n",
       "      <td>Palawan</td>\n",
       "      <td>Grade 5</td>\n",
       "      <td>NaN</td>\n",
       "      <td>18</td>\n",
       "    </tr>\n",
       "    <tr>\n",
       "      <th>27</th>\n",
       "      <td>69283</td>\n",
       "      <td>5</td>\n",
       "      <td>1</td>\n",
       "      <td>3</td>\n",
       "      <td>NaN</td>\n",
       "      <td>female</td>\n",
       "      <td>3/24/2001</td>\n",
       "      <td>13.20465435</td>\n",
       "      <td>13</td>\n",
       "      <td>1</td>\n",
       "      <td>...</td>\n",
       "      <td>NaN</td>\n",
       "      <td>NaN</td>\n",
       "      <td>NaN</td>\n",
       "      <td>NaN</td>\n",
       "      <td>NaN</td>\n",
       "      <td>NaN</td>\n",
       "      <td>Palawan</td>\n",
       "      <td>Grade 6</td>\n",
       "      <td>NaN</td>\n",
       "      <td>21</td>\n",
       "    </tr>\n",
       "    <tr>\n",
       "      <th>...</th>\n",
       "      <td>...</td>\n",
       "      <td>...</td>\n",
       "      <td>...</td>\n",
       "      <td>...</td>\n",
       "      <td>...</td>\n",
       "      <td>...</td>\n",
       "      <td>...</td>\n",
       "      <td>...</td>\n",
       "      <td>...</td>\n",
       "      <td>...</td>\n",
       "      <td>...</td>\n",
       "      <td>...</td>\n",
       "      <td>...</td>\n",
       "      <td>...</td>\n",
       "      <td>...</td>\n",
       "      <td>...</td>\n",
       "      <td>...</td>\n",
       "      <td>...</td>\n",
       "      <td>...</td>\n",
       "      <td>...</td>\n",
       "      <td>...</td>\n",
       "    </tr>\n",
       "    <tr>\n",
       "      <th>663869</th>\n",
       "      <td>2590164</td>\n",
       "      <td>5</td>\n",
       "      <td>1</td>\n",
       "      <td>3</td>\n",
       "      <td>NaN</td>\n",
       "      <td>male</td>\n",
       "      <td>8/8/2000</td>\n",
       "      <td>NaN</td>\n",
       "      <td>14</td>\n",
       "      <td>1</td>\n",
       "      <td>...</td>\n",
       "      <td>NaN</td>\n",
       "      <td>NaN</td>\n",
       "      <td>NaN</td>\n",
       "      <td>NaN</td>\n",
       "      <td>NaN</td>\n",
       "      <td>NaN</td>\n",
       "      <td>Marinduque</td>\n",
       "      <td>Grade 8</td>\n",
       "      <td>NaN</td>\n",
       "      <td>22</td>\n",
       "    </tr>\n",
       "    <tr>\n",
       "      <th>663870</th>\n",
       "      <td>2590164</td>\n",
       "      <td>6</td>\n",
       "      <td>1</td>\n",
       "      <td>3</td>\n",
       "      <td>NaN</td>\n",
       "      <td>female</td>\n",
       "      <td>6/12/2003</td>\n",
       "      <td>NaN</td>\n",
       "      <td>12</td>\n",
       "      <td>1</td>\n",
       "      <td>...</td>\n",
       "      <td>NaN</td>\n",
       "      <td>NaN</td>\n",
       "      <td>NaN</td>\n",
       "      <td>NaN</td>\n",
       "      <td>NaN</td>\n",
       "      <td>NaN</td>\n",
       "      <td>Marinduque</td>\n",
       "      <td>Grade 5</td>\n",
       "      <td>NaN</td>\n",
       "      <td>20</td>\n",
       "    </tr>\n",
       "    <tr>\n",
       "      <th>663875</th>\n",
       "      <td>2590165</td>\n",
       "      <td>5</td>\n",
       "      <td>2</td>\n",
       "      <td>5</td>\n",
       "      <td>NaN</td>\n",
       "      <td>female</td>\n",
       "      <td>9/25/1999</td>\n",
       "      <td>NaN</td>\n",
       "      <td>15</td>\n",
       "      <td>1</td>\n",
       "      <td>...</td>\n",
       "      <td>NaN</td>\n",
       "      <td>NaN</td>\n",
       "      <td>NaN</td>\n",
       "      <td>NaN</td>\n",
       "      <td>NaN</td>\n",
       "      <td>NaN</td>\n",
       "      <td>Marinduque</td>\n",
       "      <td>Grade 9</td>\n",
       "      <td>NaN</td>\n",
       "      <td>23</td>\n",
       "    </tr>\n",
       "    <tr>\n",
       "      <th>663880</th>\n",
       "      <td>2590166</td>\n",
       "      <td>5</td>\n",
       "      <td>1</td>\n",
       "      <td>3</td>\n",
       "      <td>NaN</td>\n",
       "      <td>male</td>\n",
       "      <td>12/10/1999</td>\n",
       "      <td>NaN</td>\n",
       "      <td>15</td>\n",
       "      <td>1</td>\n",
       "      <td>...</td>\n",
       "      <td>NaN</td>\n",
       "      <td>NaN</td>\n",
       "      <td>NaN</td>\n",
       "      <td>NaN</td>\n",
       "      <td>NaN</td>\n",
       "      <td>NaN</td>\n",
       "      <td>Marinduque</td>\n",
       "      <td>Grade 9</td>\n",
       "      <td>NaN</td>\n",
       "      <td>23</td>\n",
       "    </tr>\n",
       "    <tr>\n",
       "      <th>663881</th>\n",
       "      <td>2590166</td>\n",
       "      <td>6</td>\n",
       "      <td>1</td>\n",
       "      <td>3</td>\n",
       "      <td>NaN</td>\n",
       "      <td>male</td>\n",
       "      <td>5/16/2002</td>\n",
       "      <td>NaN</td>\n",
       "      <td>13</td>\n",
       "      <td>1</td>\n",
       "      <td>...</td>\n",
       "      <td>NaN</td>\n",
       "      <td>NaN</td>\n",
       "      <td>NaN</td>\n",
       "      <td>NaN</td>\n",
       "      <td>NaN</td>\n",
       "      <td>NaN</td>\n",
       "      <td>Marinduque</td>\n",
       "      <td>Grade 7</td>\n",
       "      <td>NaN</td>\n",
       "      <td>21</td>\n",
       "    </tr>\n",
       "  </tbody>\n",
       "</table>\n",
       "<p>97283 rows × 87 columns</p>\n",
       "</div>"
      ],
      "text/plain": [
       "        main.id memno nucfam reln reln_o     sex  birth_date          age  \\\n",
       "4         69279    19      1    3    NaN    male   10/8/2002  11.66324435   \n",
       "8         69280     3      1    3    NaN  female   5/14/2002  12.06570842   \n",
       "19        69282     5      1    3    NaN    male   6/20/2000  13.96303901   \n",
       "20        69282     6      1    3    NaN  female   7/23/2003  10.87474333   \n",
       "27        69283     5      1    3    NaN  female   3/24/2001  13.20465435   \n",
       "...         ...   ...    ...  ...    ...     ...         ...          ...   \n",
       "663869  2590164     5      1    3    NaN    male    8/8/2000          NaN   \n",
       "663870  2590164     6      1    3    NaN  female   6/12/2003          NaN   \n",
       "663875  2590165     5      2    5    NaN  female   9/25/1999          NaN   \n",
       "663880  2590166     5      1    3    NaN    male  12/10/1999          NaN   \n",
       "663881  2590166     6      1    3    NaN    male   5/16/2002          NaN   \n",
       "\n",
       "        age_yr birth_reg  ... minjurloc mcarnaploc mcattrustlloc mocrimloc  \\\n",
       "4           11         1  ...       NaN        NaN           NaN       NaN   \n",
       "8           12         1  ...       NaN        NaN           NaN       NaN   \n",
       "19          13         1  ...       NaN        NaN           NaN       NaN   \n",
       "20          10         1  ...       NaN        NaN           NaN       NaN   \n",
       "27          13         1  ...       NaN        NaN           NaN       NaN   \n",
       "...        ...       ...  ...       ...        ...           ...       ...   \n",
       "663869      14         1  ...       NaN        NaN           NaN       NaN   \n",
       "663870      12         1  ...       NaN        NaN           NaN       NaN   \n",
       "663875      15         1  ...       NaN        NaN           NaN       NaN   \n",
       "663880      15         1  ...       NaN        NaN           NaN       NaN   \n",
       "663881      13         1  ...       NaN        NaN           NaN       NaN   \n",
       "\n",
       "       mnutind mnutind_date      region educal_full ynotsch_full age_2022  \n",
       "4          NaN          NaN     Palawan     Grade 5          NaN       19  \n",
       "8          NaN          NaN     Palawan     Grade 6          NaN       20  \n",
       "19         NaN          NaN     Palawan     Grade 5          NaN       21  \n",
       "20         NaN          NaN     Palawan     Grade 5          NaN       18  \n",
       "27         NaN          NaN     Palawan     Grade 6          NaN       21  \n",
       "...        ...          ...         ...         ...          ...      ...  \n",
       "663869     NaN          NaN  Marinduque     Grade 8          NaN       22  \n",
       "663870     NaN          NaN  Marinduque     Grade 5          NaN       20  \n",
       "663875     NaN          NaN  Marinduque     Grade 9          NaN       23  \n",
       "663880     NaN          NaN  Marinduque     Grade 9          NaN       23  \n",
       "663881     NaN          NaN  Marinduque     Grade 7          NaN       21  \n",
       "\n",
       "[97283 rows x 87 columns]"
      ]
     },
     "execution_count": 62,
     "metadata": {},
     "output_type": "execute_result"
    }
   ],
   "source": [
    "new_voters"
   ]
  },
  {
   "cell_type": "code",
   "execution_count": 63,
   "metadata": {},
   "outputs": [
    {
     "data": {
      "text/plain": [
       "region\n",
       "Marinduque    30421\n",
       "Palawan       66862\n",
       "dtype: int64"
      ]
     },
     "execution_count": 63,
     "metadata": {},
     "output_type": "execute_result"
    }
   ],
   "source": [
    "new_voters.groupby('region').size()"
   ]
  },
  {
   "cell_type": "code",
   "execution_count": null,
   "metadata": {},
   "outputs": [],
   "source": []
  }
 ],
 "metadata": {
  "colab": {
   "name": "Untitled0.ipynb",
   "provenance": []
  },
  "kernelspec": {
   "display_name": "Python 3",
   "language": "python",
   "name": "python3"
  },
  "language_info": {
   "codemirror_mode": {
    "name": "ipython",
    "version": 3
   },
   "file_extension": ".py",
   "mimetype": "text/x-python",
   "name": "python",
   "nbconvert_exporter": "python",
   "pygments_lexer": "ipython3",
   "version": "3.8.3"
  }
 },
 "nbformat": 4,
 "nbformat_minor": 1
}
